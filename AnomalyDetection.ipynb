{
 "cells": [
  {
   "cell_type": "markdown",
   "id": "7d2fe0f4-1304-458b-b5dc-585096647855",
   "metadata": {},
   "source": [
    "### Anomaly  Detection\n",
    "Objective: Data Preprocessing and Feature Engineering"
   ]
  },
  {
   "cell_type": "code",
   "execution_count": 41,
   "id": "be8a0af1-7d57-479b-8cd1-db53451e4ec9",
   "metadata": {},
   "outputs": [],
   "source": [
    "import pandas as pd\n",
    "import numpy as np"
   ]
  },
  {
   "cell_type": "markdown",
   "id": "12477a5c-1a12-43ad-9575-7b7c6f86830f",
   "metadata": {},
   "source": [
    "#### Importing the dataset"
   ]
  },
  {
   "cell_type": "code",
   "execution_count": 42,
   "id": "62e65c7b-0e47-4fda-904c-b4de47792cc2",
   "metadata": {},
   "outputs": [
    {
     "data": {
      "text/html": [
       "<div>\n",
       "<style scoped>\n",
       "    .dataframe tbody tr th:only-of-type {\n",
       "        vertical-align: middle;\n",
       "    }\n",
       "\n",
       "    .dataframe tbody tr th {\n",
       "        vertical-align: top;\n",
       "    }\n",
       "\n",
       "    .dataframe thead th {\n",
       "        text-align: right;\n",
       "    }\n",
       "</style>\n",
       "<table border=\"1\" class=\"dataframe\">\n",
       "  <thead>\n",
       "    <tr style=\"text-align: right;\">\n",
       "      <th></th>\n",
       "      <th>timestamp</th>\n",
       "      <th>value</th>\n",
       "      <th>is_anomaly</th>\n",
       "      <th>predicted</th>\n",
       "    </tr>\n",
       "  </thead>\n",
       "  <tbody>\n",
       "    <tr>\n",
       "      <th>0</th>\n",
       "      <td>1425008573</td>\n",
       "      <td>42</td>\n",
       "      <td>False</td>\n",
       "      <td>44.072500</td>\n",
       "    </tr>\n",
       "    <tr>\n",
       "      <th>1</th>\n",
       "      <td>1425008873</td>\n",
       "      <td>41</td>\n",
       "      <td>False</td>\n",
       "      <td>50.709390</td>\n",
       "    </tr>\n",
       "    <tr>\n",
       "      <th>2</th>\n",
       "      <td>1425009173</td>\n",
       "      <td>41</td>\n",
       "      <td>False</td>\n",
       "      <td>81.405120</td>\n",
       "    </tr>\n",
       "    <tr>\n",
       "      <th>3</th>\n",
       "      <td>1425009473</td>\n",
       "      <td>61</td>\n",
       "      <td>False</td>\n",
       "      <td>39.950367</td>\n",
       "    </tr>\n",
       "    <tr>\n",
       "      <th>4</th>\n",
       "      <td>1425009773</td>\n",
       "      <td>44</td>\n",
       "      <td>False</td>\n",
       "      <td>35.350160</td>\n",
       "    </tr>\n",
       "    <tr>\n",
       "      <th>...</th>\n",
       "      <td>...</td>\n",
       "      <td>...</td>\n",
       "      <td>...</td>\n",
       "      <td>...</td>\n",
       "    </tr>\n",
       "    <tr>\n",
       "      <th>15825</th>\n",
       "      <td>1429756073</td>\n",
       "      <td>44</td>\n",
       "      <td>False</td>\n",
       "      <td>53.624115</td>\n",
       "    </tr>\n",
       "    <tr>\n",
       "      <th>15826</th>\n",
       "      <td>1429756373</td>\n",
       "      <td>45</td>\n",
       "      <td>False</td>\n",
       "      <td>59.752296</td>\n",
       "    </tr>\n",
       "    <tr>\n",
       "      <th>15827</th>\n",
       "      <td>1429756673</td>\n",
       "      <td>48</td>\n",
       "      <td>False</td>\n",
       "      <td>52.147630</td>\n",
       "    </tr>\n",
       "    <tr>\n",
       "      <th>15828</th>\n",
       "      <td>1429756973</td>\n",
       "      <td>26</td>\n",
       "      <td>False</td>\n",
       "      <td>58.007545</td>\n",
       "    </tr>\n",
       "    <tr>\n",
       "      <th>15829</th>\n",
       "      <td>1429757273</td>\n",
       "      <td>38</td>\n",
       "      <td>False</td>\n",
       "      <td>59.144700</td>\n",
       "    </tr>\n",
       "  </tbody>\n",
       "</table>\n",
       "<p>15830 rows × 4 columns</p>\n",
       "</div>"
      ],
      "text/plain": [
       "        timestamp  value  is_anomaly  predicted\n",
       "0      1425008573     42       False  44.072500\n",
       "1      1425008873     41       False  50.709390\n",
       "2      1425009173     41       False  81.405120\n",
       "3      1425009473     61       False  39.950367\n",
       "4      1425009773     44       False  35.350160\n",
       "...           ...    ...         ...        ...\n",
       "15825  1429756073     44       False  53.624115\n",
       "15826  1429756373     45       False  59.752296\n",
       "15827  1429756673     48       False  52.147630\n",
       "15828  1429756973     26       False  58.007545\n",
       "15829  1429757273     38       False  59.144700\n",
       "\n",
       "[15830 rows x 4 columns]"
      ]
     },
     "execution_count": 42,
     "metadata": {},
     "output_type": "execute_result"
    }
   ],
   "source": [
    "df = pd.read_csv(r\"C:\\Users\\dell\\Downloads\\anomaly-detection\\train.csv\")\n",
    "df"
   ]
  },
  {
   "cell_type": "markdown",
   "id": "375bb80b-0c42-41a9-9695-9ef04c268340",
   "metadata": {},
   "source": [
    "#### About the data from kaggle\n",
    "The description of the column are as follows:\n",
    "\n",
    "timestamp [ float ] : is provided as a Unix epoch in seconds.\n",
    "\n",
    "value [ int ] : is a real value measurement of some metric at the timestamp.\n",
    "\n",
    "is_anomaly [ boolean ] : is a boolean value which is True if the corresponding value is identified as an anomaly."
   ]
  },
  {
   "cell_type": "markdown",
   "id": "1b66a470-b67f-4078-a5fc-e4e3c4dc47f9",
   "metadata": {},
   "source": [
    "####  Checking datatypes"
   ]
  },
  {
   "cell_type": "code",
   "execution_count": 43,
   "id": "f80c32d3-1bbf-4d3d-be4f-e1c8c23f1bc5",
   "metadata": {},
   "outputs": [
    {
     "name": "stdout",
     "output_type": "stream",
     "text": [
      "<class 'pandas.core.frame.DataFrame'>\n",
      "RangeIndex: 15830 entries, 0 to 15829\n",
      "Data columns (total 4 columns):\n",
      " #   Column      Non-Null Count  Dtype  \n",
      "---  ------      --------------  -----  \n",
      " 0   timestamp   15830 non-null  int64  \n",
      " 1   value       15830 non-null  int64  \n",
      " 2   is_anomaly  15830 non-null  bool   \n",
      " 3   predicted   15830 non-null  float64\n",
      "dtypes: bool(1), float64(1), int64(2)\n",
      "memory usage: 386.6 KB\n"
     ]
    }
   ],
   "source": [
    "df.info()"
   ]
  },
  {
   "cell_type": "markdown",
   "id": "b3e0ce6a-ea1e-4043-bc6a-16836fc0c77a",
   "metadata": {},
   "source": [
    "####  Checking for missing values"
   ]
  },
  {
   "cell_type": "code",
   "execution_count": 44,
   "id": "8fabe79c-6238-4de0-807e-686cb0c84b90",
   "metadata": {},
   "outputs": [
    {
     "data": {
      "text/plain": [
       "timestamp     0\n",
       "value         0\n",
       "is_anomaly    0\n",
       "predicted     0\n",
       "dtype: int64"
      ]
     },
     "execution_count": 44,
     "metadata": {},
     "output_type": "execute_result"
    }
   ],
   "source": [
    "df.isna().sum()"
   ]
  },
  {
   "cell_type": "markdown",
   "id": "fdcd3702-f322-4bc0-aa25-91dcd9877e55",
   "metadata": {},
   "source": [
    "#### Data preprocessing and feature engineering\n",
    "As we can see the data is almost in perfect condition, there are no missing values and only one column with non numerical datatype."
   ]
  },
  {
   "cell_type": "markdown",
   "id": "797b8414-6a48-4d73-9d8c-012ce91a4bc6",
   "metadata": {},
   "source": [
    "#### Converting the is_anomaly column to numerical format"
   ]
  },
  {
   "cell_type": "code",
   "execution_count": 45,
   "id": "a947d31d-d6d0-46c2-a021-1de88482f0f8",
   "metadata": {},
   "outputs": [
    {
     "name": "stdout",
     "output_type": "stream",
     "text": [
      "<class 'pandas.core.series.Series'>\n",
      "RangeIndex: 15830 entries, 0 to 15829\n",
      "Series name: is_anomaly\n",
      "Non-Null Count  Dtype\n",
      "--------------  -----\n",
      "15830 non-null  bool \n",
      "dtypes: bool(1)\n",
      "memory usage: 15.6 KB\n"
     ]
    }
   ],
   "source": [
    "df['is_anomaly'].info()"
   ]
  },
  {
   "cell_type": "code",
   "execution_count": 46,
   "id": "d71e231f-5208-44d1-ac5d-5414f3f3e420",
   "metadata": {},
   "outputs": [
    {
     "data": {
      "text/plain": [
       "Index(['timestamp', 'value', 'is_anomaly', 'predicted'], dtype='object')"
      ]
     },
     "execution_count": 46,
     "metadata": {},
     "output_type": "execute_result"
    }
   ],
   "source": [
    "df.columns"
   ]
  },
  {
   "cell_type": "code",
   "execution_count": 47,
   "id": "0ae9ee76-e12e-4ac1-909a-ebd643c8fa54",
   "metadata": {},
   "outputs": [],
   "source": [
    "#for val in df['is_anomaly']:\n",
    " #   if val==False:\n",
    "  #      val=0\n",
    "   # else:\n",
    "    #    val=1\n",
    "#df\n",
    "#The above code will not work in case of panda dataframes, for making such changes, we need the lambda function and the apply method"
   ]
  },
  {
   "cell_type": "code",
   "execution_count": 48,
   "id": "e7915beb-61a7-45e4-a69f-9d87db3854ed",
   "metadata": {},
   "outputs": [
    {
     "data": {
      "text/html": [
       "<div>\n",
       "<style scoped>\n",
       "    .dataframe tbody tr th:only-of-type {\n",
       "        vertical-align: middle;\n",
       "    }\n",
       "\n",
       "    .dataframe tbody tr th {\n",
       "        vertical-align: top;\n",
       "    }\n",
       "\n",
       "    .dataframe thead th {\n",
       "        text-align: right;\n",
       "    }\n",
       "</style>\n",
       "<table border=\"1\" class=\"dataframe\">\n",
       "  <thead>\n",
       "    <tr style=\"text-align: right;\">\n",
       "      <th></th>\n",
       "      <th>timestamp</th>\n",
       "      <th>value</th>\n",
       "      <th>is_anomaly</th>\n",
       "      <th>predicted</th>\n",
       "    </tr>\n",
       "  </thead>\n",
       "  <tbody>\n",
       "    <tr>\n",
       "      <th>0</th>\n",
       "      <td>1425008573</td>\n",
       "      <td>42</td>\n",
       "      <td>0</td>\n",
       "      <td>44.072500</td>\n",
       "    </tr>\n",
       "    <tr>\n",
       "      <th>1</th>\n",
       "      <td>1425008873</td>\n",
       "      <td>41</td>\n",
       "      <td>0</td>\n",
       "      <td>50.709390</td>\n",
       "    </tr>\n",
       "    <tr>\n",
       "      <th>2</th>\n",
       "      <td>1425009173</td>\n",
       "      <td>41</td>\n",
       "      <td>0</td>\n",
       "      <td>81.405120</td>\n",
       "    </tr>\n",
       "    <tr>\n",
       "      <th>3</th>\n",
       "      <td>1425009473</td>\n",
       "      <td>61</td>\n",
       "      <td>0</td>\n",
       "      <td>39.950367</td>\n",
       "    </tr>\n",
       "    <tr>\n",
       "      <th>4</th>\n",
       "      <td>1425009773</td>\n",
       "      <td>44</td>\n",
       "      <td>0</td>\n",
       "      <td>35.350160</td>\n",
       "    </tr>\n",
       "    <tr>\n",
       "      <th>...</th>\n",
       "      <td>...</td>\n",
       "      <td>...</td>\n",
       "      <td>...</td>\n",
       "      <td>...</td>\n",
       "    </tr>\n",
       "    <tr>\n",
       "      <th>15825</th>\n",
       "      <td>1429756073</td>\n",
       "      <td>44</td>\n",
       "      <td>0</td>\n",
       "      <td>53.624115</td>\n",
       "    </tr>\n",
       "    <tr>\n",
       "      <th>15826</th>\n",
       "      <td>1429756373</td>\n",
       "      <td>45</td>\n",
       "      <td>0</td>\n",
       "      <td>59.752296</td>\n",
       "    </tr>\n",
       "    <tr>\n",
       "      <th>15827</th>\n",
       "      <td>1429756673</td>\n",
       "      <td>48</td>\n",
       "      <td>0</td>\n",
       "      <td>52.147630</td>\n",
       "    </tr>\n",
       "    <tr>\n",
       "      <th>15828</th>\n",
       "      <td>1429756973</td>\n",
       "      <td>26</td>\n",
       "      <td>0</td>\n",
       "      <td>58.007545</td>\n",
       "    </tr>\n",
       "    <tr>\n",
       "      <th>15829</th>\n",
       "      <td>1429757273</td>\n",
       "      <td>38</td>\n",
       "      <td>0</td>\n",
       "      <td>59.144700</td>\n",
       "    </tr>\n",
       "  </tbody>\n",
       "</table>\n",
       "<p>15830 rows × 4 columns</p>\n",
       "</div>"
      ],
      "text/plain": [
       "        timestamp  value  is_anomaly  predicted\n",
       "0      1425008573     42           0  44.072500\n",
       "1      1425008873     41           0  50.709390\n",
       "2      1425009173     41           0  81.405120\n",
       "3      1425009473     61           0  39.950367\n",
       "4      1425009773     44           0  35.350160\n",
       "...           ...    ...         ...        ...\n",
       "15825  1429756073     44           0  53.624115\n",
       "15826  1429756373     45           0  59.752296\n",
       "15827  1429756673     48           0  52.147630\n",
       "15828  1429756973     26           0  58.007545\n",
       "15829  1429757273     38           0  59.144700\n",
       "\n",
       "[15830 rows x 4 columns]"
      ]
     },
     "execution_count": 48,
     "metadata": {},
     "output_type": "execute_result"
    }
   ],
   "source": [
    "df['is_anomaly'] = df['is_anomaly'].apply(lambda x: 0 if x == False else 1)\n",
    "df"
   ]
  },
  {
   "cell_type": "markdown",
   "id": "c853a65e-68e7-4f5e-8beb-3bb5de10655a",
   "metadata": {},
   "source": [
    "#### Test data\n",
    "Now lets take a look at test data"
   ]
  },
  {
   "cell_type": "code",
   "execution_count": 49,
   "id": "33d75357-325c-4ca1-bf4e-f9183d56d3bd",
   "metadata": {},
   "outputs": [
    {
     "data": {
      "text/html": [
       "<div>\n",
       "<style scoped>\n",
       "    .dataframe tbody tr th:only-of-type {\n",
       "        vertical-align: middle;\n",
       "    }\n",
       "\n",
       "    .dataframe tbody tr th {\n",
       "        vertical-align: top;\n",
       "    }\n",
       "\n",
       "    .dataframe thead th {\n",
       "        text-align: right;\n",
       "    }\n",
       "</style>\n",
       "<table border=\"1\" class=\"dataframe\">\n",
       "  <thead>\n",
       "    <tr style=\"text-align: right;\">\n",
       "      <th></th>\n",
       "      <th>timestamp</th>\n",
       "      <th>value</th>\n",
       "      <th>predicted</th>\n",
       "    </tr>\n",
       "  </thead>\n",
       "  <tbody>\n",
       "    <tr>\n",
       "      <th>0</th>\n",
       "      <td>1396332000</td>\n",
       "      <td>20.00000</td>\n",
       "      <td>20.000000</td>\n",
       "    </tr>\n",
       "    <tr>\n",
       "      <th>1</th>\n",
       "      <td>1396332300</td>\n",
       "      <td>20.00000</td>\n",
       "      <td>20.000000</td>\n",
       "    </tr>\n",
       "    <tr>\n",
       "      <th>2</th>\n",
       "      <td>1396332600</td>\n",
       "      <td>20.00000</td>\n",
       "      <td>20.000000</td>\n",
       "    </tr>\n",
       "    <tr>\n",
       "      <th>3</th>\n",
       "      <td>1396332900</td>\n",
       "      <td>20.00000</td>\n",
       "      <td>20.000000</td>\n",
       "    </tr>\n",
       "    <tr>\n",
       "      <th>4</th>\n",
       "      <td>1396333200</td>\n",
       "      <td>20.00000</td>\n",
       "      <td>20.000000</td>\n",
       "    </tr>\n",
       "    <tr>\n",
       "      <th>...</th>\n",
       "      <td>...</td>\n",
       "      <td>...</td>\n",
       "      <td>...</td>\n",
       "    </tr>\n",
       "    <tr>\n",
       "      <th>3955</th>\n",
       "      <td>1397518500</td>\n",
       "      <td>20.00384</td>\n",
       "      <td>19.836240</td>\n",
       "    </tr>\n",
       "    <tr>\n",
       "      <th>3956</th>\n",
       "      <td>1397518800</td>\n",
       "      <td>20.00384</td>\n",
       "      <td>19.207998</td>\n",
       "    </tr>\n",
       "    <tr>\n",
       "      <th>3957</th>\n",
       "      <td>1397519100</td>\n",
       "      <td>20.00384</td>\n",
       "      <td>20.103437</td>\n",
       "    </tr>\n",
       "    <tr>\n",
       "      <th>3958</th>\n",
       "      <td>1397519400</td>\n",
       "      <td>20.00384</td>\n",
       "      <td>19.346764</td>\n",
       "    </tr>\n",
       "    <tr>\n",
       "      <th>3959</th>\n",
       "      <td>1397519700</td>\n",
       "      <td>20.00384</td>\n",
       "      <td>20.134947</td>\n",
       "    </tr>\n",
       "  </tbody>\n",
       "</table>\n",
       "<p>3960 rows × 3 columns</p>\n",
       "</div>"
      ],
      "text/plain": [
       "       timestamp     value  predicted\n",
       "0     1396332000  20.00000  20.000000\n",
       "1     1396332300  20.00000  20.000000\n",
       "2     1396332600  20.00000  20.000000\n",
       "3     1396332900  20.00000  20.000000\n",
       "4     1396333200  20.00000  20.000000\n",
       "...          ...       ...        ...\n",
       "3955  1397518500  20.00384  19.836240\n",
       "3956  1397518800  20.00384  19.207998\n",
       "3957  1397519100  20.00384  20.103437\n",
       "3958  1397519400  20.00384  19.346764\n",
       "3959  1397519700  20.00384  20.134947\n",
       "\n",
       "[3960 rows x 3 columns]"
      ]
     },
     "execution_count": 49,
     "metadata": {},
     "output_type": "execute_result"
    }
   ],
   "source": [
    "df_test = pd.read_csv(r\"C:\\Users\\dell\\Downloads\\anomaly-detection\\test.csv\")\n",
    "df_test"
   ]
  },
  {
   "cell_type": "markdown",
   "id": "c6e2389d-f2ef-4d13-a1cb-f4e2f7ff4a40",
   "metadata": {},
   "source": [
    "#### As we can see, we need to predict the is_anomaly column,\n",
    "### Lets choose the model and fit it to training data"
   ]
  },
  {
   "cell_type": "markdown",
   "id": "175d04be-8e86-470f-9ece-7076cf170238",
   "metadata": {},
   "source": [
    "Lets note down some points which will help us in deciding the model\n",
    "* This is a classification problem\n",
    "* The data is labelled,\n",
    "* We know the number of categories in target variable(2)"
   ]
  },
  {
   "cell_type": "markdown",
   "id": "edf1f595-daa1-4c8a-9465-23300d0626e6",
   "metadata": {},
   "source": [
    "### The best model of choice is Linear SVC\n",
    "LinearSVC is a part of the scikit-learn library and is used for performing classification tasks using a linear Support Vector Machine (SVM). It works well for high-dimensional datasets and is a good choice for binary or multi-class classification problems."
   ]
  },
  {
   "cell_type": "code",
   "execution_count": 64,
   "id": "1c93aab6-0a88-4049-9b90-020fe3f65884",
   "metadata": {},
   "outputs": [
    {
     "name": "stderr",
     "output_type": "stream",
     "text": [
      "C:\\Users\\dell\\Desktop\\sample_project_1\\env\\lib\\site-packages\\sklearn\\svm\\_classes.py:32: FutureWarning: The default value of `dual` will change from `True` to `'auto'` in 1.5. Set the value of `dual` explicitly to suppress the warning.\n",
      "  warnings.warn(\n",
      "C:\\Users\\dell\\Desktop\\sample_project_1\\env\\lib\\site-packages\\sklearn\\svm\\_base.py:1242: ConvergenceWarning: Liblinear failed to converge, increase the number of iterations.\n",
      "  warnings.warn(\n"
     ]
    },
    {
     "data": {
      "text/plain": [
       "array([0, 0, 0, ..., 0, 0, 0], dtype=int64)"
      ]
     },
     "execution_count": 64,
     "metadata": {},
     "output_type": "execute_result"
    }
   ],
   "source": [
    "#Importing LinearSVC\n",
    "from sklearn.svm import LinearSVC\n",
    "model = LinearSVC()\n",
    "\n",
    "#Fitting model to train data\n",
    "x = df.drop(columns='is_anomaly')# independent variables\n",
    "y = df['is_anomaly'] #Value to be predicted\n",
    "# y_pred (test val to be predicted)\n",
    "#Fitting the model on train data\n",
    "model.fit(x,y)\n",
    "\n",
    "#Predicting test\n",
    "result = model.predict(df_test)#here result is y_pred while df_test is x_test\n",
    "result"
   ]
  },
  {
   "cell_type": "code",
   "execution_count": 51,
   "id": "c08ec01e-63ab-4f6b-a033-71d84838043f",
   "metadata": {},
   "outputs": [
    {
     "data": {
      "text/plain": [
       "3960"
      ]
     },
     "execution_count": 51,
     "metadata": {},
     "output_type": "execute_result"
    }
   ],
   "source": [
    "len(result)"
   ]
  },
  {
   "cell_type": "markdown",
   "id": "7cebfcf3-7903-4a17-8843-ff8289682c68",
   "metadata": {},
   "source": [
    "#### Just to be clear lets define x_train,y_train, x_test,y_test, and y_pred\n",
    "* x_train, y_train are input into the model to for fitting , x contains independent variables and y contains  contain dependent/target variable\n",
    "* x_test ,y_test,are 2 parts of test dataset, out of which y_test is usually given in last moment of competition towards the end just to check if our y_pred or predicted value for test set is matching to real test values(y_test) or not."
   ]
  },
  {
   "cell_type": "markdown",
   "id": "7e30d0c8-a001-4464-9b36-f19f457c9db4",
   "metadata": {},
   "source": [
    "### Model Evaluation\n",
    "According to Kaggle, the evaluation metric for this project is Mean-F-Score,so lets evaluate our model according to this metric"
   ]
  },
  {
   "cell_type": "code",
   "execution_count": 65,
   "id": "98d9976d-354f-49b5-a7a0-052da4e8701b",
   "metadata": {},
   "outputs": [
    {
     "data": {
      "text/html": [
       "<div>\n",
       "<style scoped>\n",
       "    .dataframe tbody tr th:only-of-type {\n",
       "        vertical-align: middle;\n",
       "    }\n",
       "\n",
       "    .dataframe tbody tr th {\n",
       "        vertical-align: top;\n",
       "    }\n",
       "\n",
       "    .dataframe thead th {\n",
       "        text-align: right;\n",
       "    }\n",
       "</style>\n",
       "<table border=\"1\" class=\"dataframe\">\n",
       "  <thead>\n",
       "    <tr style=\"text-align: right;\">\n",
       "      <th></th>\n",
       "      <th>timestamp</th>\n",
       "      <th>is_anomaly</th>\n",
       "    </tr>\n",
       "  </thead>\n",
       "  <tbody>\n",
       "    <tr>\n",
       "      <th>0</th>\n",
       "      <td>1425008573</td>\n",
       "      <td>False</td>\n",
       "    </tr>\n",
       "    <tr>\n",
       "      <th>1</th>\n",
       "      <td>1425008873</td>\n",
       "      <td>False</td>\n",
       "    </tr>\n",
       "    <tr>\n",
       "      <th>2</th>\n",
       "      <td>1425009173</td>\n",
       "      <td>False</td>\n",
       "    </tr>\n",
       "    <tr>\n",
       "      <th>3</th>\n",
       "      <td>1425009473</td>\n",
       "      <td>False</td>\n",
       "    </tr>\n",
       "    <tr>\n",
       "      <th>4</th>\n",
       "      <td>1425009773</td>\n",
       "      <td>False</td>\n",
       "    </tr>\n",
       "    <tr>\n",
       "      <th>...</th>\n",
       "      <td>...</td>\n",
       "      <td>...</td>\n",
       "    </tr>\n",
       "    <tr>\n",
       "      <th>3955</th>\n",
       "      <td>1426195073</td>\n",
       "      <td>True</td>\n",
       "    </tr>\n",
       "    <tr>\n",
       "      <th>3956</th>\n",
       "      <td>1426195373</td>\n",
       "      <td>True</td>\n",
       "    </tr>\n",
       "    <tr>\n",
       "      <th>3957</th>\n",
       "      <td>1426195673</td>\n",
       "      <td>True</td>\n",
       "    </tr>\n",
       "    <tr>\n",
       "      <th>3958</th>\n",
       "      <td>1426195973</td>\n",
       "      <td>True</td>\n",
       "    </tr>\n",
       "    <tr>\n",
       "      <th>3959</th>\n",
       "      <td>1426196273</td>\n",
       "      <td>False</td>\n",
       "    </tr>\n",
       "  </tbody>\n",
       "</table>\n",
       "<p>3960 rows × 2 columns</p>\n",
       "</div>"
      ],
      "text/plain": [
       "       timestamp  is_anomaly\n",
       "0     1425008573       False\n",
       "1     1425008873       False\n",
       "2     1425009173       False\n",
       "3     1425009473       False\n",
       "4     1425009773       False\n",
       "...          ...         ...\n",
       "3955  1426195073        True\n",
       "3956  1426195373        True\n",
       "3957  1426195673        True\n",
       "3958  1426195973        True\n",
       "3959  1426196273       False\n",
       "\n",
       "[3960 rows x 2 columns]"
      ]
     },
     "execution_count": 65,
     "metadata": {},
     "output_type": "execute_result"
    }
   ],
   "source": [
    "#Lets import y_test\n",
    "y_test = pd.read_csv(r\"C:\\Users\\dell\\Downloads\\anomaly-detection\\Submission.csv\")\n",
    "\n",
    "ytest=y_test[:3960]\n",
    "ytest"
   ]
  },
  {
   "cell_type": "markdown",
   "id": "d217b8d6-8e9a-41f7-8f7f-d2ebb790477d",
   "metadata": {},
   "source": [
    "#### Before checking the score of the model , we need our submissions/test data in numerical form."
   ]
  },
  {
   "cell_type": "code",
   "execution_count": 69,
   "id": "4c3d46ad-86aa-460c-ac5f-a8a8f8fd8ea1",
   "metadata": {},
   "outputs": [
    {
     "name": "stderr",
     "output_type": "stream",
     "text": [
      "C:\\Users\\dell\\AppData\\Local\\Temp\\ipykernel_32812\\634749756.py:1: SettingWithCopyWarning: \n",
      "A value is trying to be set on a copy of a slice from a DataFrame.\n",
      "Try using .loc[row_indexer,col_indexer] = value instead\n",
      "\n",
      "See the caveats in the documentation: https://pandas.pydata.org/pandas-docs/stable/user_guide/indexing.html#returning-a-view-versus-a-copy\n",
      "  ytest['is_anomaly'] = ytest['is_anomaly'].apply(lambda x: 0 if x == False else 1)\n"
     ]
    },
    {
     "data": {
      "text/html": [
       "<div>\n",
       "<style scoped>\n",
       "    .dataframe tbody tr th:only-of-type {\n",
       "        vertical-align: middle;\n",
       "    }\n",
       "\n",
       "    .dataframe tbody tr th {\n",
       "        vertical-align: top;\n",
       "    }\n",
       "\n",
       "    .dataframe thead th {\n",
       "        text-align: right;\n",
       "    }\n",
       "</style>\n",
       "<table border=\"1\" class=\"dataframe\">\n",
       "  <thead>\n",
       "    <tr style=\"text-align: right;\">\n",
       "      <th></th>\n",
       "      <th>timestamp</th>\n",
       "      <th>is_anomaly</th>\n",
       "    </tr>\n",
       "  </thead>\n",
       "  <tbody>\n",
       "    <tr>\n",
       "      <th>0</th>\n",
       "      <td>1425008573</td>\n",
       "      <td>0</td>\n",
       "    </tr>\n",
       "    <tr>\n",
       "      <th>1</th>\n",
       "      <td>1425008873</td>\n",
       "      <td>0</td>\n",
       "    </tr>\n",
       "    <tr>\n",
       "      <th>2</th>\n",
       "      <td>1425009173</td>\n",
       "      <td>0</td>\n",
       "    </tr>\n",
       "    <tr>\n",
       "      <th>3</th>\n",
       "      <td>1425009473</td>\n",
       "      <td>0</td>\n",
       "    </tr>\n",
       "    <tr>\n",
       "      <th>4</th>\n",
       "      <td>1425009773</td>\n",
       "      <td>0</td>\n",
       "    </tr>\n",
       "    <tr>\n",
       "      <th>...</th>\n",
       "      <td>...</td>\n",
       "      <td>...</td>\n",
       "    </tr>\n",
       "    <tr>\n",
       "      <th>3955</th>\n",
       "      <td>1426195073</td>\n",
       "      <td>1</td>\n",
       "    </tr>\n",
       "    <tr>\n",
       "      <th>3956</th>\n",
       "      <td>1426195373</td>\n",
       "      <td>1</td>\n",
       "    </tr>\n",
       "    <tr>\n",
       "      <th>3957</th>\n",
       "      <td>1426195673</td>\n",
       "      <td>1</td>\n",
       "    </tr>\n",
       "    <tr>\n",
       "      <th>3958</th>\n",
       "      <td>1426195973</td>\n",
       "      <td>1</td>\n",
       "    </tr>\n",
       "    <tr>\n",
       "      <th>3959</th>\n",
       "      <td>1426196273</td>\n",
       "      <td>0</td>\n",
       "    </tr>\n",
       "  </tbody>\n",
       "</table>\n",
       "<p>3960 rows × 2 columns</p>\n",
       "</div>"
      ],
      "text/plain": [
       "       timestamp  is_anomaly\n",
       "0     1425008573           0\n",
       "1     1425008873           0\n",
       "2     1425009173           0\n",
       "3     1425009473           0\n",
       "4     1425009773           0\n",
       "...          ...         ...\n",
       "3955  1426195073           1\n",
       "3956  1426195373           1\n",
       "3957  1426195673           1\n",
       "3958  1426195973           1\n",
       "3959  1426196273           0\n",
       "\n",
       "[3960 rows x 2 columns]"
      ]
     },
     "execution_count": 69,
     "metadata": {},
     "output_type": "execute_result"
    }
   ],
   "source": [
    "ytest['is_anomaly'] = ytest['is_anomaly'].apply(lambda x: 0 if x == False else 1)\n",
    "ytest"
   ]
  },
  {
   "cell_type": "code",
   "execution_count": 70,
   "id": "b45ac63e-c4fb-48f2-ba9e-dce1bf785322",
   "metadata": {},
   "outputs": [
    {
     "name": "stdout",
     "output_type": "stream",
     "text": [
      "Macro F1-Score: 0.49\n",
      "Micro F1-Score: 0.96\n"
     ]
    }
   ],
   "source": [
    "from sklearn.metrics import f1_score\n",
    "# Calculate the mean F1-score (Macro F1-score)\n",
    "mean_f1_macro = f1_score(ytest['is_anomaly'],result, average='macro')\n",
    "\n",
    "# Calculate the mean F1-score (Micro F1-score)\n",
    "mean_f1_micro = f1_score(ytest['is_anomaly'], result, average='micro')\n",
    "\n",
    "# Print the results\n",
    "print(f\"Macro F1-Score: {mean_f1_macro:.2f}\")\n",
    "print(f\"Micro F1-Score: {mean_f1_micro:.2f}\")"
   ]
  },
  {
   "cell_type": "code",
   "execution_count": null,
   "id": "df06ff11-1203-42f0-a43a-91a78e98a31c",
   "metadata": {},
   "outputs": [],
   "source": [
    "Agnee Mohanty ,Registration number = 2141013185"
   ]
  },
  {
   "cell_type": "code",
   "execution_count": null,
   "id": "84ed7f31-e0d0-4399-89c7-7cc59c772fab",
   "metadata": {},
   "outputs": [],
   "source": []
  }
 ],
 "metadata": {
  "kernelspec": {
   "display_name": "Python 3 (ipykernel)",
   "language": "python",
   "name": "python3"
  },
  "language_info": {
   "codemirror_mode": {
    "name": "ipython",
    "version": 3
   },
   "file_extension": ".py",
   "mimetype": "text/x-python",
   "name": "python",
   "nbconvert_exporter": "python",
   "pygments_lexer": "ipython3",
   "version": "3.10.13"
  }
 },
 "nbformat": 4,
 "nbformat_minor": 5
}
