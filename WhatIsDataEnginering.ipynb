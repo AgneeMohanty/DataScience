{
 "cells": [
  {
   "cell_type": "markdown",
   "id": "c50752be-4a3b-4c2b-8d8f-0b501cce4844",
   "metadata": {},
   "source": [
    "# Data Engineering"
   ]
  },
  {
   "cell_type": "markdown",
   "id": "104f1597-4ced-457e-95cb-8bae5d9db38d",
   "metadata": {},
   "source": [
    "* Data science is the idea of using data and converting it into something useful .\n",
    "* Data analysis is to analyse the data that we have"
   ]
  },
  {
   "cell_type": "markdown",
   "id": "bfdd31ba-64f8-4a1d-819e-e172cfc473b9",
   "metadata": {},
   "source": [
    "Data Engineering \n",
    "* Data scientist or analyst doesnt have to care about getting the data, this part is handled by data engineer.\n",
    "* A data engineer uses all kind of means to collect information(cameras, microphones, surverys....) and store it in databases so that ml and data science experts can access the data in organised manner."
   ]
  },
  {
   "cell_type": "markdown",
   "id": "6651cbde-603c-4390-ad31-7d3e8613bf65",
   "metadata": {},
   "source": [
    "What is data?\n",
    "* Data is very valuable,everything depends on data, how can we do better?, how can our ads be faster?\n",
    "* Structured data usually comes from sql and relational databases\n",
    "* Semi structured data is in the form of xml, csv or json \n",
    "* Unstructured data are not in simple formats that we can manipulate and manage easily-mp3 files, mp4, videos...."
   ]
  },
  {
   "cell_type": "markdown",
   "id": "a0d7fac1-a355-46c0-862d-2cc395a8ec1c",
   "metadata": {},
   "source": [
    "### Data Mining\n",
    "It simply extracting knowledge from data\n",
    "\n",
    "### Big Data\n",
    "So much data that we cant run them on computer or laptops, its so huge that we usually need cloud or multiple computers to store them.\n",
    "Hadoop and no sql were invented to solve this big data problem\n",
    "\n",
    "### Data Pipeline\n",
    "Helps us flow the data from the large unknown format to a more organised and usable format."
   ]
  },
  {
   "cell_type": "markdown",
   "id": "01e3928f-166e-4fb0-bf9d-9763aa8b3ac2",
   "metadata": {},
   "source": [
    "The data engineer mostly creates this data pipeline.\n",
    "- Data is collected through cameras, drones, cctvs, recordings ,videos, ads , surveys(Data Ingestion)\n",
    "- Data is stored and cleaned (Data Lake-Collection of data)\n",
    "- Data transformation- Data is converted into accessible data\n",
    "- Data warehouse - Accessible data is stored here so that other parts of the business can use it."
   ]
  },
  {
   "cell_type": "markdown",
   "id": "034dd831-fb98-4787-bbae-e5c1e4f2a98c",
   "metadata": {},
   "source": [
    "* Kafka-Collecting data and storing it in data lakes\n",
    "* Azure Datalake, Hadoop, Amazon S3 are basically data lakes built to store large amounts of data\n",
    "* For data warehousing, we have Amazon Redshift, Google BigQuery, Amazon Athena"
   ]
  },
  {
   "cell_type": "markdown",
   "id": "9d8d29fc-bc9a-4b85-a888-463618601020",
   "metadata": {},
   "source": [
    "* We can also use data from data lake(csv formats,unstructured ,uncleaned)\n",
    "* Analysts and engineers usually use warehouse data"
   ]
  },
  {
   "cell_type": "markdown",
   "id": "600be210-cc5c-42e0-bb76-82eb78105afb",
   "metadata": {},
   "source": [
    "## ETL Pipeline\n",
    "* Extract Transform Load Pipeline "
   ]
  },
  {
   "cell_type": "markdown",
   "id": "70505140-15b4-4857-89e0-677aeef448fb",
   "metadata": {},
   "source": [
    "### Types of DataBases\n",
    "* Relational Database-like mysql that allows us to make transactions such as read ,write etc\n",
    "* NoSQL= Relational dbs didnt have the idea of having multiple databases, so MongoDB came into view(allow us to store large data on multiple machines)\n",
    "* NewSQL- very recent (the best of both worlds)"
   ]
  },
  {
   "cell_type": "markdown",
   "id": "3fd5aedb-9bc5-40be-90df-1984c99a3579",
   "metadata": {},
   "source": [
    "OLTP and OLAP databases are sql dbs(relational) that allow us(the user) to make transactions,\n",
    "* Datalakes and data warehouses are all databases"
   ]
  },
  {
   "cell_type": "markdown",
   "id": "addba6b4-3676-431a-a064-9f8cf91af4a2",
   "metadata": {},
   "source": [
    "## Hadoop \n",
    "* As data was required in more and more amounts hadoop came into use. Helps us to store big data.\n",
    "* Hadoop is essentially a datalake\n",
    "* Its popularity was due to two things-HDFS(Hadoop was able to store large amount of data due to HDFS, it allowed us to store data on multiple physical computers),then MapReduce(allowed us to perform jobs on the data in data lake,i.e clean and organise our data)(run batch jobs)\n",
    "* "
   ]
  },
  {
   "cell_type": "markdown",
   "id": "71d9319a-29d6-457e-83db-f099dd53f650",
   "metadata": {},
   "source": [
    "## Apache Spark and Apache Flink\n",
    "* Spark came along and improved Hadoop and Mapreduce, using memory processing to upgrade batch job running\n",
    "* Instead of batch processing where we would sit every night and run batch jobs and would have to wait a couple of hours for it to complete, realtime processing stream processing came into view which allowed us to process data once  we receive it.\n"
   ]
  },
  {
   "cell_type": "code",
   "execution_count": null,
   "id": "1afd77dd-0d0c-482d-8fd0-be42f0a44b5f",
   "metadata": {},
   "outputs": [],
   "source": []
  }
 ],
 "metadata": {
  "kernelspec": {
   "display_name": "Python 3 (ipykernel)",
   "language": "python",
   "name": "python3"
  },
  "language_info": {
   "codemirror_mode": {
    "name": "ipython",
    "version": 3
   },
   "file_extension": ".py",
   "mimetype": "text/x-python",
   "name": "python",
   "nbconvert_exporter": "python",
   "pygments_lexer": "ipython3",
   "version": "3.10.13"
  }
 },
 "nbformat": 4,
 "nbformat_minor": 5
}
