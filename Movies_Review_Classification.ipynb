{
 "cells": [
  {
   "cell_type": "markdown",
   "id": "5977e6ed-7ff7-4401-99a0-d4ad8a682cab",
   "metadata": {},
   "source": [
    "## MOVIES REVIEW CLASSIFICATION\n",
    "Here we will determine whether a given review of a movie has a positive sentiment or a negative sentiment."
   ]
  },
  {
   "cell_type": "markdown",
   "id": "1d14c2e1-2b70-4052-b803-f6885beb69ae",
   "metadata": {},
   "source": [
    "#### Importing Required Libraries"
   ]
  },
  {
   "cell_type": "code",
   "execution_count": 1,
   "id": "321a2058-cefb-4ddd-a73a-05b6ba79e7bf",
   "metadata": {},
   "outputs": [],
   "source": [
    "import pandas as pd\n",
    "import numpy as np"
   ]
  },
  {
   "cell_type": "code",
   "execution_count": 2,
   "id": "0a0fc621-ce3f-4eac-a313-1e2a0c6d0a65",
   "metadata": {},
   "outputs": [],
   "source": [
    "from sklearn.preprocessing import LabelEncoder\n",
    "#Label Encoder to convert categorical data to numerical"
   ]
  },
  {
   "cell_type": "code",
   "execution_count": 3,
   "id": "7c117d84-cf16-4a07-9756-e39dce0f3d04",
   "metadata": {},
   "outputs": [],
   "source": [
    "import nltk\n",
    "import re\n",
    "from nltk.corpus import stopwords\n",
    "from nltk.stem import PorterStemmer\n",
    "from sklearn.feature_extraction.text import CountVectorizer\n",
    "from sklearn.model_selection import train_test_split\n",
    "from sklearn.naive_bayes import MultinomialNB\n",
    "from sklearn.metrics import accuracy_score, classification_report,confusion_matrix\n",
    "import pickle\n",
    "import seaborn as sns"
   ]
  },
  {
   "cell_type": "markdown",
   "id": "581ad799-9525-4298-897f-f7d6c01c96f7",
   "metadata": {},
   "source": [
    "#### Load Movie Reviews"
   ]
  },
  {
   "cell_type": "code",
   "execution_count": 4,
   "id": "b5042dad-61aa-4f75-a1f5-5b607bd32ec0",
   "metadata": {},
   "outputs": [
    {
     "data": {
      "text/html": [
       "<div>\n",
       "<style scoped>\n",
       "    .dataframe tbody tr th:only-of-type {\n",
       "        vertical-align: middle;\n",
       "    }\n",
       "\n",
       "    .dataframe tbody tr th {\n",
       "        vertical-align: top;\n",
       "    }\n",
       "\n",
       "    .dataframe thead th {\n",
       "        text-align: right;\n",
       "    }\n",
       "</style>\n",
       "<table border=\"1\" class=\"dataframe\">\n",
       "  <thead>\n",
       "    <tr style=\"text-align: right;\">\n",
       "      <th></th>\n",
       "      <th>review</th>\n",
       "      <th>sentiment</th>\n",
       "    </tr>\n",
       "  </thead>\n",
       "  <tbody>\n",
       "    <tr>\n",
       "      <th>0</th>\n",
       "      <td>One of the other reviewers has mentioned that ...</td>\n",
       "      <td>positive</td>\n",
       "    </tr>\n",
       "    <tr>\n",
       "      <th>1</th>\n",
       "      <td>A wonderful little production. &lt;br /&gt;&lt;br /&gt;The...</td>\n",
       "      <td>positive</td>\n",
       "    </tr>\n",
       "    <tr>\n",
       "      <th>2</th>\n",
       "      <td>I thought this was a wonderful way to spend ti...</td>\n",
       "      <td>positive</td>\n",
       "    </tr>\n",
       "    <tr>\n",
       "      <th>3</th>\n",
       "      <td>Basically there's a family where a little boy ...</td>\n",
       "      <td>negative</td>\n",
       "    </tr>\n",
       "    <tr>\n",
       "      <th>4</th>\n",
       "      <td>Petter Mattei's \"Love in the Time of Money\" is...</td>\n",
       "      <td>positive</td>\n",
       "    </tr>\n",
       "  </tbody>\n",
       "</table>\n",
       "</div>"
      ],
      "text/plain": [
       "                                              review sentiment\n",
       "0  One of the other reviewers has mentioned that ...  positive\n",
       "1  A wonderful little production. <br /><br />The...  positive\n",
       "2  I thought this was a wonderful way to spend ti...  positive\n",
       "3  Basically there's a family where a little boy ...  negative\n",
       "4  Petter Mattei's \"Love in the Time of Money\" is...  positive"
      ]
     },
     "execution_count": 4,
     "metadata": {},
     "output_type": "execute_result"
    }
   ],
   "source": [
    "df = pd.read_csv(r\"C:\\Users\\dell\\Desktop\\sample_project_1\\IMDB Dataset.csv\\IMDB Dataset.csv\")\n",
    "df.head()"
   ]
  },
  {
   "cell_type": "markdown",
   "id": "57ff95e7-1e51-4796-b026-523b9550b660",
   "metadata": {},
   "source": [
    "### EDA"
   ]
  },
  {
   "cell_type": "code",
   "execution_count": 5,
   "id": "d1ee481f-94ea-46d8-84a6-1464de9adc9f",
   "metadata": {},
   "outputs": [
    {
     "data": {
      "text/plain": [
       "(50000, 2)"
      ]
     },
     "execution_count": 5,
     "metadata": {},
     "output_type": "execute_result"
    }
   ],
   "source": [
    "df.shape"
   ]
  },
  {
   "cell_type": "code",
   "execution_count": 6,
   "id": "3d39abf5-b3a5-40e9-9056-b5d669e10c66",
   "metadata": {},
   "outputs": [
    {
     "data": {
      "text/plain": [
       "review       0\n",
       "sentiment    0\n",
       "dtype: int64"
      ]
     },
     "execution_count": 6,
     "metadata": {},
     "output_type": "execute_result"
    }
   ],
   "source": [
    "df.isnull().sum()"
   ]
  },
  {
   "cell_type": "code",
   "execution_count": 7,
   "id": "ff66339a-1a32-4acd-a7cb-433c7743e918",
   "metadata": {},
   "outputs": [
    {
     "data": {
      "text/html": [
       "<div>\n",
       "<style scoped>\n",
       "    .dataframe tbody tr th:only-of-type {\n",
       "        vertical-align: middle;\n",
       "    }\n",
       "\n",
       "    .dataframe tbody tr th {\n",
       "        vertical-align: top;\n",
       "    }\n",
       "\n",
       "    .dataframe thead th {\n",
       "        text-align: right;\n",
       "    }\n",
       "</style>\n",
       "<table border=\"1\" class=\"dataframe\">\n",
       "  <thead>\n",
       "    <tr style=\"text-align: right;\">\n",
       "      <th></th>\n",
       "      <th>review</th>\n",
       "      <th>sentiment</th>\n",
       "    </tr>\n",
       "  </thead>\n",
       "  <tbody>\n",
       "    <tr>\n",
       "      <th>count</th>\n",
       "      <td>50000</td>\n",
       "      <td>50000</td>\n",
       "    </tr>\n",
       "    <tr>\n",
       "      <th>unique</th>\n",
       "      <td>49582</td>\n",
       "      <td>2</td>\n",
       "    </tr>\n",
       "    <tr>\n",
       "      <th>top</th>\n",
       "      <td>Loved today's show!!! It was a variety and not...</td>\n",
       "      <td>positive</td>\n",
       "    </tr>\n",
       "    <tr>\n",
       "      <th>freq</th>\n",
       "      <td>5</td>\n",
       "      <td>25000</td>\n",
       "    </tr>\n",
       "  </tbody>\n",
       "</table>\n",
       "</div>"
      ],
      "text/plain": [
       "                                                   review sentiment\n",
       "count                                               50000     50000\n",
       "unique                                              49582         2\n",
       "top     Loved today's show!!! It was a variety and not...  positive\n",
       "freq                                                    5     25000"
      ]
     },
     "execution_count": 7,
     "metadata": {},
     "output_type": "execute_result"
    }
   ],
   "source": [
    "df.describe()"
   ]
  },
  {
   "cell_type": "code",
   "execution_count": 8,
   "id": "81639126-526c-46ff-82ee-1f69a7ee3fae",
   "metadata": {},
   "outputs": [
    {
     "name": "stdout",
     "output_type": "stream",
     "text": [
      "<class 'pandas.core.frame.DataFrame'>\n",
      "RangeIndex: 50000 entries, 0 to 49999\n",
      "Data columns (total 2 columns):\n",
      " #   Column     Non-Null Count  Dtype \n",
      "---  ------     --------------  ----- \n",
      " 0   review     50000 non-null  object\n",
      " 1   sentiment  50000 non-null  object\n",
      "dtypes: object(2)\n",
      "memory usage: 781.4+ KB\n"
     ]
    }
   ],
   "source": [
    "df.info()"
   ]
  },
  {
   "cell_type": "code",
   "execution_count": 9,
   "id": "84983b39-8344-4983-935d-d26553bc45e0",
   "metadata": {},
   "outputs": [
    {
     "data": {
      "text/plain": [
       "array(['positive', 'negative'], dtype=object)"
      ]
     },
     "execution_count": 9,
     "metadata": {},
     "output_type": "execute_result"
    }
   ],
   "source": [
    "#Checking the unique values in the dataset\n",
    "df['sentiment'].unique()"
   ]
  },
  {
   "cell_type": "code",
   "execution_count": 10,
   "id": "cf58a22b-a0d8-4994-a0bb-b51f06117a49",
   "metadata": {},
   "outputs": [
    {
     "data": {
      "text/plain": [
       "sentiment\n",
       "positive    25000\n",
       "negative    25000\n",
       "Name: count, dtype: int64"
      ]
     },
     "execution_count": 10,
     "metadata": {},
     "output_type": "execute_result"
    }
   ],
   "source": [
    "df['sentiment'].value_counts()"
   ]
  },
  {
   "cell_type": "markdown",
   "id": "3b00c2e1-cad9-4925-8155-f231397f5163",
   "metadata": {},
   "source": [
    "We can observe that there are 2 sentiments, positive and negative under the sentiments column"
   ]
  },
  {
   "cell_type": "markdown",
   "id": "959e95ac-c647-405a-9fc5-5f1838c70705",
   "metadata": {},
   "source": [
    "Using Label Encoder to make categorical data into numerical(Positive:1, Negative:0)"
   ]
  },
  {
   "cell_type": "code",
   "execution_count": 11,
   "id": "cd9a70db-b781-41f8-aeb8-0dcc68cc47e2",
   "metadata": {},
   "outputs": [],
   "source": [
    "label=LabelEncoder()\n",
    "df['sentiment'] = label.fit_transform(df['sentiment'])"
   ]
  },
  {
   "cell_type": "code",
   "execution_count": 12,
   "id": "cde08f9e-f916-4a15-bacc-5316eebbcb4f",
   "metadata": {},
   "outputs": [
    {
     "data": {
      "text/html": [
       "<div>\n",
       "<style scoped>\n",
       "    .dataframe tbody tr th:only-of-type {\n",
       "        vertical-align: middle;\n",
       "    }\n",
       "\n",
       "    .dataframe tbody tr th {\n",
       "        vertical-align: top;\n",
       "    }\n",
       "\n",
       "    .dataframe thead th {\n",
       "        text-align: right;\n",
       "    }\n",
       "</style>\n",
       "<table border=\"1\" class=\"dataframe\">\n",
       "  <thead>\n",
       "    <tr style=\"text-align: right;\">\n",
       "      <th></th>\n",
       "      <th>review</th>\n",
       "      <th>sentiment</th>\n",
       "    </tr>\n",
       "  </thead>\n",
       "  <tbody>\n",
       "    <tr>\n",
       "      <th>0</th>\n",
       "      <td>One of the other reviewers has mentioned that ...</td>\n",
       "      <td>1</td>\n",
       "    </tr>\n",
       "    <tr>\n",
       "      <th>1</th>\n",
       "      <td>A wonderful little production. &lt;br /&gt;&lt;br /&gt;The...</td>\n",
       "      <td>1</td>\n",
       "    </tr>\n",
       "    <tr>\n",
       "      <th>2</th>\n",
       "      <td>I thought this was a wonderful way to spend ti...</td>\n",
       "      <td>1</td>\n",
       "    </tr>\n",
       "    <tr>\n",
       "      <th>3</th>\n",
       "      <td>Basically there's a family where a little boy ...</td>\n",
       "      <td>0</td>\n",
       "    </tr>\n",
       "    <tr>\n",
       "      <th>4</th>\n",
       "      <td>Petter Mattei's \"Love in the Time of Money\" is...</td>\n",
       "      <td>1</td>\n",
       "    </tr>\n",
       "  </tbody>\n",
       "</table>\n",
       "</div>"
      ],
      "text/plain": [
       "                                              review  sentiment\n",
       "0  One of the other reviewers has mentioned that ...          1\n",
       "1  A wonderful little production. <br /><br />The...          1\n",
       "2  I thought this was a wonderful way to spend ti...          1\n",
       "3  Basically there's a family where a little boy ...          0\n",
       "4  Petter Mattei's \"Love in the Time of Money\" is...          1"
      ]
     },
     "execution_count": 12,
     "metadata": {},
     "output_type": "execute_result"
    }
   ],
   "source": [
    "df.head()"
   ]
  },
  {
   "cell_type": "markdown",
   "id": "6bebc83c-2271-4403-8a10-fcfa3117399c",
   "metadata": {},
   "source": [
    "#### Dividing the data into independent and dependent(target)"
   ]
  },
  {
   "cell_type": "code",
   "execution_count": 13,
   "id": "7c794a83-3665-46b7-badb-7701bf8b4830",
   "metadata": {},
   "outputs": [],
   "source": [
    "x = df['review']\n",
    "y = df['sentiment']"
   ]
  },
  {
   "cell_type": "markdown",
   "id": "aaad42f0-d43f-4bc8-96b0-002e67f93aae",
   "metadata": {},
   "source": [
    "#### Remove all special characters and numeric character from data and remove stopwords and apply stemming\n",
    "- This is so that there are no numeric characters and special characters which arent possible for language model to identify\n",
    "- Stopwords are words such as \"the\" , \"is\", \"in\", \"and\" , \"to\", \"of\" which dont hold any meaning and are not important in determining the meaning of a sentence"
   ]
  },
  {
   "cell_type": "markdown",
   "id": "45bc921e-2bee-4ad0-94cc-942cf3fbe4ad",
   "metadata": {},
   "source": [
    "### Stemming\n",
    "Stemming is the process of converting words to their root or base form for example lover, loving, loved, lovely,lovable are all stemmed to love.\n",
    "We will be using the PorterStemmer algorithm for this purpose"
   ]
  },
  {
   "cell_type": "code",
   "execution_count": null,
   "id": "c2e8ae77-ab6e-4ca1-ab84-e4b18b97154d",
   "metadata": {},
   "outputs": [],
   "source": [
    "ps = PorterStemmer()\n",
    "corpus = []\n",
    "\n",
    "for i in range(len(x)):\n",
    "    review = re.sub(\"[^a-zA-Z]\",\" \",x[i])\n",
    "    #The above process will remove all numeric and special characters using regular expression\n",
    "    review = review.lower()\n",
    "    review = review.split()\n",
    "    #The above statement converts the entire review into a list of separate words\n",
    "    review = [ps.stem(word) for word in review if word not in set(stopwords.words(\"english\"))]\n",
    "    review = \" \".join(review)\n",
    "    #The above line again joins the separate words into a statement\n",
    "    corpus.append(review)"
   ]
  },
  {
   "cell_type": "code",
   "execution_count": null,
   "id": "44771a29-6d78-4b80-b73c-1d8ff1ab2228",
   "metadata": {},
   "outputs": [],
   "source": [
    "corpus"
   ]
  },
  {
   "cell_type": "markdown",
   "id": "ad59bd3d-b8d7-427b-8df2-50c08f97beaf",
   "metadata": {},
   "source": [
    "### Apply Tfidf Vectorizer to make text data into vectors\n",
    "Vectorisation basically converts sentences into numerical format for easy computation"
   ]
  },
  {
   "cell_type": "code",
   "execution_count": null,
   "id": "7ed9da1f-51e6-4d6f-a99b-15a78c546156",
   "metadata": {},
   "outputs": [],
   "source": [
    "from sklearn.feature_extraction import TfidfVectorizer\n",
    "cv = TfidfVectorizer(max_features =5000)\n",
    "x = cv.fit_transform(corpus).toarray()"
   ]
  },
  {
   "cell_type": "code",
   "execution_count": null,
   "id": "16770fc5-eeb4-4e0a-ad47-771936d72c04",
   "metadata": {},
   "outputs": [],
   "source": [
    "x.shape"
   ]
  },
  {
   "cell_type": "markdown",
   "id": "0354adf4-6900-4af5-b248-1f875549b124",
   "metadata": {},
   "source": [
    "### Split Data into train and test"
   ]
  },
  {
   "cell_type": "code",
   "execution_count": null,
   "id": "210cbb7c-038d-4519-9dc9-b25e94450d94",
   "metadata": {},
   "outputs": [],
   "source": [
    "x_train,x_test,y_train,y_test = train_test_split(x,y,test_size =0.2,random_state = 42)"
   ]
  },
  {
   "cell_type": "code",
   "execution_count": null,
   "id": "e60d5140-58bf-42e1-97d1-bc5938923d58",
   "metadata": {},
   "outputs": [],
   "source": [
    "x_train,x_test,y_train,y_test"
   ]
  },
  {
   "cell_type": "markdown",
   "id": "cd82180a-13cc-46a0-bd56-35e2e09ece99",
   "metadata": {},
   "source": [
    "### Define NaiveBayes Model"
   ]
  },
  {
   "cell_type": "code",
   "execution_count": null,
   "id": "c94eeeed-0898-4d54-8d97-272a5a094575",
   "metadata": {},
   "outputs": [],
   "source": [
    "mnb = MultinomialNB()\n",
    "mnb.fit(x_train,y_train)"
   ]
  },
  {
   "cell_type": "markdown",
   "id": "1ebb0542-3231-4b47-a95f-4da34ca1cb4d",
   "metadata": {},
   "source": [
    "### Testing and evaluation"
   ]
  },
  {
   "cell_type": "code",
   "execution_count": null,
   "id": "c2cf5c6c-c0b0-4c87-b345-314e889e8b5c",
   "metadata": {},
   "outputs": [],
   "source": [
    "pred = mnb.predict(x_test)"
   ]
  },
  {
   "cell_type": "code",
   "execution_count": null,
   "id": "1134aab3-d1c7-4056-be39-1cf02619e7ea",
   "metadata": {},
   "outputs": [],
   "source": [
    "print(accuracy_score(y_test,pred))\n",
    "print(confusion_matrix(y_test,pred))\n",
    "print(classification_report(y_test,pred))"
   ]
  },
  {
   "cell_type": "markdown",
   "id": "282199d6-5b8f-4d74-928c-b9b01893da75",
   "metadata": {},
   "source": [
    "### Define a function to test the model"
   ]
  },
  {
   "cell_type": "code",
   "execution_count": null,
   "id": "56ebd0d3-59c2-4762-8730-c0083a76b026",
   "metadata": {},
   "outputs": [],
   "source": [
    "def test_model(sentence):\n",
    "    sen = save_cv.transform([sentence]).toarray()\n",
    "    res = model.predict(sen)[0]\n",
    "    if res==1:\n",
    "        return \"Positive review\"\n",
    "    else:\n",
    "        return \"Negative review\""
   ]
  },
  {
   "cell_type": "markdown",
   "id": "7efa737e-99d0-4814-9ee9-1b7efc35dbe0",
   "metadata": {},
   "source": [
    "### Testing a positive and negative review"
   ]
  },
  {
   "cell_type": "code",
   "execution_count": null,
   "id": "41b90302-cd78-4ccb-af6e-54bc5277b412",
   "metadata": {},
   "outputs": [],
   "source": [
    "sen = \"This  is a great movie to watch with friends and family23l;tq\"\n",
    "res = test_model(sen)\n",
    "print(res)"
   ]
  },
  {
   "cell_type": "code",
   "execution_count": null,
   "id": "95629cd7-8324-4203-b962-6306be7b96df",
   "metadata": {},
   "outputs": [],
   "source": [
    "sen = \"This is a very worst movie.Wouldnt recommend to anyone\"\n",
    "res = test_model(sen)\n",
    "print(res)"
   ]
  }
 ],
 "metadata": {
  "kernelspec": {
   "display_name": "Python 3 (ipykernel)",
   "language": "python",
   "name": "python3"
  },
  "language_info": {
   "codemirror_mode": {
    "name": "ipython",
    "version": 3
   },
   "file_extension": ".py",
   "mimetype": "text/x-python",
   "name": "python",
   "nbconvert_exporter": "python",
   "pygments_lexer": "ipython3",
   "version": "3.10.13"
  }
 },
 "nbformat": 4,
 "nbformat_minor": 5
}
