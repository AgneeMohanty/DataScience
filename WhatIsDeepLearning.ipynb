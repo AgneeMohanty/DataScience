{
 "cells": [
  {
   "cell_type": "markdown",
   "id": "43110ff4-ad85-4139-92cd-4d379aaa730b",
   "metadata": {},
   "source": [
    "# Deep Learning\n",
    "Deep learning is a branch of machine learning that is based on artificial neural network architecture(ANN), it is better at learning from unstructured images or audios."
   ]
  },
  {
   "cell_type": "markdown",
   "id": "41568f9a-ba21-4023-813c-927315a66f67",
   "metadata": {},
   "source": [
    "Steps in a full machine learning project(irrespective of learning types)\n",
    "* Data collection\n",
    "* Data modelling\n",
    "* Data Deployment"
   ]
  },
  {
   "cell_type": "markdown",
   "id": "352944d2-2038-4644-98c2-d6e42076c7ef",
   "metadata": {},
   "source": [
    "What comes under Data Modelling\n",
    "* Problem Definition-What problem are we trying to solve?\n",
    "* Data- What data do we have?\n",
    "* Evaluation-What defines success?\n",
    "* Features-What features should we model?\n",
    "* Modelling- What kind of model should we use?\n",
    "* Experiments-What have we tried/what else can we try?"
   ]
  },
  {
   "cell_type": "markdown",
   "id": "289f5070-e391-47ee-b462-4c53515c3da2",
   "metadata": {},
   "source": [
    "#### We are going to use Tensorflow and GoogleCollab"
   ]
  },
  {
   "cell_type": "markdown",
   "id": "fae1624f-8935-457e-8401-0f231a195c1f",
   "metadata": {},
   "source": [
    "### What is TensorFlow?\n",
    "* TensorFlow is a numerical computing library,conceived by Google for all their deep learning insights.\n",
    "* It is an open source platform and anyone can contribute to make it better.\n",
    "                                                               "
   ]
  },
  {
   "cell_type": "markdown",
   "id": "934a3700-6574-4907-aa78-d028eb63808f",
   "metadata": {},
   "source": [
    "Deep Learning unlike what we did previously (learning from structured dataframes) can learn from unstructured data(photos,audios etc), using neural networks(which is exactly like a machine learning model)(it imitates the working of neurons so its called neural network)"
   ]
  },
  {
   "cell_type": "markdown",
   "id": "194274b9-832b-49d5-aede-00734fa26b7d",
   "metadata": {},
   "source": [
    "### Why TensorFlow?\n",
    "* Write fast deep learning code in Python(able to run on a GPU)\n",
    "* Ability to access pre-built deep learning models\n",
    "* Whole Stack: Preprocess, model,deploy.\n",
    "* originally designed and used in-house by Google(now open-source)"
   ]
  },
  {
   "cell_type": "markdown",
   "id": "39afa3b8-c74e-4fd9-94c3-5b1e04917033",
   "metadata": {},
   "source": [
    "### What is a GPU?\n",
    "It stands for Graphics Processing Unit, it is a lot faster than cpu at doing numerical computing, since machine learning converts data to numerical values and then finds patterns from the data, a GPU can help us make those calculations a lot faster."
   ]
  },
  {
   "cell_type": "markdown",
   "id": "e0092379-d34c-447a-b1c5-e4df42c3cf21",
   "metadata": {},
   "source": [
    "### What kind of deep learning Problems are there?\n",
    "* Classification-Classifying unstructured images\n",
    "* Seq2Seq - sequence to sequence - Siri, Google translate\n",
    "* Object Detection- Similar to image classification, but now we try to find out where a particular object is in an image(used in self-driving cars)"
   ]
  },
  {
   "cell_type": "markdown",
   "id": "d647a745-593e-40d1-88b0-8174705fda53",
   "metadata": {},
   "source": [
    "### What is transfer Learning? Why use transfer Learning?\n",
    "* Taking what you know in one domain and apply it to another\n",
    "* Starting from scratch can be expensive and time consuming\n",
    "* Why not take advantage of what's already out there?\n",
    "* For example we want to train a model on how to identify dogs, but in another project we have already trained the model to identify cats, then we can use it here."
   ]
  },
  {
   "cell_type": "markdown",
   "id": "9edb966c-fe5a-4f7e-8d7d-075375a1af31",
   "metadata": {},
   "source": [
    "#### We need tensorflow hub from where we can choose our models"
   ]
  },
  {
   "cell_type": "markdown",
   "id": "77f6b0e5-4e8c-45f4-b3bb-97eb9f84a902",
   "metadata": {},
   "source": [
    "### Why Google Collab?\n",
    "We could run the deep learning models on our own hardware using jupyter notebook, but it would be slow, but by using drive and google collab , we can make use of google hardware to make the process a lot faster."
   ]
  },
  {
   "cell_type": "markdown",
   "id": "ebb8f949-bccb-4bbb-88ba-bf73b43dce13",
   "metadata": {},
   "source": [
    "### Structured Data=Catboost, dmlc,XGBoost,Random Forest\n",
    "### Unstructured Data= Deeplearning(TensorFlow),TransferLearning(TensorFlow Hub)"
   ]
  },
  {
   "cell_type": "code",
   "execution_count": null,
   "id": "d9b73841-0ad9-4997-8112-fc23dc867cfc",
   "metadata": {},
   "outputs": [],
   "source": []
  }
 ],
 "metadata": {
  "kernelspec": {
   "display_name": "Python 3 (ipykernel)",
   "language": "python",
   "name": "python3"
  },
  "language_info": {
   "codemirror_mode": {
    "name": "ipython",
    "version": 3
   },
   "file_extension": ".py",
   "mimetype": "text/x-python",
   "name": "python",
   "nbconvert_exporter": "python",
   "pygments_lexer": "ipython3",
   "version": "3.10.13"
  }
 },
 "nbformat": 4,
 "nbformat_minor": 5
}
