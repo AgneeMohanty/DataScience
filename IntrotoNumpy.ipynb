{
 "cells": [
  {
   "cell_type": "code",
   "execution_count": 32,
   "id": "31d3ca8f-c277-4696-95dd-6b2d2ab951e8",
   "metadata": {},
   "outputs": [],
   "source": [
    "import numpy as np"
   ]
  },
  {
   "cell_type": "markdown",
   "id": "80d6c98e-c8cb-4f6f-ba04-5ff04d2c51bc",
   "metadata": {},
   "source": [
    "## DataTypes & Attributes"
   ]
  },
  {
   "cell_type": "code",
   "execution_count": 33,
   "id": "1e2bc323-d395-4e1d-b063-8237edcfa642",
   "metadata": {},
   "outputs": [
    {
     "data": {
      "text/plain": [
       "array([1, 3, 5, 7])"
      ]
     },
     "execution_count": 33,
     "metadata": {},
     "output_type": "execute_result"
    }
   ],
   "source": [
    "#NumPys main datatype is n d array or n dimensional array\n",
    "a1 = np.array([1,3,5,7])\n",
    "a1"
   ]
  },
  {
   "cell_type": "code",
   "execution_count": 34,
   "id": "544bdd6d-fd12-48a4-b00a-6cfff892f303",
   "metadata": {},
   "outputs": [
    {
     "data": {
      "text/plain": [
       "numpy.ndarray"
      ]
     },
     "execution_count": 34,
     "metadata": {},
     "output_type": "execute_result"
    }
   ],
   "source": [
    "type(a1)"
   ]
  },
  {
   "cell_type": "code",
   "execution_count": 35,
   "id": "64b3bf6b-c113-4ad6-944c-4559769d5914",
   "metadata": {},
   "outputs": [
    {
     "data": {
      "text/plain": [
       "array([[3.  , 5.17, 4.44],\n",
       "       [9.27, 4.25, 3.  ]])"
      ]
     },
     "execution_count": 35,
     "metadata": {},
     "output_type": "execute_result"
    }
   ],
   "source": [
    "a2 = np.array([[3.0, 5.17,4.44],\n",
    "              [9.27, 4.25,3]])\n",
    "a2"
   ]
  },
  {
   "cell_type": "code",
   "execution_count": 45,
   "id": "aa2fb45e-c3f0-4cdc-b077-a98633853e79",
   "metadata": {},
   "outputs": [
    {
     "data": {
      "text/plain": [
       "array([[[ 1,  2,  3],\n",
       "        [ 4,  5,  6],\n",
       "        [ 7,  8,  9]],\n",
       "\n",
       "       [[10, 11, 12],\n",
       "        [13, 14, 15],\n",
       "        [16, 17, 18]]])"
      ]
     },
     "execution_count": 45,
     "metadata": {},
     "output_type": "execute_result"
    }
   ],
   "source": [
    "a3 = np.array([[[1,2,3],\n",
    "      [4,5,6],\n",
    "      [7,8,9]],\n",
    "        [[10,11,12],\n",
    "               [13,14,15],\n",
    "               [16,17,18]]])\n",
    "a3"
   ]
  },
  {
   "cell_type": "code",
   "execution_count": 46,
   "id": "6c44414b-d528-4629-8bd1-38a4d4b607a8",
   "metadata": {},
   "outputs": [],
   "source": [
    "#vector is a 1 dimensional array\n",
    "#matrix has more than 1 dimensions\n",
    "#axis 0 refers to rows 1 to columns and n to other dimension"
   ]
  },
  {
   "cell_type": "code",
   "execution_count": 47,
   "id": "209a28e9-098e-4fd4-8e19-46300b7e1daf",
   "metadata": {},
   "outputs": [
    {
     "data": {
      "text/plain": [
       "(4,)"
      ]
     },
     "execution_count": 47,
     "metadata": {},
     "output_type": "execute_result"
    }
   ],
   "source": [
    "a1.shape"
   ]
  },
  {
   "cell_type": "code",
   "execution_count": 48,
   "id": "4857df60-a652-4e8d-8e6b-03029c1a70f2",
   "metadata": {},
   "outputs": [
    {
     "data": {
      "text/plain": [
       "(2, 3)"
      ]
     },
     "execution_count": 48,
     "metadata": {},
     "output_type": "execute_result"
    }
   ],
   "source": [
    "a2.shape"
   ]
  },
  {
   "cell_type": "code",
   "execution_count": 49,
   "id": "9024d026-8f49-49d1-861c-59e1dd2d3155",
   "metadata": {},
   "outputs": [
    {
     "data": {
      "text/plain": [
       "(2, 3, 3)"
      ]
     },
     "execution_count": 49,
     "metadata": {},
     "output_type": "execute_result"
    }
   ],
   "source": [
    "a3.shape"
   ]
  },
  {
   "cell_type": "code",
   "execution_count": 41,
   "id": "808c6775-b650-45b5-9f6e-216ae658835c",
   "metadata": {},
   "outputs": [
    {
     "data": {
      "text/plain": [
       "(1, 2, 3)"
      ]
     },
     "execution_count": 41,
     "metadata": {},
     "output_type": "execute_result"
    }
   ],
   "source": [
    "a1.ndim, a2.ndim, a3.ndim"
   ]
  },
  {
   "cell_type": "code",
   "execution_count": 42,
   "id": "485c2bc3-a6a1-407d-b128-585cbedf9789",
   "metadata": {},
   "outputs": [
    {
     "data": {
      "text/plain": [
       "(dtype('int32'), dtype('float64'))"
      ]
     },
     "execution_count": 42,
     "metadata": {},
     "output_type": "execute_result"
    }
   ],
   "source": [
    "a1.dtype, a2.dtype\n"
   ]
  },
  {
   "cell_type": "code",
   "execution_count": 43,
   "id": "121a6512-6ba7-40bb-8ce2-3d53c8680336",
   "metadata": {},
   "outputs": [
    {
     "data": {
      "text/plain": [
       "(4, 6, 18)"
      ]
     },
     "execution_count": 43,
     "metadata": {},
     "output_type": "execute_result"
    }
   ],
   "source": [
    "a1.size, a2.size,a3.size"
   ]
  },
  {
   "cell_type": "code",
   "execution_count": 44,
   "id": "48af5758-8325-4df5-aa2f-413546bd221b",
   "metadata": {},
   "outputs": [
    {
     "data": {
      "text/plain": [
       "(numpy.ndarray, numpy.ndarray)"
      ]
     },
     "execution_count": 44,
     "metadata": {},
     "output_type": "execute_result"
    }
   ],
   "source": [
    "\n",
    "\n",
    "type(a1), type(a2)"
   ]
  },
  {
   "cell_type": "code",
   "execution_count": 31,
   "id": "73095e8d-8cdd-424c-8856-2144e906ef93",
   "metadata": {},
   "outputs": [
    {
     "data": {
      "text/html": [
       "<div>\n",
       "<style scoped>\n",
       "    .dataframe tbody tr th:only-of-type {\n",
       "        vertical-align: middle;\n",
       "    }\n",
       "\n",
       "    .dataframe tbody tr th {\n",
       "        vertical-align: top;\n",
       "    }\n",
       "\n",
       "    .dataframe thead th {\n",
       "        text-align: right;\n",
       "    }\n",
       "</style>\n",
       "<table border=\"1\" class=\"dataframe\">\n",
       "  <thead>\n",
       "    <tr style=\"text-align: right;\">\n",
       "      <th></th>\n",
       "      <th>0</th>\n",
       "      <th>1</th>\n",
       "      <th>2</th>\n",
       "    </tr>\n",
       "  </thead>\n",
       "  <tbody>\n",
       "    <tr>\n",
       "      <th>0</th>\n",
       "      <td>3.00</td>\n",
       "      <td>5.17</td>\n",
       "      <td>4.44</td>\n",
       "    </tr>\n",
       "    <tr>\n",
       "      <th>1</th>\n",
       "      <td>9.27</td>\n",
       "      <td>4.25</td>\n",
       "      <td>3.00</td>\n",
       "    </tr>\n",
       "  </tbody>\n",
       "</table>\n",
       "</div>"
      ],
      "text/plain": [
       "      0     1     2\n",
       "0  3.00  5.17  4.44\n",
       "1  9.27  4.25  3.00"
      ]
     },
     "execution_count": 31,
     "metadata": {},
     "output_type": "execute_result"
    }
   ],
   "source": [
    "#Create a Dataframe from NumPy Array'\n",
    "import pandas as pd\n",
    "d1 = pd.DataFrame(a2)\n",
    "d1"
   ]
  },
  {
   "cell_type": "markdown",
   "id": "c7102947-a513-4efe-97ec-d2f826bbce94",
   "metadata": {},
   "source": [
    "## Creating arrays` "
   ]
  },
  {
   "cell_type": "code",
   "execution_count": 15,
   "id": "64129824-f83b-46d3-acd4-c56f54c262b0",
   "metadata": {},
   "outputs": [
    {
     "data": {
      "text/plain": [
       "array([1, 2, 3])"
      ]
     },
     "execution_count": 15,
     "metadata": {},
     "output_type": "execute_result"
    }
   ],
   "source": [
    "sample_array = np.array([1,2,3])\n",
    "sample_array"
   ]
  },
  {
   "cell_type": "code",
   "execution_count": 16,
   "id": "0bf3f26b-b97c-43a3-ad82-85e3f08efebb",
   "metadata": {},
   "outputs": [
    {
     "data": {
      "text/plain": [
       "dtype('int32')"
      ]
     },
     "execution_count": 16,
     "metadata": {},
     "output_type": "execute_result"
    }
   ],
   "source": [
    "sample_array.dtype"
   ]
  },
  {
   "cell_type": "code",
   "execution_count": 17,
   "id": "14b6723d-be9a-4eae-a2b1-a93458a6b045",
   "metadata": {},
   "outputs": [
    {
     "data": {
      "text/plain": [
       "array([[1., 1., 1.],\n",
       "       [1., 1., 1.]])"
      ]
     },
     "execution_count": 17,
     "metadata": {},
     "output_type": "execute_result"
    }
   ],
   "source": [
    "ones = np.ones((2,3))\n",
    "ones"
   ]
  },
  {
   "cell_type": "code",
   "execution_count": 18,
   "id": "3a77a6c1-1187-47d7-a185-773ffb663405",
   "metadata": {},
   "outputs": [],
   "source": [
    "#returns an array of given size filles with ones"
   ]
  },
  {
   "cell_type": "code",
   "execution_count": 19,
   "id": "3fc1e3bd-ae94-4998-b530-a04fc0e0cba2",
   "metadata": {},
   "outputs": [
    {
     "data": {
      "text/plain": [
       "dtype('float64')"
      ]
     },
     "execution_count": 19,
     "metadata": {},
     "output_type": "execute_result"
    }
   ],
   "source": [
    "ones.dtype"
   ]
  },
  {
   "cell_type": "code",
   "execution_count": 20,
   "id": "cd38555d-0d9e-4bad-9236-51addfd8b08b",
   "metadata": {},
   "outputs": [
    {
     "data": {
      "text/plain": [
       "numpy.ndarray"
      ]
     },
     "execution_count": 20,
     "metadata": {},
     "output_type": "execute_result"
    }
   ],
   "source": [
    "type(ones)"
   ]
  },
  {
   "cell_type": "code",
   "execution_count": 21,
   "id": "20f5418d-daad-4e4f-88bd-161f77c73d56",
   "metadata": {},
   "outputs": [
    {
     "data": {
      "text/plain": [
       "array([[0., 0., 0.],\n",
       "       [0., 0., 0.],\n",
       "       [0., 0., 0.]])"
      ]
     },
     "execution_count": 21,
     "metadata": {},
     "output_type": "execute_result"
    }
   ],
   "source": [
    "zers = np.zeros((3,3))\n",
    "zers"
   ]
  },
  {
   "cell_type": "code",
   "execution_count": 22,
   "id": "39d2c578-9322-4a75-bb35-e2c76595e4ca",
   "metadata": {},
   "outputs": [],
   "source": [
    "range_array = np.arange(0,10,2)\n",
    "#start, stop, step"
   ]
  },
  {
   "cell_type": "code",
   "execution_count": 23,
   "id": "9978bc6d-a522-493b-9aeb-34ba4af6d349",
   "metadata": {},
   "outputs": [
    {
     "data": {
      "text/plain": [
       "array([0, 2, 4, 6, 8])"
      ]
     },
     "execution_count": 23,
     "metadata": {},
     "output_type": "execute_result"
    }
   ],
   "source": [
    "range_array"
   ]
  },
  {
   "cell_type": "code",
   "execution_count": 24,
   "id": "a14153a8-b5f4-4314-8285-d5f007e915d3",
   "metadata": {},
   "outputs": [],
   "source": [
    "#produces a random array with 10 exclusive justlike in random function\n",
    "random_array = np.random.randint(0,10,size = (3,5))#size = is important"
   ]
  },
  {
   "cell_type": "code",
   "execution_count": 25,
   "id": "6a3a644f-db2f-4c57-8128-dd492d76b475",
   "metadata": {},
   "outputs": [
    {
     "data": {
      "text/plain": [
       "array([[4, 5, 5, 2, 4],\n",
       "       [9, 4, 6, 6, 0],\n",
       "       [1, 9, 9, 2, 3]])"
      ]
     },
     "execution_count": 25,
     "metadata": {},
     "output_type": "execute_result"
    }
   ],
   "source": [
    "random_array"
   ]
  },
  {
   "cell_type": "code",
   "execution_count": 26,
   "id": "af27d656-c9ef-418b-a7f1-13e0e382eeeb",
   "metadata": {},
   "outputs": [
    {
     "data": {
      "text/plain": [
       "15"
      ]
     },
     "execution_count": 26,
     "metadata": {},
     "output_type": "execute_result"
    }
   ],
   "source": [
    "random_array.size"
   ]
  },
  {
   "cell_type": "code",
   "execution_count": 27,
   "id": "26d03aea-6727-4388-900c-9405bdc7cbfd",
   "metadata": {},
   "outputs": [
    {
     "data": {
      "text/plain": [
       "(3, 5)"
      ]
     },
     "execution_count": 27,
     "metadata": {},
     "output_type": "execute_result"
    }
   ],
   "source": [
    "#shift+tab gives the info of the function\n",
    "random_array.shape   "
   ]
  },
  {
   "cell_type": "code",
   "execution_count": 28,
   "id": "d9cd4420-33e2-4624-a444-2bd3402a395a",
   "metadata": {},
   "outputs": [],
   "source": [
    "#another way to create a random array\n",
    "random_array_2 = np.random.random((3,5))\n",
    "#random.random gives numbers between 0 and 1 with 1 exclusive and 3,5 gives the size of array"
   ]
  },
  {
   "cell_type": "code",
   "execution_count": 29,
   "id": "c8c28a33-1d1f-4ff2-90e5-e330e90bf25b",
   "metadata": {},
   "outputs": [
    {
     "data": {
      "text/plain": [
       "array([[0.97347451, 0.84477605, 0.92419748, 0.8471794 , 0.28483144],\n",
       "       [0.08956533, 0.59499462, 0.42582451, 0.92927672, 0.26351147],\n",
       "       [0.22161927, 0.26858196, 0.57958768, 0.22768472, 0.41889827]])"
      ]
     },
     "execution_count": 29,
     "metadata": {},
     "output_type": "execute_result"
    }
   ],
   "source": [
    "random_array_2"
   ]
  },
  {
   "cell_type": "code",
   "execution_count": 30,
   "id": "34a23373-aadb-4774-9411-68c23acbe708",
   "metadata": {},
   "outputs": [
    {
     "data": {
      "text/plain": [
       "(3, 5)"
      ]
     },
     "execution_count": 30,
     "metadata": {},
     "output_type": "execute_result"
    }
   ],
   "source": [
    "random_array_2.shape"
   ]
  },
  {
   "cell_type": "code",
   "execution_count": 15,
   "id": "850fce04-bcfd-4774-b594-5a07d53984d7",
   "metadata": {},
   "outputs": [
    {
     "data": {
      "text/plain": [
       "array([[0.23020262, 0.18095993, 0.39359904, 0.83273525],\n",
       "       [0.66373045, 0.22147947, 0.85860366, 0.27717692],\n",
       "       [0.82015736, 0.06648044, 0.40132487, 0.75702998]])"
      ]
     },
     "execution_count": 15,
     "metadata": {},
     "output_type": "execute_result"
    }
   ],
   "source": [
    "#in random.rand the arguments represent dim0, dimension1, 2 ....respectively\n",
    "#first dim represents row, second column and third the number of such arrays\n",
    "random_array_3 = np.random.rand(3,4)\n",
    "random_array_3"
   ]
  },
  {
   "cell_type": "code",
   "execution_count": 16,
   "id": "77593242-e408-4106-9e49-7d888d88182b",
   "metadata": {},
   "outputs": [
    {
     "data": {
      "text/plain": [
       "array([[[1.83486474e-01, 3.82649753e-01, 2.31795543e-01],\n",
       "        [3.16325690e-01, 5.21076403e-04, 1.97452175e-01],\n",
       "        [7.51734858e-01, 6.78032294e-01, 9.83338263e-01],\n",
       "        [1.63639144e-01, 6.12044265e-03, 3.16657659e-01]],\n",
       "\n",
       "       [[4.83300664e-01, 7.78701261e-01, 4.32349761e-01],\n",
       "        [7.88175324e-01, 8.23853656e-01, 2.02131709e-01],\n",
       "        [7.51420622e-01, 8.46778846e-01, 9.03572234e-01],\n",
       "        [7.12719914e-01, 1.96068629e-01, 4.11649045e-01]],\n",
       "\n",
       "       [[7.35147411e-01, 5.52209999e-01, 9.54840052e-01],\n",
       "        [6.94718910e-01, 8.14011095e-01, 1.06784211e-01],\n",
       "        [1.34634628e-01, 5.80257204e-01, 1.39764486e-01],\n",
       "        [1.27295462e-01, 7.00194436e-01, 6.04327523e-01]]])"
      ]
     },
     "execution_count": 16,
     "metadata": {},
     "output_type": "execute_result"
    }
   ],
   "source": [
    "random_array_4 = np.random.rand(3,4,3)\n",
    "random_array_4"
   ]
  },
  {
   "cell_type": "code",
   "execution_count": 17,
   "id": "23a65f0a-31cb-4cb3-89d7-34cde2d5d596",
   "metadata": {},
   "outputs": [
    {
     "data": {
      "text/plain": [
       "array([[5, 0, 3],\n",
       "       [3, 7, 9],\n",
       "       [3, 5, 2],\n",
       "       [4, 7, 6],\n",
       "       [8, 8, 1]])"
      ]
     },
     "execution_count": 17,
     "metadata": {},
     "output_type": "execute_result"
    }
   ],
   "source": [
    "#in reality the numbers generated by python through the random function are pseudorandom numbers\n",
    "\n",
    "np.random.seed(seed = 0) #can be any number but for one number it remembers one array\n",
    "#seed basically keeps the random numbers unchanged so that we can work on the same array everytime we run\n",
    "random_array_5 = np.random.randint(10, size=(5,3))\n",
    "random_array_5"
   ]
  },
  {
   "cell_type": "code",
   "execution_count": 34,
   "id": "92078a65-69e6-424e-84ee-2f5228a14834",
   "metadata": {},
   "outputs": [],
   "source": [
    "#in this way if someone else uses our project he can use the exact same random numbers as us"
   ]
  },
  {
   "cell_type": "markdown",
   "id": "27c491fd-f16a-4bea-827f-39732b9b6556",
   "metadata": {},
   "source": [
    "## Viewing arrays and matrices"
   ]
  },
  {
   "cell_type": "code",
   "execution_count": 35,
   "id": "7d29bd97-507e-48e1-95dc-ed131b6cda4c",
   "metadata": {},
   "outputs": [
    {
     "data": {
      "text/plain": [
       "array([0, 1, 2, 3, 4, 5, 6, 7, 8, 9])"
      ]
     },
     "execution_count": 35,
     "metadata": {},
     "output_type": "execute_result"
    }
   ],
   "source": [
    "#to find unique numbers in numpy array\n",
    "np.unique(random_array_5) "
   ]
  },
  {
   "cell_type": "code",
   "execution_count": 36,
   "id": "57b63e3a-aaca-4613-8b9e-7084343b8f6c",
   "metadata": {},
   "outputs": [
    {
     "data": {
      "text/plain": [
       "array([1, 3, 5, 7])"
      ]
     },
     "execution_count": 36,
     "metadata": {},
     "output_type": "execute_result"
    }
   ],
   "source": [
    "a1"
   ]
  },
  {
   "cell_type": "code",
   "execution_count": 37,
   "id": "c9b0c657-fc32-4892-b011-244e4770eb32",
   "metadata": {},
   "outputs": [
    {
     "data": {
      "text/plain": [
       "array([[3.  , 5.17, 4.44],\n",
       "       [9.27, 4.25, 3.  ]])"
      ]
     },
     "execution_count": 37,
     "metadata": {},
     "output_type": "execute_result"
    }
   ],
   "source": [
    "a2"
   ]
  },
  {
   "cell_type": "code",
   "execution_count": 38,
   "id": "67451184-c13a-42b2-9816-ce895076e2e7",
   "metadata": {},
   "outputs": [
    {
     "data": {
      "text/plain": [
       "array([[[ 1,  2,  3],\n",
       "        [ 4,  5,  6],\n",
       "        [ 7,  8,  9]],\n",
       "\n",
       "       [[10, 11, 12],\n",
       "        [13, 14, 15],\n",
       "        [16, 17, 18]]])"
      ]
     },
     "execution_count": 38,
     "metadata": {},
     "output_type": "execute_result"
    }
   ],
   "source": [
    "a3"
   ]
  },
  {
   "cell_type": "code",
   "execution_count": 39,
   "id": "bb00d4a0-4594-4877-a6e9-616265e726c6",
   "metadata": {},
   "outputs": [
    {
     "data": {
      "text/plain": [
       "1"
      ]
     },
     "execution_count": 39,
     "metadata": {},
     "output_type": "execute_result"
    }
   ],
   "source": [
    "a1[0]"
   ]
  },
  {
   "cell_type": "code",
   "execution_count": 40,
   "id": "ba112322-1b47-44c4-bd5c-5590256fda65",
   "metadata": {},
   "outputs": [
    {
     "data": {
      "text/plain": [
       "array([3.  , 5.17, 4.44])"
      ]
     },
     "execution_count": 40,
     "metadata": {},
     "output_type": "execute_result"
    }
   ],
   "source": [
    "a2[0]"
   ]
  },
  {
   "cell_type": "code",
   "execution_count": 41,
   "id": "cf055847-c570-44a0-97b7-fbef4f5df365",
   "metadata": {},
   "outputs": [
    {
     "data": {
      "text/plain": [
       "array([[1, 2, 3],\n",
       "       [4, 5, 6],\n",
       "       [7, 8, 9]])"
      ]
     },
     "execution_count": 41,
     "metadata": {},
     "output_type": "execute_result"
    }
   ],
   "source": [
    "a3[0]"
   ]
  },
  {
   "cell_type": "code",
   "execution_count": 42,
   "id": "d68d3803-0c2f-41f5-b834-d09f046e70c7",
   "metadata": {},
   "outputs": [
    {
     "data": {
      "text/plain": [
       "array([[[ 1,  2],\n",
       "        [ 4,  5]],\n",
       "\n",
       "       [[10, 11],\n",
       "        [13, 14]]])"
      ]
     },
     "execution_count": 42,
     "metadata": {},
     "output_type": "execute_result"
    }
   ],
   "source": [
    "#we can use slicing with arrays\n",
    "#the first 2 values of each row column and array\n",
    "a3[:2 , :2 ,:2]"
   ]
  },
  {
   "cell_type": "code",
   "execution_count": 43,
   "id": "f5116dbb-6aeb-4028-815a-2c87c3262a99",
   "metadata": {},
   "outputs": [
    {
     "data": {
      "text/plain": [
       "array([[[[6, 7, 7, 8, 1],\n",
       "         [5, 9, 8, 9, 4],\n",
       "         [3, 0, 3, 5, 0],\n",
       "         [2, 3, 8, 1, 3]],\n",
       "\n",
       "        [[3, 3, 7, 0, 1],\n",
       "         [9, 9, 0, 4, 7],\n",
       "         [3, 2, 7, 2, 0],\n",
       "         [0, 4, 5, 5, 6]],\n",
       "\n",
       "        [[8, 4, 1, 4, 9],\n",
       "         [8, 1, 1, 7, 9],\n",
       "         [9, 3, 6, 7, 2],\n",
       "         [0, 3, 5, 9, 4]]],\n",
       "\n",
       "\n",
       "       [[[4, 6, 4, 4, 3],\n",
       "         [4, 4, 8, 4, 3],\n",
       "         [7, 5, 5, 0, 1],\n",
       "         [5, 9, 3, 0, 5]],\n",
       "\n",
       "        [[0, 1, 2, 4, 2],\n",
       "         [0, 3, 2, 0, 7],\n",
       "         [5, 9, 0, 2, 7],\n",
       "         [2, 9, 2, 3, 3]],\n",
       "\n",
       "        [[2, 3, 4, 1, 2],\n",
       "         [9, 1, 4, 6, 8],\n",
       "         [2, 3, 0, 0, 6],\n",
       "         [0, 6, 3, 3, 8]]]])"
      ]
     },
     "execution_count": 43,
     "metadata": {},
     "output_type": "execute_result"
    }
   ],
   "source": [
    "a6 = np.random.randint(10, size = (2,3,4,5))\n",
    "a6"
   ]
  },
  {
   "cell_type": "code",
   "execution_count": 44,
   "id": "0d002d9e-29dc-41d7-8498-c8921e4ae94b",
   "metadata": {},
   "outputs": [
    {
     "data": {
      "text/plain": [
       "(2, 3, 4, 5)"
      ]
     },
     "execution_count": 44,
     "metadata": {},
     "output_type": "execute_result"
    }
   ],
   "source": [
    "a6.shape"
   ]
  },
  {
   "cell_type": "code",
   "execution_count": 45,
   "id": "9ab58849-823c-4dc6-a0bd-462dc6fd21f9",
   "metadata": {},
   "outputs": [],
   "source": [
    "#mark the above result for shape and the array above it and you will notice that numpy takes\n",
    "#the array dimensions from right to left, here 5=rows, 4=columns, 3=arrays in each section and 2= no of sections\n"
   ]
  },
  {
   "cell_type": "code",
   "execution_count": 46,
   "id": "d4b6eae0-4862-483f-9106-92740551a0f0",
   "metadata": {},
   "outputs": [
    {
     "data": {
      "text/plain": [
       "array([[[[6],\n",
       "         [5],\n",
       "         [3],\n",
       "         [2]],\n",
       "\n",
       "        [[3],\n",
       "         [9],\n",
       "         [3],\n",
       "         [0]],\n",
       "\n",
       "        [[8],\n",
       "         [8],\n",
       "         [9],\n",
       "         [0]]],\n",
       "\n",
       "\n",
       "       [[[4],\n",
       "         [4],\n",
       "         [7],\n",
       "         [5]],\n",
       "\n",
       "        [[0],\n",
       "         [0],\n",
       "         [5],\n",
       "         [2]],\n",
       "\n",
       "        [[2],\n",
       "         [9],\n",
       "         [2],\n",
       "         [0]]]])"
      ]
     },
     "execution_count": 46,
     "metadata": {},
     "output_type": "execute_result"
    }
   ],
   "source": [
    "#get the first four numbers of the inner most arrays \n",
    "a6[ :, :, :, :1]\n",
    "#experiment more with this later"
   ]
  },
  {
   "cell_type": "markdown",
   "id": "0b228cb7-4604-472b-92f5-7719c7ba95e0",
   "metadata": {},
   "source": [
    "## Manipulating & Comparing Arrays"
   ]
  },
  {
   "cell_type": "code",
   "execution_count": 47,
   "id": "dd6ff6d4-458e-41c2-9b1a-3179a7da6819",
   "metadata": {},
   "outputs": [
    {
     "data": {
      "text/plain": [
       "array([1, 3, 5, 7])"
      ]
     },
     "execution_count": 47,
     "metadata": {},
     "output_type": "execute_result"
    }
   ],
   "source": [
    "a1"
   ]
  },
  {
   "cell_type": "code",
   "execution_count": 48,
   "id": "6311d0db-6743-4244-b06d-48872480da19",
   "metadata": {},
   "outputs": [
    {
     "data": {
      "text/plain": [
       "array([1., 1., 1., 1.])"
      ]
     },
     "execution_count": 48,
     "metadata": {},
     "output_type": "execute_result"
    }
   ],
   "source": [
    "ones1 = np.ones(4)\n",
    "ones1"
   ]
  },
  {
   "cell_type": "code",
   "execution_count": 49,
   "id": "10975bb5-c33d-45a0-8c69-89a2b27efe7a",
   "metadata": {},
   "outputs": [
    {
     "data": {
      "text/plain": [
       "array([2., 4., 6., 8.])"
      ]
     },
     "execution_count": 49,
     "metadata": {},
     "output_type": "execute_result"
    }
   ],
   "source": [
    "a1 + ones1\n"
   ]
  },
  {
   "cell_type": "code",
   "execution_count": 50,
   "id": "72bb3e58-cb93-4579-aa6b-363b9a2efc38",
   "metadata": {},
   "outputs": [
    {
     "data": {
      "text/plain": [
       "array([0., 2., 4., 6.])"
      ]
     },
     "execution_count": 50,
     "metadata": {},
     "output_type": "execute_result"
    }
   ],
   "source": [
    "a1 - ones1"
   ]
  },
  {
   "cell_type": "code",
   "execution_count": 51,
   "id": "7f580cf7-6022-45c6-9571-ab1f589d35d8",
   "metadata": {},
   "outputs": [
    {
     "data": {
      "text/plain": [
       "array([1., 3., 5., 7.])"
      ]
     },
     "execution_count": 51,
     "metadata": {},
     "output_type": "execute_result"
    }
   ],
   "source": [
    "a1 * ones1"
   ]
  },
  {
   "cell_type": "code",
   "execution_count": 52,
   "id": "50b213e2-d4d6-4c99-a9e2-dd3695869947",
   "metadata": {},
   "outputs": [
    {
     "data": {
      "text/plain": [
       "array([[3.  , 5.17, 4.44],\n",
       "       [9.27, 4.25, 3.  ]])"
      ]
     },
     "execution_count": 52,
     "metadata": {},
     "output_type": "execute_result"
    }
   ],
   "source": [
    "a2"
   ]
  },
  {
   "cell_type": "code",
   "execution_count": 53,
   "id": "b0e8ceb3-e4d4-47da-b6c4-9c64a27c3546",
   "metadata": {},
   "outputs": [
    {
     "ename": "ValueError",
     "evalue": "operands could not be broadcast together with shapes (4,) (2,3) ",
     "output_type": "error",
     "traceback": [
      "\u001b[1;31m---------------------------------------------------------------------------\u001b[0m",
      "\u001b[1;31mValueError\u001b[0m                                Traceback (most recent call last)",
      "Cell \u001b[1;32mIn[53], line 1\u001b[0m\n\u001b[1;32m----> 1\u001b[0m \u001b[43ma1\u001b[49m\u001b[43m \u001b[49m\u001b[38;5;241;43m*\u001b[39;49m\u001b[43m \u001b[49m\u001b[43ma2\u001b[49m\n",
      "\u001b[1;31mValueError\u001b[0m: operands could not be broadcast together with shapes (4,) (2,3) "
     ]
    }
   ],
   "source": [
    "a1 * a2\n",
    "#this is showing error because matrix multiplication is not possible with these dimensions"
   ]
  },
  {
   "cell_type": "code",
   "execution_count": null,
   "id": "e7ff7c9b-7313-4f96-9fd0-25a8d00eb96a",
   "metadata": {},
   "outputs": [],
   "source": [
    "a11 = [1,2,3]"
   ]
  },
  {
   "cell_type": "code",
   "execution_count": null,
   "id": "f284d362-4315-4572-ae90-0974a84d3983",
   "metadata": {},
   "outputs": [],
   "source": [
    "a11 * a2\n",
    "#first row X first row and first row X second row"
   ]
  },
  {
   "cell_type": "code",
   "execution_count": null,
   "id": "e9a5ad01-2f3e-4ad0-8495-780420387fb0",
   "metadata": {},
   "outputs": [],
   "source": [
    "#two dimensions are compatible when \n",
    "#how to reshape numpy arrays"
   ]
  },
  {
   "cell_type": "code",
   "execution_count": null,
   "id": "d0e9f57a-64bf-4665-9e3f-fa41df4df3b9",
   "metadata": {},
   "outputs": [],
   "source": [
    "a1 / ones1"
   ]
  },
  {
   "cell_type": "code",
   "execution_count": null,
   "id": "9e789a7b-fb99-4d33-9e97-6cbbfdaac981",
   "metadata": {},
   "outputs": [],
   "source": [
    "a11 / a2"
   ]
  },
  {
   "cell_type": "code",
   "execution_count": null,
   "id": "c3e466c8-4e9c-4164-a17c-c19b75cd495b",
   "metadata": {},
   "outputs": [],
   "source": [
    "#Floor division removes the decimal(rounds down)\n",
    "a11 // a2"
   ]
  },
  {
   "cell_type": "code",
   "execution_count": null,
   "id": "47faaa2f-4748-418a-a4f8-ea478700bb8a",
   "metadata": {},
   "outputs": [],
   "source": [
    "a2 ** 2"
   ]
  },
  {
   "cell_type": "code",
   "execution_count": null,
   "id": "a96cf442-6558-46ee-bb83-a60af0ee2ad2",
   "metadata": {},
   "outputs": [],
   "source": [
    "np.square(a2)"
   ]
  },
  {
   "cell_type": "code",
   "execution_count": null,
   "id": "c59fe740-2b82-4b50-bbb2-f7d1a12bcb40",
   "metadata": {},
   "outputs": [],
   "source": [
    "np.add(a1 ,ones1)"
   ]
  },
  {
   "cell_type": "code",
   "execution_count": null,
   "id": "c5770319-92cf-4be5-aa70-8e85081bc176",
   "metadata": {},
   "outputs": [],
   "source": [
    "a1 % 2"
   ]
  },
  {
   "cell_type": "code",
   "execution_count": null,
   "id": "2253ab79-de61-4f28-8281-cf38170b5043",
   "metadata": {},
   "outputs": [],
   "source": [
    "np.exp(a1)"
   ]
  },
  {
   "cell_type": "code",
   "execution_count": null,
   "id": "24435908-6648-4d83-91f3-aff4b694c2e1",
   "metadata": {},
   "outputs": [],
   "source": [
    "np.log(a1)"
   ]
  },
  {
   "cell_type": "markdown",
   "id": "65642144-c470-477c-af99-73eee1650298",
   "metadata": {},
   "source": [
    "## Aggregation"
   ]
  },
  {
   "cell_type": "code",
   "execution_count": 50,
   "id": "33069fa0-045d-4e59-a2e2-c08b4195dc88",
   "metadata": {},
   "outputs": [],
   "source": [
    "#aggregation is the performing of  same operation on a number of things"
   ]
  },
  {
   "cell_type": "code",
   "execution_count": 51,
   "id": "dc264df8-88f0-42ea-88a7-251230c6417b",
   "metadata": {},
   "outputs": [
    {
     "data": {
      "text/plain": [
       "list"
      ]
     },
     "execution_count": 51,
     "metadata": {},
     "output_type": "execute_result"
    }
   ],
   "source": [
    "list = [1,2,3]\n",
    "type(list)"
   ]
  },
  {
   "cell_type": "code",
   "execution_count": 52,
   "id": "92ba4a8d-d39d-48a6-925a-e23243425eb5",
   "metadata": {},
   "outputs": [
    {
     "data": {
      "text/plain": [
       "6"
      ]
     },
     "execution_count": 52,
     "metadata": {},
     "output_type": "execute_result"
    }
   ],
   "source": [
    "sum(list) #python sum"
   ]
  },
  {
   "cell_type": "code",
   "execution_count": 53,
   "id": "038e06df-b791-45e2-ad83-4c0f1d90dd4f",
   "metadata": {},
   "outputs": [
    {
     "data": {
      "text/plain": [
       "6"
      ]
     },
     "execution_count": 53,
     "metadata": {},
     "output_type": "execute_result"
    }
   ],
   "source": [
    "np.sum(list)"
   ]
  },
  {
   "cell_type": "code",
   "execution_count": 54,
   "id": "29643d77-4d7e-4455-b50b-a2f8eb65e113",
   "metadata": {},
   "outputs": [],
   "source": [
    "#Use pythons methods on python datatypes and NumPys methods on Numpy arrays"
   ]
  },
  {
   "cell_type": "code",
   "execution_count": 55,
   "id": "39e4b13f-8fcb-4715-9fab-35b0c1bf43e0",
   "metadata": {},
   "outputs": [
    {
     "data": {
      "text/plain": [
       "100000"
      ]
     },
     "execution_count": 55,
     "metadata": {},
     "output_type": "execute_result"
    }
   ],
   "source": [
    "#Creating a massive NumPy array\n",
    "massive_array = np.random.random(100000)\n",
    "massive_array.size"
   ]
  },
  {
   "cell_type": "code",
   "execution_count": 56,
   "id": "7b6e8434-a06c-46fe-b7bc-145c23b391bc",
   "metadata": {},
   "outputs": [
    {
     "data": {
      "text/plain": [
       "array([0.79172504, 0.52889492, 0.56804456, 0.92559664, 0.07103606,\n",
       "       0.0871293 , 0.0202184 , 0.83261985, 0.77815675, 0.87001215])"
      ]
     },
     "execution_count": 56,
     "metadata": {},
     "output_type": "execute_result"
    }
   ],
   "source": [
    "massive_array[:10]"
   ]
  },
  {
   "cell_type": "code",
   "execution_count": 60,
   "id": "d149df1f-743e-4e3e-a7aa-92d1bd9563e8",
   "metadata": {},
   "outputs": [
    {
     "name": "stdout",
     "output_type": "stream",
     "text": [
      "16.2 ms ± 666 µs per loop (mean ± std. dev. of 7 runs, 100 loops each)\n",
      "59.3 µs ± 4.94 µs per loop (mean ± std. dev. of 7 runs, 10,000 loops each)\n"
     ]
    }
   ],
   "source": [
    "#timeit gives the time a particular function takes to run\n",
    "%timeit sum(massive_array) #Pythons sum()\n",
    "%timeit np.sum(massive_array) #NumPy's sum"
   ]
  },
  {
   "cell_type": "code",
   "execution_count": 61,
   "id": "4923e200-9d03-4deb-99e4-a4812a14102e",
   "metadata": {},
   "outputs": [],
   "source": [
    "#this shows that numpy is about 500 times faster than python in performing large operations"
   ]
  },
  {
   "cell_type": "code",
   "execution_count": 62,
   "id": "771437f3-3934-4165-9ad7-5446963ab14d",
   "metadata": {},
   "outputs": [
    {
     "data": {
      "text/plain": [
       "4.8549999999999995"
      ]
     },
     "execution_count": 62,
     "metadata": {},
     "output_type": "execute_result"
    }
   ],
   "source": [
    "np.mean(a2)\n",
    "#total sum by total no of elements"
   ]
  },
  {
   "cell_type": "code",
   "execution_count": 63,
   "id": "233af047-cb05-421b-8386-9809ecdca30a",
   "metadata": {},
   "outputs": [
    {
     "data": {
      "text/plain": [
       "9.27"
      ]
     },
     "execution_count": 63,
     "metadata": {},
     "output_type": "execute_result"
    }
   ],
   "source": [
    "np.max(a2)"
   ]
  },
  {
   "cell_type": "code",
   "execution_count": 64,
   "id": "cc76cc2f-e707-47b9-b953-03071fc9b943",
   "metadata": {},
   "outputs": [
    {
     "data": {
      "text/plain": [
       "3.0"
      ]
     },
     "execution_count": 64,
     "metadata": {},
     "output_type": "execute_result"
    }
   ],
   "source": [
    "np.min(a2)"
   ]
  },
  {
   "cell_type": "code",
   "execution_count": 65,
   "id": "b69d5abd-f1f4-4914-8180-3e59aae7a499",
   "metadata": {},
   "outputs": [
    {
     "data": {
      "text/plain": [
       "2.121781876945256"
      ]
     },
     "execution_count": 65,
     "metadata": {},
     "output_type": "execute_result"
    }
   ],
   "source": [
    "np.std(a2)\n",
    "#standard deviation - a measure of how spread out a group of numbers is from the mean\n",
    "# it is the square root of variance"
   ]
  },
  {
   "cell_type": "code",
   "execution_count": 66,
   "id": "b0977323-7d66-40f6-a5a2-ef491f45e486",
   "metadata": {},
   "outputs": [
    {
     "data": {
      "text/plain": [
       "4.5019583333333335"
      ]
     },
     "execution_count": 66,
     "metadata": {},
     "output_type": "execute_result"
    }
   ],
   "source": [
    "np.var(a2)\n",
    "# Variance - measure of average degree to which each number varies from the mean\n",
    "# Higher Variance - wider range of numbers\n",
    "# Lower Variance - narrower range of numbers"
   ]
  },
  {
   "cell_type": "code",
   "execution_count": 67,
   "id": "3b0793f3-2ec9-4a92-abd8-cc9e01a94589",
   "metadata": {},
   "outputs": [
    {
     "data": {
      "text/plain": [
       "2.121781876945256"
      ]
     },
     "execution_count": 67,
     "metadata": {},
     "output_type": "execute_result"
    }
   ],
   "source": [
    "np.sqrt(np.var(a2))"
   ]
  },
  {
   "cell_type": "code",
   "execution_count": 68,
   "id": "4a380c6d-2de0-42b3-a577-f4587919c1e2",
   "metadata": {},
   "outputs": [],
   "source": [
    "#Demo of std and var\n",
    "high_var_array = np.array([1,100,1000,5000,300,200])\n",
    "low_var_array = np.array([2,4,5,8,10])"
   ]
  },
  {
   "cell_type": "code",
   "execution_count": 69,
   "id": "cc6a45ae-bc1a-45ee-87aa-b7a9ed94194f",
   "metadata": {},
   "outputs": [
    {
     "data": {
      "text/plain": [
       "(3146300.138888888, 8.16)"
      ]
     },
     "execution_count": 69,
     "metadata": {},
     "output_type": "execute_result"
    }
   ],
   "source": [
    "np.var(high_var_array),np.var(low_var_array)\n",
    "#instead of writing one below another this method works without error"
   ]
  },
  {
   "cell_type": "code",
   "execution_count": 70,
   "id": "9411cf07-aad4-4902-a88c-f45238e1fc06",
   "metadata": {},
   "outputs": [
    {
     "data": {
      "text/plain": [
       "(1773.781310897397, 2.85657137141714)"
      ]
     },
     "execution_count": 70,
     "metadata": {},
     "output_type": "execute_result"
    }
   ],
   "source": [
    "np.std(high_var_array), np.std(low_var_array)"
   ]
  },
  {
   "cell_type": "code",
   "execution_count": 71,
   "id": "34ddc2f9-91e4-441c-8cd5-86af73afe355",
   "metadata": {},
   "outputs": [
    {
     "data": {
      "text/plain": [
       "(1100.1666666666667, 5.8)"
      ]
     },
     "execution_count": 71,
     "metadata": {},
     "output_type": "execute_result"
    }
   ],
   "source": [
    "np.mean(high_var_array) , np.mean(low_var_array)"
   ]
  },
  {
   "cell_type": "code",
   "execution_count": 72,
   "id": "0e7828ed-8e6c-42b1-85e3-1a8212bddb9d",
   "metadata": {},
   "outputs": [
    {
     "data": {
      "image/png": "[encoded data removed]",
      "text/plain": [
       "<Figure size 640x480 with 1 Axes>"
      ]
     },
     "metadata": {},
     "output_type": "display_data"
    }
   ],
   "source": [
    "%matplotlib inline\n",
    "import matplotlib.pyplot as plt\n",
    "plt.hist(high_var_array)\n",
    "plt.show()"
   ]
  },
  {
   "cell_type": "code",
   "execution_count": 73,
   "id": "9d697969-641c-4e5c-bde0-48410f7dc660",
   "metadata": {},
   "outputs": [
    {
     "data": {
      "image/png": "[encoded data removed]",
      "text/plain": [
       "<Figure size 640x480 with 1 Axes>"
      ]
     },
     "metadata": {},
     "output_type": "display_data"
    }
   ],
   "source": [
    "plt.hist(low_var_array)\n",
    "plt.show()"
   ]
  },
  {
   "cell_type": "markdown",
   "id": "8a3d4e33-5855-4e58-af7f-a621fa3fd396",
   "metadata": {},
   "source": [
    "## Reshaping and transposing"
   ]
  },
  {
   "cell_type": "code",
   "execution_count": 74,
   "id": "f34320cc-9047-495c-aacf-355b2db30d37",
   "metadata": {},
   "outputs": [
    {
     "data": {
      "text/plain": [
       "(2, 3)"
      ]
     },
     "execution_count": 74,
     "metadata": {},
     "output_type": "execute_result"
    }
   ],
   "source": [
    "a2.shape"
   ]
  },
  {
   "cell_type": "code",
   "execution_count": 75,
   "id": "88f6427c-f8bf-4b8c-8ac1-62c49b132e21",
   "metadata": {},
   "outputs": [
    {
     "data": {
      "text/plain": [
       "array([[3.  , 5.17, 4.44],\n",
       "       [9.27, 4.25, 3.  ]])"
      ]
     },
     "execution_count": 75,
     "metadata": {},
     "output_type": "execute_result"
    }
   ],
   "source": [
    "a2"
   ]
  },
  {
   "cell_type": "code",
   "execution_count": 76,
   "id": "6ebbfab3-c5f9-4f58-8591-c2e5e5e65a88",
   "metadata": {},
   "outputs": [
    {
     "data": {
      "text/plain": [
       "(2, 3, 3)"
      ]
     },
     "execution_count": 76,
     "metadata": {},
     "output_type": "execute_result"
    }
   ],
   "source": [
    "a3.shape"
   ]
  },
  {
   "cell_type": "code",
   "execution_count": 77,
   "id": "32386647-f53d-48df-8971-182f5017176e",
   "metadata": {},
   "outputs": [
    {
     "ename": "ValueError",
     "evalue": "operands could not be broadcast together with shapes (2,3) (2,3,3) ",
     "output_type": "error",
     "traceback": [
      "\u001b[1;31m---------------------------------------------------------------------------\u001b[0m",
      "\u001b[1;31mValueError\u001b[0m                                Traceback (most recent call last)",
      "Cell \u001b[1;32mIn[77], line 1\u001b[0m\n\u001b[1;32m----> 1\u001b[0m \u001b[43ma2\u001b[49m\u001b[38;5;241;43m*\u001b[39;49m\u001b[43ma3\u001b[49m\n",
      "\u001b[1;31mValueError\u001b[0m: operands could not be broadcast together with shapes (2,3) (2,3,3) "
     ]
    }
   ],
   "source": [
    "a2*a3  #shows error operands couldnt be broadcast together"
   ]
  },
  {
   "cell_type": "code",
   "execution_count": 78,
   "id": "cd9cdbc4-a08f-41f5-a648-2df74c97f72f",
   "metadata": {},
   "outputs": [
    {
     "data": {
      "text/plain": [
       "(2, 3, 1)"
      ]
     },
     "execution_count": 78,
     "metadata": {},
     "output_type": "execute_result"
    }
   ],
   "source": [
    "#two elements are compatibel if\n",
    "#1-they are equal \n",
    "#2- if one of them is 1\n",
    "a2_reshape = a2.reshape(2,3,1)\n",
    "a2_reshape.shape\n"
   ]
  },
  {
   "cell_type": "code",
   "execution_count": 79,
   "id": "3159f151-be02-4675-8d55-1f8dead976ea",
   "metadata": {},
   "outputs": [
    {
     "data": {
      "text/plain": [
       "array([[[3.  ],\n",
       "        [5.17],\n",
       "        [4.44]],\n",
       "\n",
       "       [[9.27],\n",
       "        [4.25],\n",
       "        [3.  ]]])"
      ]
     },
     "execution_count": 79,
     "metadata": {},
     "output_type": "execute_result"
    }
   ],
   "source": [
    "a2_reshape"
   ]
  },
  {
   "cell_type": "code",
   "execution_count": 80,
   "id": "8f998705-5035-45c6-8ec3-648457a3ba44",
   "metadata": {},
   "outputs": [
    {
     "data": {
      "text/plain": [
       "(2, 3, 3)"
      ]
     },
     "execution_count": 80,
     "metadata": {},
     "output_type": "execute_result"
    }
   ],
   "source": [
    "a3.shape"
   ]
  },
  {
   "cell_type": "code",
   "execution_count": 81,
   "id": "66df8edd-e175-45b5-9cfe-cdbc955c8580",
   "metadata": {},
   "outputs": [
    {
     "data": {
      "text/plain": [
       "array([[[  3.  ,   6.  ,   9.  ],\n",
       "        [ 20.68,  25.85,  31.02],\n",
       "        [ 31.08,  35.52,  39.96]],\n",
       "\n",
       "       [[ 92.7 , 101.97, 111.24],\n",
       "        [ 55.25,  59.5 ,  63.75],\n",
       "        [ 48.  ,  51.  ,  54.  ]]])"
      ]
     },
     "execution_count": 81,
     "metadata": {},
     "output_type": "execute_result"
    }
   ],
   "source": [
    "a2_reshape * a3"
   ]
  },
  {
   "cell_type": "code",
   "execution_count": null,
   "id": "070bc037-b8ae-4fc9-a380-9635e546f82a",
   "metadata": {},
   "outputs": [],
   "source": [
    "#Transpose\n",
    "a2.T"
   ]
  },
  {
   "cell_type": "code",
   "execution_count": null,
   "id": "fb33418a-0325-4e1a-8f1c-27445416e343",
   "metadata": {},
   "outputs": [],
   "source": [
    "a2.T.shape"
   ]
  },
  {
   "cell_type": "markdown",
   "id": "be9850a3-79bb-4e90-a019-c3a738c48820",
   "metadata": {},
   "source": [
    "## Dot Product`"
   ]
  },
  {
   "cell_type": "code",
   "execution_count": 82,
   "id": "48cc2705-e403-4fc6-9b4f-91a2a2c70923",
   "metadata": {},
   "outputs": [],
   "source": [
    "np.random.seed(0)"
   ]
  },
  {
   "cell_type": "code",
   "execution_count": 83,
   "id": "446100df-a1e0-4f51-a480-445de7ae81d5",
   "metadata": {},
   "outputs": [],
   "source": [
    "mat1 = np.random.randint(10, size=(5,3))\n",
    "mat2 = np.random.randint(10, size=(5,3))"
   ]
  },
  {
   "cell_type": "code",
   "execution_count": 84,
   "id": "4440119d-afb9-46a7-a6e8-92ff3c5524a2",
   "metadata": {},
   "outputs": [
    {
     "data": {
      "text/plain": [
       "array([[5, 0, 3],\n",
       "       [3, 7, 9],\n",
       "       [3, 5, 2],\n",
       "       [4, 7, 6],\n",
       "       [8, 8, 1]])"
      ]
     },
     "execution_count": 84,
     "metadata": {},
     "output_type": "execute_result"
    }
   ],
   "source": [
    "mat1"
   ]
  },
  {
   "cell_type": "code",
   "execution_count": 85,
   "id": "8c8f061e-163a-4de1-8c3e-ad993c5a7476",
   "metadata": {},
   "outputs": [
    {
     "data": {
      "text/plain": [
       "array([[6, 7, 7],\n",
       "       [8, 1, 5],\n",
       "       [9, 8, 9],\n",
       "       [4, 3, 0],\n",
       "       [3, 5, 0]])"
      ]
     },
     "execution_count": 85,
     "metadata": {},
     "output_type": "execute_result"
    }
   ],
   "source": [
    "mat2"
   ]
  },
  {
   "cell_type": "code",
   "execution_count": 86,
   "id": "6dd70d9b-adf6-40ae-b414-ac05753658b7",
   "metadata": {},
   "outputs": [
    {
     "data": {
      "text/plain": [
       "(5, 3)"
      ]
     },
     "execution_count": 86,
     "metadata": {},
     "output_type": "execute_result"
    }
   ],
   "source": [
    "mat1.shape"
   ]
  },
  {
   "cell_type": "code",
   "execution_count": 87,
   "id": "3cea924a-7112-44a4-95b8-cac4405e912d",
   "metadata": {},
   "outputs": [
    {
     "data": {
      "text/plain": [
       "(5, 3)"
      ]
     },
     "execution_count": 87,
     "metadata": {},
     "output_type": "execute_result"
    }
   ],
   "source": [
    "mat2.shape"
   ]
  },
  {
   "cell_type": "code",
   "execution_count": 88,
   "id": "0db94329-35ce-4db3-b990-df70669b6824",
   "metadata": {},
   "outputs": [
    {
     "data": {
      "text/plain": [
       "array([[30,  0, 21],\n",
       "       [24,  7, 45],\n",
       "       [27, 40, 18],\n",
       "       [16, 21,  0],\n",
       "       [24, 40,  0]])"
      ]
     },
     "execution_count": 88,
     "metadata": {},
     "output_type": "execute_result"
    }
   ],
   "source": [
    "#Element wise multiplication (Hadamard product)\n",
    "mat1*mat2"
   ]
  },
  {
   "cell_type": "code",
   "execution_count": 89,
   "id": "9ad39597-4bcd-49b8-84f1-31c28f2b9e41",
   "metadata": {},
   "outputs": [
    {
     "ename": "ValueError",
     "evalue": "shapes (5,3) and (5,3) not aligned: 3 (dim 1) != 5 (dim 0)",
     "output_type": "error",
     "traceback": [
      "\u001b[1;31m---------------------------------------------------------------------------\u001b[0m",
      "\u001b[1;31mValueError\u001b[0m                                Traceback (most recent call last)",
      "Cell \u001b[1;32mIn[89], line 2\u001b[0m\n\u001b[0;32m      1\u001b[0m \u001b[38;5;66;03m#Dot Product\u001b[39;00m\n\u001b[1;32m----> 2\u001b[0m \u001b[43mnp\u001b[49m\u001b[38;5;241;43m.\u001b[39;49m\u001b[43mdot\u001b[49m\u001b[43m(\u001b[49m\u001b[43mmat1\u001b[49m\u001b[43m,\u001b[49m\u001b[43m \u001b[49m\u001b[43mmat2\u001b[49m\u001b[43m)\u001b[49m\n",
      "\u001b[1;31mValueError\u001b[0m: shapes (5,3) and (5,3) not aligned: 3 (dim 1) != 5 (dim 0)"
     ]
    }
   ],
   "source": [
    "#Dot Product\n",
    "np.dot(mat1, mat2)\n",
    "#Dot product is actually exactly like matrix multiplication\n",
    "#row multiplied by columns so the dimensions must be mxn pxq where n=p\n",
    "#and resulting matrix is of order mxq"
   ]
  },
  {
   "cell_type": "code",
   "execution_count": 90,
   "id": "b5a34d6f-2d6e-4ad0-9050-e317625a52bc",
   "metadata": {},
   "outputs": [
    {
     "data": {
      "text/plain": [
       "array([[121, 114,  77],\n",
       "       [153, 108,  80],\n",
       "       [135,  69,  84]])"
      ]
     },
     "execution_count": 90,
     "metadata": {},
     "output_type": "execute_result"
    }
   ],
   "source": [
    "mat3 = np.dot(mat1.T , mat2)\n",
    "mat3"
   ]
  },
  {
   "cell_type": "code",
   "execution_count": 91,
   "id": "f3245c9c-735e-4233-9888-32bec289ebae",
   "metadata": {},
   "outputs": [
    {
     "data": {
      "text/plain": [
       "(3, 3)"
      ]
     },
     "execution_count": 91,
     "metadata": {},
     "output_type": "execute_result"
    }
   ],
   "source": [
    "mat3.shape"
   ]
  },
  {
   "cell_type": "markdown",
   "id": "ee9cd183-5a3d-47a8-82df-6ac3b431016d",
   "metadata": {},
   "source": [
    "## Dot Product example(Nut butter)"
   ]
  },
  {
   "cell_type": "code",
   "execution_count": 94,
   "id": "d2a40b42-31fe-40a1-aade-ab770aec3cad",
   "metadata": {},
   "outputs": [
    {
     "data": {
      "text/plain": [
       "array([[14,  5,  1],\n",
       "       [ 8,  8, 18],\n",
       "       [ 9,  7, 13],\n",
       "       [ 8,  4, 18],\n",
       "       [12,  6, 10]])"
      ]
     },
     "execution_count": 94,
     "metadata": {},
     "output_type": "execute_result"
    }
   ],
   "source": [
    "np.random.seed(4)\n",
    "#Number of jars sold\n",
    "sales_amount = np.random.randint(20 , size = (5,3))\n",
    "sales_amount"
   ]
  },
  {
   "cell_type": "code",
   "execution_count": 95,
   "id": "f6d670c4-6fd9-4035-817a-40a257a8055b",
   "metadata": {},
   "outputs": [
    {
     "data": {
      "text/html": [
       "<div>\n",
       "<style scoped>\n",
       "    .dataframe tbody tr th:only-of-type {\n",
       "        vertical-align: middle;\n",
       "    }\n",
       "\n",
       "    .dataframe tbody tr th {\n",
       "        vertical-align: top;\n",
       "    }\n",
       "\n",
       "    .dataframe thead th {\n",
       "        text-align: right;\n",
       "    }\n",
       "</style>\n",
       "<table border=\"1\" class=\"dataframe\">\n",
       "  <thead>\n",
       "    <tr style=\"text-align: right;\">\n",
       "      <th></th>\n",
       "      <th>Almond Butter</th>\n",
       "      <th>Peanut Butter</th>\n",
       "      <th>Cashew Butter</th>\n",
       "    </tr>\n",
       "  </thead>\n",
       "  <tbody>\n",
       "    <tr>\n",
       "      <th>Mon</th>\n",
       "      <td>14</td>\n",
       "      <td>5</td>\n",
       "      <td>1</td>\n",
       "    </tr>\n",
       "    <tr>\n",
       "      <th>Tue</th>\n",
       "      <td>8</td>\n",
       "      <td>8</td>\n",
       "      <td>18</td>\n",
       "    </tr>\n",
       "    <tr>\n",
       "      <th>Wed</th>\n",
       "      <td>9</td>\n",
       "      <td>7</td>\n",
       "      <td>13</td>\n",
       "    </tr>\n",
       "    <tr>\n",
       "      <th>Thu</th>\n",
       "      <td>8</td>\n",
       "      <td>4</td>\n",
       "      <td>18</td>\n",
       "    </tr>\n",
       "    <tr>\n",
       "      <th>Fri</th>\n",
       "      <td>12</td>\n",
       "      <td>6</td>\n",
       "      <td>10</td>\n",
       "    </tr>\n",
       "  </tbody>\n",
       "</table>\n",
       "</div>"
      ],
      "text/plain": [
       "     Almond Butter  Peanut Butter  Cashew Butter\n",
       "Mon             14              5              1\n",
       "Tue              8              8             18\n",
       "Wed              9              7             13\n",
       "Thu              8              4             18\n",
       "Fri             12              6             10"
      ]
     },
     "execution_count": 95,
     "metadata": {},
     "output_type": "execute_result"
    }
   ],
   "source": [
    "#Creating weekly sales dataframe\n",
    "weekly_sales = pd.DataFrame(sales_amount , index = [\"Mon\",\"Tue\",\"Wed\",\"Thu\",\"Fri\"],\n",
    "                            columns =[\"Almond Butter\",\"Peanut Butter\", \"Cashew Butter\"])\n",
    "#here the sales_amount matrix is used to fill data in the created dataframe\n",
    "weekly_sales"
   ]
  },
  {
   "cell_type": "code",
   "execution_count": 96,
   "id": "63194f59-43ab-4359-b80f-3689cf8d2d00",
   "metadata": {},
   "outputs": [
    {
     "data": {
      "text/plain": [
       "array([10,  8, 12])"
      ]
     },
     "execution_count": 96,
     "metadata": {},
     "output_type": "execute_result"
    }
   ],
   "source": [
    "#Creating prices array containig price of 3 products\n",
    "prices = np.array([10,8,12])\n",
    "prices"
   ]
  },
  {
   "cell_type": "code",
   "execution_count": 97,
   "id": "e9ee64ed-7271-4ffb-ad8b-910bc5af3c1c",
   "metadata": {},
   "outputs": [
    {
     "data": {
      "text/plain": [
       "(3,)"
      ]
     },
     "execution_count": 97,
     "metadata": {},
     "output_type": "execute_result"
    }
   ],
   "source": [
    "prices.shape"
   ]
  },
  {
   "cell_type": "code",
   "execution_count": 98,
   "id": "1c6a065f-e5a3-4b8f-b9e5-e22600561054",
   "metadata": {},
   "outputs": [
    {
     "data": {
      "text/html": [
       "<div>\n",
       "<style scoped>\n",
       "    .dataframe tbody tr th:only-of-type {\n",
       "        vertical-align: middle;\n",
       "    }\n",
       "\n",
       "    .dataframe tbody tr th {\n",
       "        vertical-align: top;\n",
       "    }\n",
       "\n",
       "    .dataframe thead th {\n",
       "        text-align: right;\n",
       "    }\n",
       "</style>\n",
       "<table border=\"1\" class=\"dataframe\">\n",
       "  <thead>\n",
       "    <tr style=\"text-align: right;\">\n",
       "      <th></th>\n",
       "      <th>Almond Butter</th>\n",
       "      <th>Peanut Butter</th>\n",
       "      <th>Cashew Butter</th>\n",
       "    </tr>\n",
       "  </thead>\n",
       "  <tbody>\n",
       "    <tr>\n",
       "      <th>Price</th>\n",
       "      <td>10</td>\n",
       "      <td>8</td>\n",
       "      <td>12</td>\n",
       "    </tr>\n",
       "  </tbody>\n",
       "</table>\n",
       "</div>"
      ],
      "text/plain": [
       "       Almond Butter  Peanut Butter  Cashew Butter\n",
       "Price             10              8             12"
      ]
     },
     "execution_count": 98,
     "metadata": {},
     "output_type": "execute_result"
    }
   ],
   "source": [
    "butter_prices = pd.DataFrame(prices.reshape(1,3), index = [\"Price\"],\n",
    "                             columns = [\"Almond Butter\", \"Peanut Butter\" ,\"Cashew Butter\"])\n",
    "butter_prices\n",
    "#here we shape prices array to 1,3 instead of 3,1 to avoid error and fit it into dataframe"
   ]
  },
  {
   "cell_type": "code",
   "execution_count": 99,
   "id": "f9931ce1-0f64-4ee3-a695-df87ef05e624",
   "metadata": {},
   "outputs": [
    {
     "ename": "ValueError",
     "evalue": "shapes (3,) and (5,3) not aligned: 3 (dim 0) != 5 (dim 0)",
     "output_type": "error",
     "traceback": [
      "\u001b[1;31m---------------------------------------------------------------------------\u001b[0m",
      "\u001b[1;31mValueError\u001b[0m                                Traceback (most recent call last)",
      "Cell \u001b[1;32mIn[99], line 1\u001b[0m\n\u001b[1;32m----> 1\u001b[0m total_sales \u001b[38;5;241m=\u001b[39m \u001b[43mprices\u001b[49m\u001b[38;5;241;43m.\u001b[39;49m\u001b[43mdot\u001b[49m\u001b[43m(\u001b[49m\u001b[43msales_amount\u001b[49m\u001b[43m)\u001b[49m\n",
      "\u001b[1;31mValueError\u001b[0m: shapes (3,) and (5,3) not aligned: 3 (dim 0) != 5 (dim 0)"
     ]
    }
   ],
   "source": [
    "total_sales = prices.dot(sales_amount)"
   ]
  },
  {
   "cell_type": "code",
   "execution_count": 100,
   "id": "94bde02f-53ad-4935-896d-218587c825cc",
   "metadata": {},
   "outputs": [
    {
     "data": {
      "text/plain": [
       "array([192, 360, 302, 328, 288])"
      ]
     },
     "execution_count": 100,
     "metadata": {},
     "output_type": "execute_result"
    }
   ],
   "source": [
    "#Shapes arent aligned so we need to transpose any one\n",
    "\n",
    "total_sales = prices.dot(sales_amount.T)\n",
    "total_sales"
   ]
  },
  {
   "cell_type": "code",
   "execution_count": 101,
   "id": "9ad5882e-e80b-4e80-858f-e8aa380867a8",
   "metadata": {},
   "outputs": [
    {
     "data": {
      "text/plain": [
       "((1, 3), (5, 3))"
      ]
     },
     "execution_count": 101,
     "metadata": {},
     "output_type": "execute_result"
    }
   ],
   "source": [
    "#Create daily sales\n",
    "butter_prices.shape , weekly_sales.shape"
   ]
  },
  {
   "cell_type": "code",
   "execution_count": 102,
   "id": "2d1dc736-a772-43f6-98fe-679bb42bdd00",
   "metadata": {},
   "outputs": [
    {
     "data": {
      "text/plain": [
       "Index(['Price'], dtype='object')"
      ]
     },
     "execution_count": 102,
     "metadata": {},
     "output_type": "execute_result"
    }
   ],
   "source": [
    "butter_prices.index"
   ]
  },
  {
   "cell_type": "code",
   "execution_count": 103,
   "id": "159cf652-974d-4aef-9ada-a828898f51be",
   "metadata": {},
   "outputs": [
    {
     "data": {
      "text/plain": [
       "Index(['Almond Butter', 'Peanut Butter', 'Cashew Butter'], dtype='object')"
      ]
     },
     "execution_count": 103,
     "metadata": {},
     "output_type": "execute_result"
    }
   ],
   "source": [
    "butter_prices.columns"
   ]
  },
  {
   "cell_type": "code",
   "execution_count": 104,
   "id": "3eacdc6d-57d3-4023-b72c-4a11efa8b34c",
   "metadata": {},
   "outputs": [
    {
     "data": {
      "text/plain": [
       "Index(['Mon', 'Tue', 'Wed', 'Thu', 'Fri'], dtype='object')"
      ]
     },
     "execution_count": 104,
     "metadata": {},
     "output_type": "execute_result"
    }
   ],
   "source": [
    "weekly_sales.index"
   ]
  },
  {
   "cell_type": "code",
   "execution_count": 105,
   "id": "20de8159-6477-4711-bc3e-ea625087eeba",
   "metadata": {},
   "outputs": [
    {
     "data": {
      "text/plain": [
       "Index(['Almond Butter', 'Peanut Butter', 'Cashew Butter'], dtype='object')"
      ]
     },
     "execution_count": 105,
     "metadata": {},
     "output_type": "execute_result"
    }
   ],
   "source": [
    "weekly_sales.columns"
   ]
  },
  {
   "cell_type": "code",
   "execution_count": 106,
   "id": "f6c4c435-40d5-4da0-9363-92c83b388eba",
   "metadata": {},
   "outputs": [
    {
     "data": {
      "text/plain": [
       "(1, 3)"
      ]
     },
     "execution_count": 106,
     "metadata": {},
     "output_type": "execute_result"
    }
   ],
   "source": [
    "butter_prices.shape"
   ]
  },
  {
   "cell_type": "code",
   "execution_count": 107,
   "id": "6a94195d-9089-4898-bec4-7328190a0f74",
   "metadata": {},
   "outputs": [
    {
     "data": {
      "text/plain": [
       "(5, 3)"
      ]
     },
     "execution_count": 107,
     "metadata": {},
     "output_type": "execute_result"
    }
   ],
   "source": [
    "weekly_sales.shape"
   ]
  },
  {
   "cell_type": "code",
   "execution_count": 108,
   "id": "2a6c8d61-c4eb-4055-955b-f1d7ab12e7f4",
   "metadata": {},
   "outputs": [
    {
     "data": {
      "text/plain": [
       "False"
      ]
     },
     "execution_count": 108,
     "metadata": {},
     "output_type": "execute_result"
    }
   ],
   "source": [
    "weekly_sales.equals(butter_prices)"
   ]
  },
  {
   "cell_type": "code",
   "execution_count": null,
   "id": "db104e50-f74e-443e-97d4-24dcb4e30b40",
   "metadata": {},
   "outputs": [],
   "source": [
    "import pandas as pd\n",
    "\n",
    "# Assuming you have defined weekly_sales and butter_prices DataFrames already\n",
    "\n",
    "# Print weekly_sales DataFrame\n",
    "print(\"Weekly Sales DataFrame:\")\n",
    "print(weekly_sales)\n",
    "\n",
    "# Print butter_prices DataFrame\n",
    "print(\"\\nButter Prices DataFrame:\")\n",
    "print(butter_prices)\n",
    "\n",
    "# Check if the DataFrames have the same columns\n",
    "if not weekly_sales.columns.equals(butter_prices.columns):\n",
    "    print(\"\\nColumns do not match.\")\n",
    "\n",
    "# Check if the DataFrames have the same index\n",
    "if not weekly_sales.index.equals(butter_prices.index):\n",
    "    print(\"\\nIndices do not match.\")"
   ]
  },
  {
   "cell_type": "code",
   "execution_count": null,
   "id": "1b8161c7-b85a-409a-81f3-e1a5f10e2ef1",
   "metadata": {},
   "outputs": [],
   "source": [
    "daily_sales = butter_prices.dot(weekly_sales.T)\n",
    "#this daily sales refers to the total amount or price of butter sold daily\n",
    "daily_sales\n",
    "    "
   ]
  },
  {
   "cell_type": "code",
   "execution_count": null,
   "id": "e9e03a2c-8b39-4109-af23-c8543dcced4e",
   "metadata": {},
   "outputs": [],
   "source": [
    "weekly_sales"
   ]
  },
  {
   "cell_type": "code",
   "execution_count": null,
   "id": "4eefdb7d-9cdf-47ba-8ea4-b99acd2c1a57",
   "metadata": {},
   "outputs": [],
   "source": [
    "weekly_sales.shape"
   ]
  },
  {
   "cell_type": "code",
   "execution_count": null,
   "id": "9b1877d4-c69d-4321-b8b0-ab2b7c3c5593",
   "metadata": {},
   "outputs": [],
   "source": [
    "weekly_sales[\"Total$\"] = daily_sales.T\n",
    "weekly_sales"
   ]
  },
  {
   "cell_type": "code",
   "execution_count": null,
   "id": "7bd339aa-5317-4c41-ba56-3149c828fdc1",
   "metadata": {},
   "outputs": [],
   "source": [
    "#Successfuly replicated\n",
    "#this needs some practice"
   ]
  },
  {
   "cell_type": "markdown",
   "id": "dc27dd26-0519-4876-8353-fe7b1004a0bf",
   "metadata": {},
   "source": [
    "## comparison operators\n"
   ]
  },
  {
   "cell_type": "code",
   "execution_count": 109,
   "id": "715301da-3c06-4e59-a387-459b633e4efe",
   "metadata": {},
   "outputs": [
    {
     "data": {
      "text/plain": [
       "array([1, 3, 5, 7])"
      ]
     },
     "execution_count": 109,
     "metadata": {},
     "output_type": "execute_result"
    }
   ],
   "source": [
    "a1"
   ]
  },
  {
   "cell_type": "code",
   "execution_count": 110,
   "id": "cbe3795e-d632-447a-a279-96ead2f25ddd",
   "metadata": {},
   "outputs": [
    {
     "data": {
      "text/plain": [
       "array([[3.  , 5.17, 4.44],\n",
       "       [9.27, 4.25, 3.  ]])"
      ]
     },
     "execution_count": 110,
     "metadata": {},
     "output_type": "execute_result"
    }
   ],
   "source": [
    "a2"
   ]
  },
  {
   "cell_type": "code",
   "execution_count": 111,
   "id": "9ce9fe14-9405-47ce-ab68-7ee9d525676b",
   "metadata": {},
   "outputs": [
    {
     "data": {
      "text/plain": [
       "array([False, False, False,  True])"
      ]
     },
     "execution_count": 111,
     "metadata": {},
     "output_type": "execute_result"
    }
   ],
   "source": [
    "a1 > 5"
   ]
  },
  {
   "cell_type": "code",
   "execution_count": 112,
   "id": "3905658a-e114-4f45-b58b-4372a62f71ca",
   "metadata": {},
   "outputs": [
    {
     "ename": "ValueError",
     "evalue": "operands could not be broadcast together with shapes (4,) (2,3) ",
     "output_type": "error",
     "traceback": [
      "\u001b[1;31m---------------------------------------------------------------------------\u001b[0m",
      "\u001b[1;31mValueError\u001b[0m                                Traceback (most recent call last)",
      "Cell \u001b[1;32mIn[112], line 1\u001b[0m\n\u001b[1;32m----> 1\u001b[0m \u001b[43ma1\u001b[49m\u001b[43m \u001b[49m\u001b[38;5;241;43m==\u001b[39;49m\u001b[43m \u001b[49m\u001b[43ma2\u001b[49m\n",
      "\u001b[1;31mValueError\u001b[0m: operands could not be broadcast together with shapes (4,) (2,3) "
     ]
    }
   ],
   "source": [
    "a1 == a2"
   ]
  },
  {
   "cell_type": "code",
   "execution_count": 113,
   "id": "d5e562f3-bea9-49aa-b163-c6c7825e0858",
   "metadata": {},
   "outputs": [
    {
     "ename": "ValueError",
     "evalue": "The truth value of an array with more than one element is ambiguous. Use a.any() or a.all()",
     "output_type": "error",
     "traceback": [
      "\u001b[1;31m---------------------------------------------------------------------------\u001b[0m",
      "\u001b[1;31mValueError\u001b[0m                                Traceback (most recent call last)",
      "Cell \u001b[1;32mIn[113], line 1\u001b[0m\n\u001b[1;32m----> 1\u001b[0m \u001b[38;5;28;43mbool\u001b[39;49m\u001b[43m(\u001b[49m\u001b[43ma2\u001b[49m\u001b[43m)\u001b[49m\n",
      "\u001b[1;31mValueError\u001b[0m: The truth value of an array with more than one element is ambiguous. Use a.any() or a.all()"
     ]
    }
   ],
   "source": [
    "bool(a2)"
   ]
  },
  {
   "cell_type": "markdown",
   "id": "ea9581cb-dffd-4d93-b2e3-6b6a35469e19",
   "metadata": {},
   "source": [
    "## Sorting array"
   ]
  },
  {
   "cell_type": "code",
   "execution_count": 114,
   "id": "43a7db14-6338-47b0-8ae8-0d679063b3b2",
   "metadata": {},
   "outputs": [
    {
     "data": {
      "text/plain": [
       "array([[4, 3, 0, 7, 5],\n",
       "       [5, 9, 6, 6, 8],\n",
       "       [2, 5, 8, 1, 2]])"
      ]
     },
     "execution_count": 114,
     "metadata": {},
     "output_type": "execute_result"
    }
   ],
   "source": [
    "random_array = np.random.randint(10, size = (3,5))\n",
    "random_array"
   ]
  },
  {
   "cell_type": "code",
   "execution_count": 115,
   "id": "c44ae51b-46c9-4968-9dad-747cb556dd15",
   "metadata": {},
   "outputs": [
    {
     "data": {
      "text/plain": [
       "(3, 5)"
      ]
     },
     "execution_count": 115,
     "metadata": {},
     "output_type": "execute_result"
    }
   ],
   "source": [
    "random_array.shape"
   ]
  },
  {
   "cell_type": "code",
   "execution_count": 116,
   "id": "2ee5d952-86a8-4a72-8280-e4c28cb4b02f",
   "metadata": {},
   "outputs": [
    {
     "data": {
      "text/plain": [
       "array([[0, 3, 4, 5, 7],\n",
       "       [5, 6, 6, 8, 9],\n",
       "       [1, 2, 2, 5, 8]])"
      ]
     },
     "execution_count": 116,
     "metadata": {},
     "output_type": "execute_result"
    }
   ],
   "source": [
    " np.sort(random_array)\n",
    "#sorts elements within each array"
   ]
  },
  {
   "cell_type": "code",
   "execution_count": 117,
   "id": "568716da-9c14-489a-adce-b8fc32e3160c",
   "metadata": {},
   "outputs": [
    {
     "data": {
      "text/plain": [
       "array([[2, 1, 0, 4, 3],\n",
       "       [0, 2, 3, 4, 1],\n",
       "       [3, 0, 4, 1, 2]], dtype=int64)"
      ]
     },
     "execution_count": 117,
     "metadata": {},
     "output_type": "execute_result"
    }
   ],
   "source": [
    "np.argsort(random_array)\n",
    "#returns the order in which the index of the array would be arranged after being sorted"
   ]
  },
  {
   "cell_type": "code",
   "execution_count": 118,
   "id": "60c2c1a8-552d-4854-b61e-e0da915a0702",
   "metadata": {},
   "outputs": [
    {
     "data": {
      "text/plain": [
       "0"
      ]
     },
     "execution_count": 118,
     "metadata": {},
     "output_type": "execute_result"
    }
   ],
   "source": [
    "np.argmin(a1)"
   ]
  },
  {
   "cell_type": "code",
   "execution_count": 119,
   "id": "bcbf26c1-0821-40ca-bdcf-4128428e7a38",
   "metadata": {},
   "outputs": [
    {
     "data": {
      "text/plain": [
       "6"
      ]
     },
     "execution_count": 119,
     "metadata": {},
     "output_type": "execute_result"
    }
   ],
   "source": [
    "np.argmax(random_array)"
   ]
  },
  {
   "cell_type": "code",
   "execution_count": 120,
   "id": "66eb154a-a931-454f-a4a3-e5b635b9cc53",
   "metadata": {},
   "outputs": [],
   "source": [
    "#these return the indes at which the max or min value is present"
   ]
  },
  {
   "cell_type": "code",
   "execution_count": 121,
   "id": "62a8b275-3ea5-4561-ab08-08fc1943f57b",
   "metadata": {},
   "outputs": [
    {
     "data": {
      "text/plain": [
       "array([[4, 3, 0, 7, 5],\n",
       "       [5, 9, 6, 6, 8],\n",
       "       [2, 5, 8, 1, 2]])"
      ]
     },
     "execution_count": 121,
     "metadata": {},
     "output_type": "execute_result"
    }
   ],
   "source": [
    "random_array"
   ]
  },
  {
   "cell_type": "code",
   "execution_count": null,
   "id": "da580e44-3917-4b43-a36b-179c00b098af",
   "metadata": {},
   "outputs": [],
   "source": [
    "np.argmax(random_array,axis = 0)"
   ]
  },
  {
   "cell_type": "code",
   "execution_count": null,
   "id": "7f51a98c-007f-48ff-b25d-c53fec06ce5b",
   "metadata": {},
   "outputs": [],
   "source": [
    "# axis 0 refers to columns and hence it returns the indes of max elements in each column"
   ]
  },
  {
   "cell_type": "code",
   "execution_count": 122,
   "id": "389e3710-ee3c-43ff-93c4-61adfee36db8",
   "metadata": {},
   "outputs": [
    {
     "data": {
      "text/plain": [
       "array([2, 0, 3], dtype=int64)"
      ]
     },
     "execution_count": 122,
     "metadata": {},
     "output_type": "execute_result"
    }
   ],
   "source": [
    "np.argmin(random_array,axis = 1)\n",
    "#axis 1 refers to row"
   ]
  },
  {
   "cell_type": "markdown",
   "id": "6719801f-0c81-42a5-9bbf-9aee541d67b1",
   "metadata": {},
   "source": [
    "## Practical Example - NumPy in Action`"
   ]
  },
  {
   "cell_type": "code",
   "execution_count": 123,
   "id": "781b57a0-4579-42db-b113-da53989b29d0",
   "metadata": {},
   "outputs": [
    {
     "data": {
      "text/plain": [
       "<matplotlib.image.AxesImage at 0x2402ffe0880>"
      ]
     },
     "execution_count": 123,
     "metadata": {},
     "output_type": "execute_result"
    },
    {
     "data": {
      "image/png": "[encoded data removed]",
      "text/plain": [
       "<Figure size 640x480 with 1 Axes>"
      ]
     },
     "metadata": {},
     "output_type": "display_data"
    }
   ],
   "source": [
    "import matplotlib.pyplot as plt\n",
    "img  = plt.imread(\"Images/shriRaam.png\")\n",
    "plt.imshow(img)"
   ]
  },
  {
   "cell_type": "code",
   "execution_count": 128,
   "id": "ddfe1917-bf08-4cfa-9428-650cc4c515f0",
   "metadata": {},
   "outputs": [
    {
     "name": "stdout",
     "output_type": "stream",
     "text": [
      "<class 'numpy.ndarray'>\n"
     ]
    }
   ],
   "source": [
    "from matplotlib.image import imread\n",
    "raam = imread(\"Images/shriRaam.png\")\n",
    "print(type(raam))\n",
    "#the imread function reads an image and it is in the form of an arraya\n"
   ]
  },
  {
   "cell_type": "code",
   "execution_count": 129,
   "id": "5cfd9b5d-68d5-42c1-a8ee-cccd5da2ce72",
   "metadata": {},
   "outputs": [
    {
     "data": {
      "text/plain": [
       "(16000000, (2000, 2000, 4), 3)"
      ]
     },
     "execution_count": 129,
     "metadata": {},
     "output_type": "execute_result"
    }
   ],
   "source": [
    "raam.size, raam.shape, raam.ndim"
   ]
  },
  {
   "cell_type": "code",
   "execution_count": 130,
   "id": "907ced63-e491-4d15-b792-ce11d803517b",
   "metadata": {},
   "outputs": [
    {
     "data": {
      "text/plain": [
       "array([[[1., 1., 1., 0.],\n",
       "        [1., 1., 1., 0.],\n",
       "        [1., 1., 1., 0.],\n",
       "        ...,\n",
       "        [1., 1., 1., 0.],\n",
       "        [1., 1., 1., 0.],\n",
       "        [1., 1., 1., 0.]],\n",
       "\n",
       "       [[1., 1., 1., 0.],\n",
       "        [1., 1., 1., 0.],\n",
       "        [1., 1., 1., 0.],\n",
       "        ...,\n",
       "        [1., 1., 1., 0.],\n",
       "        [1., 1., 1., 0.],\n",
       "        [1., 1., 1., 0.]],\n",
       "\n",
       "       [[1., 1., 1., 0.],\n",
       "        [1., 1., 1., 0.],\n",
       "        [1., 1., 1., 0.],\n",
       "        ...,\n",
       "        [1., 1., 1., 0.],\n",
       "        [1., 1., 1., 0.],\n",
       "        [1., 1., 1., 0.]],\n",
       "\n",
       "       [[1., 1., 1., 0.],\n",
       "        [1., 1., 1., 0.],\n",
       "        [1., 1., 1., 0.],\n",
       "        ...,\n",
       "        [1., 1., 1., 0.],\n",
       "        [1., 1., 1., 0.],\n",
       "        [1., 1., 1., 0.]],\n",
       "\n",
       "       [[1., 1., 1., 0.],\n",
       "        [1., 1., 1., 0.],\n",
       "        [1., 1., 1., 0.],\n",
       "        ...,\n",
       "        [1., 1., 1., 0.],\n",
       "        [1., 1., 1., 0.],\n",
       "        [1., 1., 1., 0.]]], dtype=float32)"
      ]
     },
     "execution_count": 130,
     "metadata": {},
     "output_type": "execute_result"
    }
   ],
   "source": [
    "raam[ : 5]"
   ]
  },
  {
   "cell_type": "code",
   "execution_count": 131,
   "id": "c8fd0171-a2b1-4f62-916d-832fba1246a1",
   "metadata": {},
   "outputs": [],
   "source": [
    "#this only represents the 5 rows of the image array"
   ]
  },
  {
   "cell_type": "code",
   "execution_count": 132,
   "id": "861878ad-975d-4f4c-b4da-c68099c028e8",
   "metadata": {},
   "outputs": [],
   "source": [
    "#Matplot lib is a python plottinf libraty it allows us to turn our data into graphs and visualisations\n",
    "#Why Matplotlib becaause it is built on numpy arrays and python, directly integrates with pandas ,\n",
    "#can create basic or advanced plots,simple to use interface"
   ]
  },
  {
   "cell_type": "code",
   "execution_count": 136,
   "id": "01bc0bff-4ae3-4775-aa40-c29ed63599f0",
   "metadata": {},
   "outputs": [],
   "source": [
    "import matplotlib.pyplot as plt"
   ]
  },
  {
   "cell_type": "code",
   "execution_count": 134,
   "id": "c7cc6d8a-7355-42b1-addb-dc19845567db",
   "metadata": {},
   "outputs": [
    {
     "data": {
      "text/html": [
       "<div>\n",
       "<style scoped>\n",
       "    .dataframe tbody tr th:only-of-type {\n",
       "        vertical-align: middle;\n",
       "    }\n",
       "\n",
       "    .dataframe tbody tr th {\n",
       "        vertical-align: top;\n",
       "    }\n",
       "\n",
       "    .dataframe thead th {\n",
       "        text-align: right;\n",
       "    }\n",
       "</style>\n",
       "<table border=\"1\" class=\"dataframe\">\n",
       "  <thead>\n",
       "    <tr style=\"text-align: right;\">\n",
       "      <th></th>\n",
       "      <th>Stock Name</th>\n",
       "      <th>Country</th>\n",
       "      <th>Market Cap</th>\n",
       "      <th>PE Ratio</th>\n",
       "    </tr>\n",
       "  </thead>\n",
       "  <tbody>\n",
       "    <tr>\n",
       "      <th>0</th>\n",
       "      <td>CocaCola (KO)</td>\n",
       "      <td>United States</td>\n",
       "      <td>$260.472B</td>\n",
       "      <td>22.45</td>\n",
       "    </tr>\n",
       "    <tr>\n",
       "      <th>1</th>\n",
       "      <td>Monster Beverage (MNST)</td>\n",
       "      <td>United States</td>\n",
       "      <td>$58.109B</td>\n",
       "      <td>35.80</td>\n",
       "    </tr>\n",
       "    <tr>\n",
       "      <th>2</th>\n",
       "      <td>Keurig Dr Pepper (KDP)</td>\n",
       "      <td>United States</td>\n",
       "      <td>$41.669B</td>\n",
       "      <td>16.78</td>\n",
       "    </tr>\n",
       "    <tr>\n",
       "      <th>3</th>\n",
       "      <td>Coca-Cola Europacific Partners (CCEP)</td>\n",
       "      <td>United Kingdom</td>\n",
       "      <td>$31.793B</td>\n",
       "      <td>0.00</td>\n",
       "    </tr>\n",
       "    <tr>\n",
       "      <th>4</th>\n",
       "      <td>Coca-Cola HBC (CCHGY)</td>\n",
       "      <td>Switzerland</td>\n",
       "      <td>$11.648B</td>\n",
       "      <td>0.00</td>\n",
       "    </tr>\n",
       "    <tr>\n",
       "      <th>5</th>\n",
       "      <td>Coca-Cola Bottling Consolidated (COKE)</td>\n",
       "      <td>United States</td>\n",
       "      <td>$7.807B</td>\n",
       "      <td>12.70</td>\n",
       "    </tr>\n",
       "    <tr>\n",
       "      <th>6</th>\n",
       "      <td>Luckin Coffee (LKNCY)</td>\n",
       "      <td>China</td>\n",
       "      <td>$6.120B</td>\n",
       "      <td>16.18</td>\n",
       "    </tr>\n",
       "    <tr>\n",
       "      <th>7</th>\n",
       "      <td>Dutch Bros (BROS)</td>\n",
       "      <td>United States</td>\n",
       "      <td>$5.083B</td>\n",
       "      <td>0.00</td>\n",
       "    </tr>\n",
       "    <tr>\n",
       "      <th>8</th>\n",
       "      <td>National Beverage (FIZZ)</td>\n",
       "      <td>United States</td>\n",
       "      <td>$4.783B</td>\n",
       "      <td>29.10</td>\n",
       "    </tr>\n",
       "    <tr>\n",
       "      <th>9</th>\n",
       "      <td>Britvic (BTVCY)</td>\n",
       "      <td>United Kingdom</td>\n",
       "      <td>$2.741B</td>\n",
       "      <td>0.00</td>\n",
       "    </tr>\n",
       "    <tr>\n",
       "      <th>10</th>\n",
       "      <td>Embotelladora Andina S.A (AKO.B)</td>\n",
       "      <td>Chile</td>\n",
       "      <td>$2.336B</td>\n",
       "      <td>10.01</td>\n",
       "    </tr>\n",
       "    <tr>\n",
       "      <th>11</th>\n",
       "      <td>Embotelladora Andina S.A (AKO.A)</td>\n",
       "      <td>Chile</td>\n",
       "      <td>$1.964B</td>\n",
       "      <td>8.41</td>\n",
       "    </tr>\n",
       "    <tr>\n",
       "      <th>12</th>\n",
       "      <td>Vita Coco (COCO)</td>\n",
       "      <td>United States</td>\n",
       "      <td>$1.464B</td>\n",
       "      <td>34.36</td>\n",
       "    </tr>\n",
       "    <tr>\n",
       "      <th>13</th>\n",
       "      <td>Westrock Coffee (WEST)</td>\n",
       "      <td>United States</td>\n",
       "      <td>$0.865B</td>\n",
       "      <td>0.00</td>\n",
       "    </tr>\n",
       "    <tr>\n",
       "      <th>14</th>\n",
       "      <td>Barfresh Food Group (BRFH)</td>\n",
       "      <td>United States</td>\n",
       "      <td>$0.017B</td>\n",
       "      <td>0.00</td>\n",
       "    </tr>\n",
       "    <tr>\n",
       "      <th>15</th>\n",
       "      <td>Nuzee (NUZE)</td>\n",
       "      <td>United States</td>\n",
       "      <td>$0.002B</td>\n",
       "      <td>0.00</td>\n",
       "    </tr>\n",
       "    <tr>\n",
       "      <th>16</th>\n",
       "      <td>Fomento Economico Mexicano S.A.B De C.V (FMX)</td>\n",
       "      <td>Mexico</td>\n",
       "      <td>$0.000B</td>\n",
       "      <td>22.08</td>\n",
       "    </tr>\n",
       "    <tr>\n",
       "      <th>17</th>\n",
       "      <td>Coffee Holding (JVA)</td>\n",
       "      <td>United States</td>\n",
       "      <td>$0.000B</td>\n",
       "      <td>0.00</td>\n",
       "    </tr>\n",
       "    <tr>\n",
       "      <th>18</th>\n",
       "      <td>Coca Cola Femsa S.A.B De C.V (KOF)</td>\n",
       "      <td>Mexico</td>\n",
       "      <td>$0.000B</td>\n",
       "      <td>18.31</td>\n",
       "    </tr>\n",
       "  </tbody>\n",
       "</table>\n",
       "</div>"
      ],
      "text/plain": [
       "                                       Stock Name         Country Market Cap  \\\n",
       "0                                   CocaCola (KO)   United States  $260.472B   \n",
       "1                         Monster Beverage (MNST)   United States   $58.109B   \n",
       "2                          Keurig Dr Pepper (KDP)   United States   $41.669B   \n",
       "3           Coca-Cola Europacific Partners (CCEP)  United Kingdom   $31.793B   \n",
       "4                           Coca-Cola HBC (CCHGY)     Switzerland   $11.648B   \n",
       "5          Coca-Cola Bottling Consolidated (COKE)   United States    $7.807B   \n",
       "6                           Luckin Coffee (LKNCY)           China    $6.120B   \n",
       "7                               Dutch Bros (BROS)   United States    $5.083B   \n",
       "8                        National Beverage (FIZZ)   United States    $4.783B   \n",
       "9                                 Britvic (BTVCY)  United Kingdom    $2.741B   \n",
       "10               Embotelladora Andina S.A (AKO.B)           Chile    $2.336B   \n",
       "11               Embotelladora Andina S.A (AKO.A)           Chile    $1.964B   \n",
       "12                               Vita Coco (COCO)   United States    $1.464B   \n",
       "13                         Westrock Coffee (WEST)   United States    $0.865B   \n",
       "14                     Barfresh Food Group (BRFH)   United States    $0.017B   \n",
       "15                                   Nuzee (NUZE)   United States    $0.002B   \n",
       "16  Fomento Economico Mexicano S.A.B De C.V (FMX)          Mexico    $0.000B   \n",
       "17                           Coffee Holding (JVA)   United States    $0.000B   \n",
       "18             Coca Cola Femsa S.A.B De C.V (KOF)          Mexico    $0.000B   \n",
       "\n",
       "    PE Ratio  \n",
       "0      22.45  \n",
       "1      35.80  \n",
       "2      16.78  \n",
       "3       0.00  \n",
       "4       0.00  \n",
       "5      12.70  \n",
       "6      16.18  \n",
       "7       0.00  \n",
       "8      29.10  \n",
       "9       0.00  \n",
       "10     10.01  \n",
       "11      8.41  \n",
       "12     34.36  \n",
       "13      0.00  \n",
       "14      0.00  \n",
       "15      0.00  \n",
       "16     22.08  \n",
       "17      0.00  \n",
       "18     18.31  "
      ]
     },
     "execution_count": 134,
     "metadata": {},
     "output_type": "execute_result"
    }
   ],
   "source": [
    "pepsi_sales = pd.read_csv(\"pepsi sales.csv\")\n",
    "pepsi_sales"
   ]
  },
  {
   "cell_type": "code",
   "execution_count": 135,
   "id": "d2c1f4cc-e27d-414e-952c-90855ac322d2",
   "metadata": {},
   "outputs": [
    {
     "data": {
      "text/plain": [
       "2024-01-01   -2.001224\n",
       "2024-01-02   -1.830598\n",
       "2024-01-03   -0.511671\n",
       "2024-01-04    0.717662\n",
       "2024-01-05   -0.573655\n",
       "                ...   \n",
       "2026-09-22    1.032519\n",
       "2026-09-23   -1.543858\n",
       "2026-09-24   -0.862578\n",
       "2026-09-25   -0.161796\n",
       "2026-09-26    1.307573\n",
       "Freq: D, Length: 1000, dtype: float64"
      ]
     },
     "execution_count": 135,
     "metadata": {},
     "output_type": "execute_result"
    }
   ],
   "source": [
    "ts = pd.Series(np.random.randn(1000),\n",
    "               index = pd.date_range(\"1/1/2024\", periods= 1000))\n",
    "ts\n"
   ]
  },
  {
   "cell_type": "code",
   "execution_count": 137,
   "id": "24a43a33-efb2-4372-bd0e-396e2aa27c81",
   "metadata": {},
   "outputs": [
    {
     "data": {
      "text/plain": [
       "<Axes: >"
      ]
     },
     "execution_count": 137,
     "metadata": {},
     "output_type": "execute_result"
    },
    {
     "data": {
      "image/png": "[encoded data removed]",
      "text/plain": [
       "<Figure size 640x480 with 1 Axes>"
      ]
     },
     "metadata": {},
     "output_type": "display_data"
    }
   ],
   "source": [
    "ts = ts.cumsum()\n",
    "ts.plot()\n",
    "#cumulative suM"
   ]
  },
  {
   "cell_type": "code",
   "execution_count": null,
   "id": "d2eb44c7-d2d7-4317-b16e-d743de2ad611",
   "metadata": {},
   "outputs": [],
   "source": [
    "import re\n",
    "\n",
    "pepsi_sales[\"Market Cap\"] = pepsi_sales[\"Market Cap\"].str.replace('[\\$B]', '', regex = True)\n",
    "#astype string first converts the data into string format which mostly it isnt in ,\n",
    "#str.replace replaces the string and astype(float) stores it as a float value\n",
    "#regex = true is absolutely important"
   ]
  },
  {
   "cell_type": "code",
   "execution_count": null,
   "id": "ba7e86cd-f194-4b89-8561-2736031b871f",
   "metadata": {},
   "outputs": [],
   "source": [
    "pepsi_sales\n"
   ]
  },
  {
   "cell_type": "code",
   "execution_count": null,
   "id": "256fc2d8-eb8e-4883-bf14-8c90c4e52607",
   "metadata": {},
   "outputs": [],
   "source": [
    "type(pepsi_sales[\"Market Cap\"][6])"
   ]
  },
  {
   "cell_type": "code",
   "execution_count": null,
   "id": "4b7d2a53-c550-4c6d-91ed-86116040c409",
   "metadata": {},
   "outputs": [],
   "source": [
    "#pepsi_sales[\"Market Cap\"] = pepsi_sales[\"Market Cap\"].str[:-2]\n",
    "pepsi_sales\n",
    "#as we run this function again and again it continually removes 2 digits from the entries in market cap\n",
    "# this makes a lot of values null so we are commenting this out"
   ]
  },
  {
   "cell_type": "code",
   "execution_count": null,
   "id": "409cad06-7951-453d-9474-7d6ed6f9b140",
   "metadata": {},
   "outputs": [],
   "source": [
    "pepsi_sales[\"Sale Date\"] = pd.date_range(\"1/1/2024\" , periods=len(pepsi_sales))\n",
    "pepsi_sales"
   ]
  },
  {
   "cell_type": "code",
   "execution_count": null,
   "id": "fa032207-76f6-4a2b-9d3c-3f6d2ff76af9",
   "metadata": {},
   "outputs": [],
   "source": [
    "#Just a new date column is added\n"
   ]
  },
  {
   "cell_type": "code",
   "execution_count": null,
   "id": "ad6a5115-c516-49a1-8ad3-cd9d00e018e9",
   "metadata": {},
   "outputs": [],
   "source": [
    "pepsi_sales[\"Total Sales\"]=pepsi_sales[\"Market Cap\"].astype(float).cumsum()\n",
    "pepsi_sales\n",
    "#this gives the total saels or summation of the values till that point"
   ]
  },
  {
   "cell_type": "code",
   "execution_count": null,
   "id": "aba5a1c9-07c7-4819-b1d6-e016f101a797",
   "metadata": {},
   "outputs": [],
   "source": [
    "#go and check each row individually with the slicing type thing especially the sixth row b\n",
    "#becomes null after conversion from string"
   ]
  },
  {
   "cell_type": "code",
   "execution_count": null,
   "id": "190f7721-5d3b-4e23-bf0d-5f290c3cc1b3",
   "metadata": {},
   "outputs": [],
   "source": [
    "#Lets Plot the total sales\n",
    "pepsi_sales.plot(x = \"Sale Date\", y = \"Total Sales\");"
   ]
  },
  {
   "cell_type": "code",
   "execution_count": null,
   "id": "b264694f-7219-48f6-b5ff-a645c491aca3",
   "metadata": {},
   "outputs": [],
   "source": [
    "pepsi_sales.plot(x = \"PE Ratio\", y = \"Market Cap\" , kind = \"scatter\")"
   ]
  },
  {
   "cell_type": "code",
   "execution_count": null,
   "id": "b13a92e5-b2c0-4e13-894e-7e9c9b57458d",
   "metadata": {},
   "outputs": [],
   "source": [
    "#Bar Graph\n",
    "x = np.random.rand(10,4) #row and column\n",
    "\n",
    "#Turn it into a dataframe\n",
    "df = pd.DataFrame(x, columns=['a','b','c','d'])\n",
    "df                            "
   ]
  },
  {
   "cell_type": "code",
   "execution_count": null,
   "id": "d0051de3-881b-4d17-9b92-0d218144c21d",
   "metadata": {},
   "outputs": [],
   "source": [
    "df.plot.bar();"
   ]
  },
  {
   "cell_type": "code",
   "execution_count": null,
   "id": "9538135b-7e83-4a79-b116-5ab5771073ba",
   "metadata": {},
   "outputs": [],
   "source": [
    "df.plot(kind = \"bar\");"
   ]
  },
  {
   "cell_type": "code",
   "execution_count": null,
   "id": "5f18f2c8-eeb9-4d8c-8037-964a3afc06c5",
   "metadata": {},
   "outputs": [],
   "source": [
    "pepsi_sales"
   ]
  },
  {
   "cell_type": "code",
   "execution_count": null,
   "id": "06dbb091-8638-4a51-923b-e6c3c858007f",
   "metadata": {},
   "outputs": [],
   "source": [
    "pepsi_sales.plot(x = \"Stock Name\", y = \"PE Ratio\" , kind = \"bar\");"
   ]
  },
  {
   "cell_type": "code",
   "execution_count": null,
   "id": "dedfccf9-34a8-4a2c-9029-7e14bffe5414",
   "metadata": {},
   "outputs": [],
   "source": [
    "pepsi_sales[\"Market Cap\"]=pepsi_sales[\"Market Cap\"].astype(float)\n",
    "pepsi_sales[\"Market Cap\"].plot.hist();"
   ]
  },
  {
   "cell_type": "code",
   "execution_count": null,
   "id": "d059a8b3-bb2f-41a8-a775-94d394fa33d7",
   "metadata": {},
   "outputs": [],
   "source": [
    "pepsi_sales[\"Market Cap\"].plot(kind = \"hist\");"
   ]
  },
  {
   "cell_type": "code",
   "execution_count": null,
   "id": "fd771a2b-a017-4752-8ed2-e507250e96bb",
   "metadata": {},
   "outputs": [],
   "source": [
    "pepsi_sales[\"Market Cap\"].plot.hist(bins = 60);"
   ]
  },
  {
   "cell_type": "code",
   "execution_count": null,
   "id": "73fa6d63-c67d-43ca-9a1f-1de34aeec9d8",
   "metadata": {},
   "outputs": [],
   "source": [
    "#Lets try on another dataset\n",
    "heart_disease = pd.read_csv(\"heart-disease.csv\")\n",
    "heart_disease.head()"
   ]
  },
  {
   "cell_type": "code",
   "execution_count": null,
   "id": "42ea2188-86cc-4164-9f61-80300c860060",
   "metadata": {},
   "outputs": [],
   "source": [
    "#Create a histogram of age\n",
    "heart_disease[\"age\"].plot.hist()"
   ]
  },
  {
   "cell_type": "code",
   "execution_count": null,
   "id": "a921f690-8e8b-43b8-9593-f979182a7706",
   "metadata": {},
   "outputs": [],
   "source": [
    "heart_disease[\"age\"].plot.hist(bins=50);"
   ]
  },
  {
   "cell_type": "code",
   "execution_count": null,
   "id": "ef1f3618-eca8-4728-ae47-5d4b021d7ab1",
   "metadata": {},
   "outputs": [],
   "source": [
    "heart_disease.head()"
   ]
  },
  {
   "cell_type": "code",
   "execution_count": null,
   "id": "4e3ca8e4-a17a-496e-9d2e-9b343eddffe4",
   "metadata": {},
   "outputs": [],
   "source": [
    "heart_disease.plot.hist(subplots = True);"
   ]
  },
  {
   "cell_type": "code",
   "execution_count": null,
   "id": "22c44f9a-a6ce-4380-9f1d-0dda5e131811",
   "metadata": {},
   "outputs": [],
   "source": [
    "heart_disease.plot.hist(figsize =(10, 30), subplots = True);"
   ]
  },
  {
   "cell_type": "markdown",
   "id": "49ae42fa-5c65-4169-868a-26146233aa36",
   "metadata": {},
   "source": [
    "### Which one should I use? (PyPlot vs matplotlib 00 method)"
   ]
  },
  {
   "cell_type": "code",
   "execution_count": null,
   "id": "8e69eabd-4d3a-49cd-8db3-194e94ea8bd2",
   "metadata": {},
   "outputs": [],
   "source": [
    "#*When plotting something quickly, okay to use PyPlot method\n",
    "#*When plotting something more advanced, use the OO method"
   ]
  },
  {
   "cell_type": "code",
   "execution_count": null,
   "id": "0fa2a691-6a5f-423e-9b51-b43fd1ddff97",
   "metadata": {},
   "outputs": [],
   "source": [
    "over_50 = heart_disease[heart_disease[\"age\"] > 50]\n",
    "over_50.head()"
   ]
  },
  {
   "cell_type": "code",
   "execution_count": null,
   "id": "04a5d4d1-953b-45d6-bef8-8fd49afaf8f8",
   "metadata": {},
   "outputs": [],
   "source": [
    "#PyPlot method\n",
    "over_50.plot(kind = 'scatter', x = 'age',y = 'chol' ,c = 'target');"
   ]
  },
  {
   "cell_type": "code",
   "execution_count": null,
   "id": "21a2fdcb-51c8-4615-84b7-93d93c7d186b",
   "metadata": {},
   "outputs": [],
   "source": [
    "#OO method,object oriented method mixed with pyplot\n",
    "fix , ax = plt.subplots(figsize = (10 , 6))\n",
    "over_50.plot(kind = 'scatter', x = 'age', y = 'chol',c = 'target',ax = ax);\n",
    "#Using the OO method we can access the axes using ax\n",
    "ax.set_xlim([45 , 100])\n",
    "#this increases the range of x axis from 50 to 75 to 45 to 100"
   ]
  },
  {
   "cell_type": "code",
   "execution_count": null,
   "id": "ec818f43-3281-44d9-a062-39e19bd70dc7",
   "metadata": {},
   "outputs": [],
   "source": [
    "over_50.target.values"
   ]
  },
  {
   "cell_type": "code",
   "execution_count": null,
   "id": "3fa6f486-cab5-4905-bc01-b7c42fa7cacd",
   "metadata": {},
   "outputs": [],
   "source": [
    "over_50.head()"
   ]
  },
  {
   "cell_type": "code",
   "execution_count": null,
   "id": "a576cdb0-6bfe-45dc-9fe1-7e0596ffc9f7",
   "metadata": {},
   "outputs": [],
   "source": [
    "## ObjectOriented OO method from scratch\n",
    "fig , ax = plt.subplots(figsize = (10,6))\n",
    "\n",
    "\n",
    "#Add data to ax0\n",
    "scatter = ax.scatter(x = over_50[\"age\"],\n",
    "                     y = over_50[\"chol\"],\n",
    "                     c = over_50[\"target\"])\n",
    "\n",
    "#Customise the plot\n",
    "ax.set(title = \"Heart Disease and Cholestrol levels\",\n",
    "       xlabel = \"Age\",\n",
    "       ylabel = \"Cholestrol\")\n",
    "\n",
    "#Add a legend\n",
    "ax.legend(*scatter.legend_elements(), title = \"Target\");\n",
    "#*scatter.legen_elements() grabs the scatter and unpacks the legend elements\n",
    "\n",
    "#what if we wanted some horizontal line in between to indicate the average or mean on the plot\n",
    "ax.axhline(over_50[\"chol\"].mean(),\n",
    "           linestyle = '--');\n",
    "\n"
   ]
  },
  {
   "cell_type": "code",
   "execution_count": null,
   "id": "651fa3c8-37aa-4e7b-91f7-530db6fcd950",
   "metadata": {},
   "outputs": [],
   "source": [
    "#subplot of column age and thalach\n",
    "fig , (ax0,ax1) = plt.subplots(nrows = 2,\n",
    "                               ncols = 1,\n",
    "                              figsize = (10,10),\n",
    "                              sharex = True)#this makes both plots share the same age axis\n",
    "#and therefore we remove the x axis from ax1\n",
    "#add data to ax0\n",
    "scatter = ax0.scatter(x = over_50[\"age\"],\n",
    "                     y = over_50[\"chol\"],\n",
    "                     c = over_50[\"target\"])\n",
    "#customise ax1\n",
    "ax0.set(title = \"Heart Disease and cholesterol levels\",\n",
    "      #  xlabel = \"Age\",\n",
    "        ylabel = \"Cholesterol\")\n",
    "#add a legend to ax1\n",
    "ax0.legend(*scatter.legend_elements(), title = \"Target\")\n",
    "#add a meanline\n",
    "ax0.axhline(y = over_50[\"chol\"].mean(),\n",
    "            linestyle = \"--\");\n",
    "#add data to ax1\n",
    "scatter = ax1.scatter(x = over_50[\"age\"],\n",
    "                     y = over_50[\"thalach\"],\n",
    "                     c = over_50[\"target\"])\n",
    "#customise ax1\n",
    "ax1.set(title = \"Heart Disease and max heart rate\",\n",
    "        xlabel = \"Age\",\n",
    "        ylabel = \"Max heart rate\")\n",
    "#add a legend to ax1\n",
    "ax1.legend(*scatter.legend_elements(), title = \"Target\")\n",
    "#add a meanline\n",
    "ax1.axhline(y = over_50[\"thalach\"].mean(),\n",
    "            linestyle = \"--\")\n",
    "\n",
    "#add a title to the figure\n",
    "fig.suptitle(\"Heart Disease Analysis\" , fontsize =16, fontweight = \"bold\");"
   ]
  },
  {
   "cell_type": "markdown",
   "id": "ca90e753-8f6c-44d7-a6a3-0072d449a65a",
   "metadata": {},
   "source": [
    "## Customize your plots and getting stylish"
   ]
  },
  {
   "cell_type": "code",
   "execution_count": null,
   "id": "f50a7e81-9290-4a21-a7e9-eed9d814000c",
   "metadata": {},
   "outputs": [],
   "source": [
    "#See the different styles available\n",
    "plt.style.available"
   ]
  },
  {
   "cell_type": "code",
   "execution_count": null,
   "id": "4b650ec8-ed3a-4d20-a663-e90b1daa9032",
   "metadata": {
    "scrolled": true
   },
   "outputs": [],
   "source": [
    "pepsi_sales[\"Market Cap\"].plot();"
   ]
  },
  {
   "cell_type": "code",
   "execution_count": null,
   "id": "b9bcba71-01bb-4bf9-9fbe-fbd284cca5d9",
   "metadata": {},
   "outputs": [],
   "source": [
    "plt.style.use('seaborn-v0_8-pastel')"
   ]
  },
  {
   "cell_type": "code",
   "execution_count": null,
   "id": "7e8bcf39-8acc-41b9-90c8-720dc1076244",
   "metadata": {},
   "outputs": [],
   "source": [
    "pepsi_sales[\"Market Cap\"].plot();"
   ]
  },
  {
   "cell_type": "code",
   "execution_count": null,
   "id": "e513d53f-9610-4390-a192-abe3f08ac55a",
   "metadata": {},
   "outputs": [],
   "source": [
    "#Create some data\n",
    "x = np.random.randn(10,4)\n",
    "x"
   ]
  },
  {
   "cell_type": "code",
   "execution_count": null,
   "id": "3ac7eaec-de1b-4edc-ac29-77616bf1f106",
   "metadata": {},
   "outputs": [],
   "source": [
    "df = pd.DataFrame(x , columns = ['a', 'b', 'c', 'd'])\n",
    "df"
   ]
  },
  {
   "cell_type": "code",
   "execution_count": null,
   "id": "b968e34a-4779-41d3-a58c-3e43dcc12421",
   "metadata": {},
   "outputs": [],
   "source": [
    "ax = df.plot() #we use pyplot straight from pandas dataframe because we are doing a quick plot\n",
    "ax"
   ]
  },
  {
   "cell_type": "code",
   "execution_count": null,
   "id": "19ff5067-e8bc-414e-bca6-c16c6bd36102",
   "metadata": {},
   "outputs": [],
   "source": [
    "ax = df.plot(kind = 'hist')"
   ]
  },
  {
   "cell_type": "code",
   "execution_count": null,
   "id": "394c7484-ec77-40cf-86ed-ea5e010b3d5d",
   "metadata": {
    "scrolled": true
   },
   "outputs": [],
   "source": [
    "#Customise our plot with set method\n",
    "ax = df.plot(kind=\"bar\")\n",
    "#Add some labels and a title\n",
    "ax.set(title = \"Random Number Bar Graph\",\n",
    "       xlabel = \"Row number\",\n",
    "       ylabel = \"Random number\")\n",
    "#Make the legend visible \n",
    "ax.legend().set_visible(True)"
   ]
  },
  {
   "cell_type": "code",
   "execution_count": null,
   "id": "cb6fd029-35ba-48fc-a189-05793c00bb44",
   "metadata": {
    "scrolled": true
   },
   "outputs": [],
   "source": [
    "## ObjectOriented OO method from scratch\n",
    "fig , ax = plt.subplots(figsize = (10,6))\n",
    "\n",
    "\n",
    "#Add data to ax0\n",
    "scatter = ax.scatter(x = over_50[\"age\"],\n",
    "                     y = over_50[\"chol\"],\n",
    "                     c = over_50[\"target\"],\n",
    "                    cmap = \"winter\")#cmap changes the scatter dot colors\n",
    "#definitely go and check color  library or cmap for different color plots \n",
    "\n",
    "#Customise the plot\n",
    "ax.set(title = \"Heart Disease and Cholestrol levels\",\n",
    "       xlabel = \"Age\",\n",
    "       ylabel = \"Cholestrol\")\n",
    "\n",
    "#Add a legend\n",
    "ax.legend(*scatter.legend_elements(), title = \"Target\");\n",
    "#*scatter.legen_elements() grabs the scatter and unpacks the legend elements\n",
    "\n",
    "#what if we wanted some horizontal line in between to indicate the average or mean on the plot\n",
    "ax.axhline(over_50[\"chol\"].mean(),\n",
    "           linestyle = '--');\n"
   ]
  },
  {
   "cell_type": "code",
   "execution_count": null,
   "id": "0943c796-e56e-4bed-9e51-e21409f70b99",
   "metadata": {},
   "outputs": [],
   "source": [
    "#Customising the y and x axis limitations"
   ]
  },
  {
   "cell_type": "markdown",
   "id": "cc593331-12fc-4d45-b6de-bfa32dfe44a4",
   "metadata": {},
   "source": [
    "## Saving and sharing your plot"
   ]
  },
  {
   "cell_type": "code",
   "execution_count": null,
   "id": "0df4cc63-7d1e-4830-912e-764b007e2380",
   "metadata": {},
   "outputs": [],
   "source": [
    "#combined subplots under a user function\n",
    "fig.savefig(\"heart-disease_example.png\")\n"
   ]
  },
  {
   "cell_type": "markdown",
   "id": "ab37afc8-a948-432c-bc92-7e034b052339",
   "metadata": {},
   "source": [
    "## SciKit Learn"
   ]
  },
  {
   "cell_type": "code",
   "execution_count": null,
   "id": "6f91b97e-b3d8-4997-b71c-729e432f16cc",
   "metadata": {},
   "outputs": [],
   "source": [
    "#sk learn is a python machiene learning library\n",
    "#helps us form predictions and evaluate on them\n",
    "#built on numpy and matplotlib and python \n",
    "#many inbuilt ml models\n",
    "#very well designed API(appllication programming interface)"
   ]
  },
  {
   "cell_type": "code",
   "execution_count": null,
   "id": "7f2aee87-0ef2-44f4-b85a-29569b0b2cbc",
   "metadata": {},
   "outputs": [],
   "source": [
    "  #in machine learning we give the machine or computer the input as well as output and it gives us the function or relation\n",
    "#this is exactly opposite of programming in which we give the input and function and the machine gives the output"
   ]
  },
  {
   "cell_type": "code",
   "execution_count": null,
   "id": "ebf0f1d1-617b-4a5a-b34c-78e720b784ed",
   "metadata": {},
   "outputs": [],
   "source": [
    "#this is the only way of telling a machine what a snake is or what a trend in data is"
   ]
  },
  {
   "cell_type": "code",
   "execution_count": null,
   "id": "36d9ded1-61c0-473f-9206-6b08522992ba",
   "metadata": {},
   "outputs": [],
   "source": [
    "import warnings \n",
    "warnings.filterwarnings(\"ignore\")  #to change this change ignore to default"
   ]
  },
  {
   "cell_type": "code",
   "execution_count": null,
   "id": "fd2447a5-5e6a-4956-b858-8d35cdf23456",
   "metadata": {},
   "outputs": [],
   "source": [
    "import sklearn\n",
    "sklearn.show_versions()"
   ]
  },
  {
   "cell_type": "code",
   "execution_count": null,
   "id": "05d53115-d110-455f-8eb2-7e1bb767807b",
   "metadata": {},
   "outputs": [],
   "source": [
    "#Standard imports\n",
    "import numpy as np\n",
    "import pandas as pd\n",
    "import matplotlib.pyplot as plt\n",
    "%matplotlib inline"
   ]
  },
  {
   "cell_type": "markdown",
   "id": "475ab9bd-b30f-4cfe-907a-5b64dbc642ab",
   "metadata": {},
   "source": [
    "## Getting the data ready to be used with machine learning"
   ]
  },
  {
   "cell_type": "markdown",
   "id": "db83e574-4179-4838-9a73-8931bcb93e8b",
   "metadata": {},
   "source": [
    "Three main things we have to do:\n",
    "1. Split the data into features and labels(usually 'X' & 'Y')\n",
    "2. Filling (also called inputting) or removing missing values\n",
    "3. Converting non numerical values to numerical values (also called feature encoding"
   ]
  },
  {
   "cell_type": "code",
   "execution_count": null,
   "id": "54ed5187-72fe-4458-a66e-d69b83a081e7",
   "metadata": {},
   "outputs": [],
   "source": [
    "heart_disease = pd.read_csv(\"heart-disease.csv\")\n",
    "heart_disease.head()"
   ]
  },
  {
   "cell_type": "code",
   "execution_count": null,
   "id": "c9c14a60-8e70-44b7-b1b1-7f155a006dac",
   "metadata": {},
   "outputs": [],
   "source": [
    "X = heart_disease.drop(\"target\" , axis =1)\n",
    "X.head()\n",
    "X"
   ]
  },
  {
   "cell_type": "code",
   "execution_count": null,
   "id": "aee1b860-832b-4937-9a11-756463d30bf2",
   "metadata": {},
   "outputs": [],
   "source": [
    "Y = heart_disease[\"target\"]\n",
    "Y.head()"
   ]
  },
  {
   "cell_type": "code",
   "execution_count": null,
   "id": "72fe1916-1d25-4bb9-b60f-fbd2445c804e",
   "metadata": {},
   "outputs": [],
   "source": [
    "#Split the data into training and test sets\n",
    "from sklearn.model_selection import train_test_split\n",
    "X_train, X_test , Y_train, Y_test = train_test_split(X, Y, test_size = 0.2)\n",
    "#we can play around with the test_size "
   ]
  },
  {
   "cell_type": "code",
   "execution_count": null,
   "id": "c6a2a08e-5fea-4562-a125-32fc4181c2fa",
   "metadata": {},
   "outputs": [],
   "source": [
    "X_train.shape, X_test.shape, Y_train.shape , Y_test.shape\n",
    "#13 columns or 13 features and about 300 rows"
   ]
  },
  {
   "cell_type": "code",
   "execution_count": null,
   "id": "aea519e1-c75a-4322-9109-8ba01c0375a5",
   "metadata": {},
   "outputs": [],
   "source": [
    "X.shape"
   ]
  },
  {
   "cell_type": "code",
   "execution_count": null,
   "id": "726fe33d-69c6-4620-8fd4-05c870693e33",
   "metadata": {},
   "outputs": [],
   "source": [
    "X.shape[0] * 0.8"
   ]
  },
  {
   "cell_type": "code",
   "execution_count": null,
   "id": "2dde04ca-7e62-4930-af85-5eca728a29f1",
   "metadata": {},
   "outputs": [],
   "source": [
    "len(heart_disease)"
   ]
  },
  {
   "cell_type": "code",
   "execution_count": null,
   "id": "592ef097-13e5-4da4-bb71-fc3b6efa231b",
   "metadata": {},
   "outputs": [],
   "source": [
    "#Data reduction or dimensionality reduction or column reduction , helps save CPU time and money and power cost"
   ]
  },
  {
   "cell_type": "markdown",
   "id": "bde99a3b-175f-48c1-ade6-befd03446018",
   "metadata": {},
   "source": [
    "## Make sure its all numerical"
   ]
  },
  {
   "cell_type": "code",
   "execution_count": null,
   "id": "73595e76-450d-4f2b-ad69-12e0e516f3bf",
   "metadata": {},
   "outputs": [],
   "source": [
    "car_sales = pd.read_csv(\"C:/Users/Dell/Desktop/sample_project_1/car-sales-extended.csv\")\n",
    "car_sales.head()"
   ]
  },
  {
   "cell_type": "code",
   "execution_count": null,
   "id": "e0b796d5-a31e-40cb-95d9-5f5913824e64",
   "metadata": {},
   "outputs": [],
   "source": [
    "car_sales"
   ]
  },
  {
   "cell_type": "code",
   "execution_count": null,
   "id": "36f2ac51-1025-4f32-925f-3eb4564ec367",
   "metadata": {},
   "outputs": [],
   "source": [
    "len(car_sales)"
   ]
  },
  {
   "cell_type": "code",
   "execution_count": null,
   "id": "4e4d0388-8dd7-4a1e-8ab8-976afb207311",
   "metadata": {},
   "outputs": [],
   "source": [
    "car_sales.dtypes"
   ]
  },
  {
   "cell_type": "code",
   "execution_count": null,
   "id": "b5cf162d-1641-41ed-9223-08cb9275ee73",
   "metadata": {},
   "outputs": [],
   "source": [
    "# Split into x/y\n",
    "#drop separates the price feature from the dataset and assigns the result to x which represents the features\n",
    "#Y is assigned the Price column from the dataset\n",
    "X = car_sales.drop(\"Price\", axis =1)\n",
    "Y = car_sales[\"Price\"]\n",
    "\n",
    "#Also split into training and test set\n",
    "X_train, X_test , Y_train, Y_test = train_test_split(X,Y,test_size = 0.2)"
   ]
  },
  {
   "cell_type": "code",
   "execution_count": null,
   "id": "0f3bc696-7cd8-4fcb-a25f-6881a0f86255",
   "metadata": {},
   "outputs": [],
   "source": [
    "from sklearn.ensemble import RandomForestRegressor\n",
    "\n",
    "model = RandomForestRegressor()\n",
    "model.fit(X_train, Y_train)\n",
    "model.score(X_test, Y_test)\n",
    "#IN case of instructor this shows error as nissan and bmw are in strings and therefore we do the below steps"
   ]
  },
  {
   "cell_type": "code",
   "execution_count": null,
   "id": "4341509e-b9a4-4db2-9dbe-0cd999a87319",
   "metadata": {},
   "outputs": [],
   "source": [
    "#To turn categories into numbers\n",
    "#here we also convert doors because it is also categorical \n",
    "from sklearn.preprocessing import OneHotEncoder\n",
    "from sklearn.compose import ColumnTransformer\n",
    "#in cateforical features we mention the columns that need converting\n",
    "categorical_features = [\"Make\" , \"Colour\" , \"Doors\"]\n",
    "one_hot = OneHotEncoder()\n",
    "transformer = ColumnTransformer([(\"one_hot\" ,\n",
    "                                 one_hot,\n",
    "                                 categorical_features)],\n",
    "                                remainder = \"passthrough\")\n",
    "transformed_X = transformer.fit_transform(X)\n",
    "transformed_X"
   ]
  },
  {
   "cell_type": "code",
   "execution_count": null,
   "id": "4a047745-7320-4f90-859a-a673d78d48af",
   "metadata": {},
   "outputs": [],
   "source": [
    "#since this is not readable lets store it in a dataset\n",
    "pd.DataFrame(transformed_X)"
   ]
  },
  {
   "cell_type": "code",
   "execution_count": null,
   "id": "b5a1ea2d-282d-4dfc-89b9-640ba4a0996c",
   "metadata": {},
   "outputs": [],
   "source": [
    "#This actually has transformed the doors make and colour columns into OneHotEncoder values and kept\n",
    "#the odometer values the same\n",
    "#so basically OneHotEncoder turns categories into numbers\n",
    "#here doors are also categorical because mark that it varies between certain categories such as 4,5,3 only"
   ]
  },
  {
   "cell_type": "code",
   "execution_count": null,
   "id": "56bde016-cf19-473f-95b6-ff75f163d918",
   "metadata": {},
   "outputs": [],
   "source": [
    "#Another way to do this just like one hot encoder\n",
    "dummies = pd.get_dummies(car_sales[[\"Make\", \"Doors\", \"Colour\"]])\n",
    "dummies"
   ]
  },
  {
   "cell_type": "code",
   "execution_count": null,
   "id": "d8b8589f-a2aa-47a5-b6cc-ab00a386ba3c",
   "metadata": {},
   "outputs": [],
   "source": [
    "#The data is in all 0s and 1s\n",
    "np.random.seed(42)\n",
    "X_train, X_test , Y_train, Y_test = train_test_split(transformed_X, Y, test_size = 0.2)\n",
    "model.fit(X_train , Y_train)"
   ]
  },
  {
   "cell_type": "code",
   "execution_count": null,
   "id": "e1110fd5-7cae-4055-88a1-d68f16b6586f",
   "metadata": {},
   "outputs": [],
   "source": [
    "model.score(X_test, Y_test)"
   ]
  },
  {
   "cell_type": "code",
   "execution_count": null,
   "id": "ce46c6d1-a320-45a7-84fc-39badb13062b",
   "metadata": {},
   "outputs": [],
   "source": [
    "print(sklearn.__version__)"
   ]
  },
  {
   "cell_type": "code",
   "execution_count": null,
   "id": "adb5b7d9-9979-4d74-b946-6277bddc9187",
   "metadata": {},
   "outputs": [],
   "source": [
    "#All versions of scikit learn above 0.23 have been updated to handle none and NaN values\n",
    "#but still we need to fill up those values"
   ]
  },
  {
   "cell_type": "markdown",
   "id": "59825cfc-ad61-496e-bc1d-73ef84042527",
   "metadata": {},
   "source": [
    "### What if there were missing values?\n",
    "1. Fill them with some value(known as imputation).\n",
    "2. Remove the samples with missing data altogether."
   ]
  },
  {
   "cell_type": "code",
   "execution_count": 59,
   "id": "ff9f9900-a661-4bf8-a609-3698c0241056",
   "metadata": {},
   "outputs": [
    {
     "data": {
      "text/html": [
       "<div>\n",
       "<style scoped>\n",
       "    .dataframe tbody tr th:only-of-type {\n",
       "        vertical-align: middle;\n",
       "    }\n",
       "\n",
       "    .dataframe tbody tr th {\n",
       "        vertical-align: top;\n",
       "    }\n",
       "\n",
       "    .dataframe thead th {\n",
       "        text-align: right;\n",
       "    }\n",
       "</style>\n",
       "<table border=\"1\" class=\"dataframe\">\n",
       "  <thead>\n",
       "    <tr style=\"text-align: right;\">\n",
       "      <th></th>\n",
       "      <th>Make</th>\n",
       "      <th>Colour</th>\n",
       "      <th>Odometer</th>\n",
       "      <th>Doors</th>\n",
       "      <th>Price</th>\n",
       "    </tr>\n",
       "  </thead>\n",
       "  <tbody>\n",
       "    <tr>\n",
       "      <th>0</th>\n",
       "      <td>Toyota</td>\n",
       "      <td>White</td>\n",
       "      <td>150043.0</td>\n",
       "      <td>4.0</td>\n",
       "      <td>$4,000</td>\n",
       "    </tr>\n",
       "    <tr>\n",
       "      <th>1</th>\n",
       "      <td>Honda</td>\n",
       "      <td>Red</td>\n",
       "      <td>87899.0</td>\n",
       "      <td>4.0</td>\n",
       "      <td>$5,000</td>\n",
       "    </tr>\n",
       "    <tr>\n",
       "      <th>2</th>\n",
       "      <td>Toyota</td>\n",
       "      <td>Blue</td>\n",
       "      <td>NaN</td>\n",
       "      <td>3.0</td>\n",
       "      <td>$7,000</td>\n",
       "    </tr>\n",
       "    <tr>\n",
       "      <th>3</th>\n",
       "      <td>BMW</td>\n",
       "      <td>Black</td>\n",
       "      <td>11179.0</td>\n",
       "      <td>5.0</td>\n",
       "      <td>$22,000</td>\n",
       "    </tr>\n",
       "    <tr>\n",
       "      <th>4</th>\n",
       "      <td>Nissan</td>\n",
       "      <td>White</td>\n",
       "      <td>213095.0</td>\n",
       "      <td>4.0</td>\n",
       "      <td>$3,500</td>\n",
       "    </tr>\n",
       "    <tr>\n",
       "      <th>5</th>\n",
       "      <td>Toyota</td>\n",
       "      <td>Green</td>\n",
       "      <td>NaN</td>\n",
       "      <td>4.0</td>\n",
       "      <td>$4,500</td>\n",
       "    </tr>\n",
       "    <tr>\n",
       "      <th>6</th>\n",
       "      <td>Honda</td>\n",
       "      <td>NaN</td>\n",
       "      <td>NaN</td>\n",
       "      <td>4.0</td>\n",
       "      <td>$7,500</td>\n",
       "    </tr>\n",
       "    <tr>\n",
       "      <th>7</th>\n",
       "      <td>Honda</td>\n",
       "      <td>Blue</td>\n",
       "      <td>NaN</td>\n",
       "      <td>4.0</td>\n",
       "      <td>NaN</td>\n",
       "    </tr>\n",
       "    <tr>\n",
       "      <th>8</th>\n",
       "      <td>Toyota</td>\n",
       "      <td>White</td>\n",
       "      <td>60000.0</td>\n",
       "      <td>NaN</td>\n",
       "      <td>NaN</td>\n",
       "    </tr>\n",
       "    <tr>\n",
       "      <th>9</th>\n",
       "      <td>NaN</td>\n",
       "      <td>White</td>\n",
       "      <td>31600.0</td>\n",
       "      <td>4.0</td>\n",
       "      <td>$9,700</td>\n",
       "    </tr>\n",
       "  </tbody>\n",
       "</table>\n",
       "</div>"
      ],
      "text/plain": [
       "     Make Colour  Odometer  Doors    Price\n",
       "0  Toyota  White  150043.0    4.0   $4,000\n",
       "1   Honda    Red   87899.0    4.0   $5,000\n",
       "2  Toyota   Blue       NaN    3.0   $7,000\n",
       "3     BMW  Black   11179.0    5.0  $22,000\n",
       "4  Nissan  White  213095.0    4.0   $3,500\n",
       "5  Toyota  Green       NaN    4.0   $4,500\n",
       "6   Honda    NaN       NaN    4.0   $7,500\n",
       "7   Honda   Blue       NaN    4.0      NaN\n",
       "8  Toyota  White   60000.0    NaN      NaN\n",
       "9     NaN  White   31600.0    4.0   $9,700"
      ]
     },
     "execution_count": 59,
     "metadata": {},
     "output_type": "execute_result"
    }
   ],
   "source": [
    "# Import car sales missing data\n",
    "car_sales_missing = pd.read_csv(\"C:/Users/Dell/Desktop/sample_project_1/car-sales-missing-data.csv\")\n",
    "car_sales_missing"
   ]
  },
  {
   "cell_type": "code",
   "execution_count": 60,
   "id": "aba0e720-8a88-4c06-9648-dfafdc2bba4a",
   "metadata": {},
   "outputs": [
    {
     "data": {
      "text/plain": [
       "Make        1\n",
       "Colour      1\n",
       "Odometer    4\n",
       "Doors       1\n",
       "Price       2\n",
       "dtype: int64"
      ]
     },
     "execution_count": 60,
     "metadata": {},
     "output_type": "execute_result"
    }
   ],
   "source": [
    "car_sales_missing.isna().sum()\n",
    "#this will show us how many missing values are there in each column"
   ]
  },
  {
   "cell_type": "code",
   "execution_count": 61,
   "id": "e663c181-0db8-4693-b8a7-e4d4f0f88752",
   "metadata": {},
   "outputs": [],
   "source": [
    "#Create X & Y\n",
    "X = car_sales_missing.drop(\"Price\" ,axis = 1)\n",
    "Y = car_sales_missing[\"Price\"]"
   ]
  },
  {
   "cell_type": "code",
   "execution_count": 62,
   "id": "209ea3a0-a644-45dd-ad41-ec298281a989",
   "metadata": {},
   "outputs": [
    {
     "ename": "NameError",
     "evalue": "name 'OneHotEncoder' is not defined",
     "output_type": "error",
     "traceback": [
      "\u001b[1;31m---------------------------------------------------------------------------\u001b[0m",
      "\u001b[1;31mNameError\u001b[0m                                 Traceback (most recent call last)",
      "Cell \u001b[1;32mIn[62], line 2\u001b[0m\n\u001b[0;32m      1\u001b[0m categorical_features \u001b[38;5;241m=\u001b[39m [\u001b[38;5;124m\"\u001b[39m\u001b[38;5;124mMake\u001b[39m\u001b[38;5;124m\"\u001b[39m , \u001b[38;5;124m\"\u001b[39m\u001b[38;5;124mColour\u001b[39m\u001b[38;5;124m\"\u001b[39m , \u001b[38;5;124m\"\u001b[39m\u001b[38;5;124mDoors\u001b[39m\u001b[38;5;124m\"\u001b[39m]\n\u001b[1;32m----> 2\u001b[0m one_hot \u001b[38;5;241m=\u001b[39m \u001b[43mOneHotEncoder\u001b[49m()\n\u001b[0;32m      3\u001b[0m transformer \u001b[38;5;241m=\u001b[39m ColumnTransformer([(\u001b[38;5;124m\"\u001b[39m\u001b[38;5;124mone_hot\u001b[39m\u001b[38;5;124m\"\u001b[39m,\n\u001b[0;32m      4\u001b[0m                                   one_hot,\n\u001b[0;32m      5\u001b[0m                                   categorical_features)],\n\u001b[0;32m      6\u001b[0m                                 remainder \u001b[38;5;241m=\u001b[39m \u001b[38;5;124m\"\u001b[39m\u001b[38;5;124mpassthrough\u001b[39m\u001b[38;5;124m\"\u001b[39m)\n\u001b[0;32m      7\u001b[0m transformed_X \u001b[38;5;241m=\u001b[39m transformer\u001b[38;5;241m.\u001b[39mfit_transform(X)\n",
      "\u001b[1;31mNameError\u001b[0m: name 'OneHotEncoder' is not defined"
     ]
    }
   ],
   "source": [
    "categorical_features = [\"Make\" , \"Colour\" , \"Doors\"]\n",
    "one_hot = OneHotEncoder()\n",
    "transformer = ColumnTransformer([(\"one_hot\",\n",
    "                                  one_hot,\n",
    "                                  categorical_features)],\n",
    "                                remainder = \"passthrough\")\n",
    "transformed_X = transformer.fit_transform(X)\n",
    "transformed_X"
   ]
  },
  {
   "cell_type": "code",
   "execution_count": 63,
   "id": "200dc23d-127c-4643-badd-7aa0877e9b00",
   "metadata": {},
   "outputs": [],
   "source": [
    "#This actually doesnt show error but before converting categories to numbers we must first\n",
    "#fill up the empty values"
   ]
  },
  {
   "cell_type": "code",
   "execution_count": 64,
   "id": "e38ce356-7560-4830-9f68-7571eeab66d7",
   "metadata": {},
   "outputs": [
    {
     "data": {
      "text/plain": [
       "4.0"
      ]
     },
     "execution_count": 64,
     "metadata": {},
     "output_type": "execute_result"
    }
   ],
   "source": [
    "car_sales_missing[\"Doors\"].mean()"
   ]
  },
  {
   "cell_type": "code",
   "execution_count": 65,
   "id": "bbccc36b-f396-41af-a775-3116755ae894",
   "metadata": {},
   "outputs": [],
   "source": [
    "# Fill missing data with pandas\n",
    "#Fill the make column\n",
    "car_sales_missing[\"Make\"].fillna(\"missing\", inplace = True)\n",
    "\n",
    "#Fill the \"Colour\" column\n",
    "car_sales_missing[\"Colour\"].fillna(\"missing\", inplace = True)\n",
    "#inplace = true is used to modify the object in  place without creating a new object\n",
    "\n",
    "#fill the odometer column\n",
    "car_sales_missing[\"Odometer\"].fillna(car_sales_missing[\"Odometer\"].mean(), inplace = True)\n",
    "\n",
    "#fill the doors column\n",
    "car_sales_missing[\"Doors\"].fillna(4, inplace = True)"
   ]
  },
  {
   "cell_type": "code",
   "execution_count": 66,
   "id": "17dce227-e40a-4905-ac06-a81301310119",
   "metadata": {},
   "outputs": [
    {
     "data": {
      "text/plain": [
       "Make        0\n",
       "Colour      0\n",
       "Odometer    0\n",
       "Doors       0\n",
       "Price       2\n",
       "dtype: int64"
      ]
     },
     "execution_count": 66,
     "metadata": {},
     "output_type": "execute_result"
    }
   ],
   "source": [
    "car_sales_missing.isna().sum()"
   ]
  },
  {
   "cell_type": "code",
   "execution_count": 67,
   "id": "9795bacd-4fd7-49d8-b5f3-a2c46b452ac5",
   "metadata": {},
   "outputs": [
    {
     "data": {
      "text/plain": [
       "Make        0\n",
       "Colour      0\n",
       "Odometer    0\n",
       "Doors       0\n",
       "Price       0\n",
       "dtype: int64"
      ]
     },
     "execution_count": 67,
     "metadata": {},
     "output_type": "execute_result"
    }
   ],
   "source": [
    "#Since we are trying to predict the price \n",
    "#remove rows with missing price value\n",
    "car_sales_missing.dropna(inplace = True)\n",
    "car_sales_missing.isna().sum()"
   ]
  },
  {
   "cell_type": "code",
   "execution_count": 68,
   "id": "300d969a-c614-43aa-8197-1b3873050d2c",
   "metadata": {},
   "outputs": [
    {
     "data": {
      "text/plain": [
       "8"
      ]
     },
     "execution_count": 68,
     "metadata": {},
     "output_type": "execute_result"
    }
   ],
   "source": [
    "len(car_sales_missing)"
   ]
  },
  {
   "cell_type": "code",
   "execution_count": 69,
   "id": "71ca88cd-9288-4bb3-b806-5294107e7bd5",
   "metadata": {},
   "outputs": [],
   "source": [
    "X = car_sales_missing.drop(\"Price\", axis=1)\n",
    "Y = car_sales_missing[\"Price\"]"
   ]
  },
  {
   "cell_type": "code",
   "execution_count": 70,
   "id": "b6f167cb-57de-470e-8e97-cecb59941992",
   "metadata": {},
   "outputs": [
    {
     "data": {
      "text/plain": [
       "array([[0.0, 0.0, 0.0, 1.0, 0.0, 0.0, 0.0, 0.0, 0.0, 1.0, 0.0, 0.0, 1.0,\n",
       "        0.0, 150043.0, '$4,000'],\n",
       "       [0.0, 1.0, 0.0, 0.0, 0.0, 0.0, 0.0, 0.0, 1.0, 0.0, 0.0, 0.0, 1.0,\n",
       "        0.0, 87899.0, '$5,000'],\n",
       "       [0.0, 0.0, 0.0, 1.0, 0.0, 0.0, 1.0, 0.0, 0.0, 0.0, 0.0, 1.0, 0.0,\n",
       "        0.0, 92302.66666666667, '$7,000'],\n",
       "       [1.0, 0.0, 0.0, 0.0, 0.0, 1.0, 0.0, 0.0, 0.0, 0.0, 0.0, 0.0, 0.0,\n",
       "        1.0, 11179.0, '$22,000'],\n",
       "       [0.0, 0.0, 1.0, 0.0, 0.0, 0.0, 0.0, 0.0, 0.0, 1.0, 0.0, 0.0, 1.0,\n",
       "        0.0, 213095.0, '$3,500'],\n",
       "       [0.0, 0.0, 0.0, 1.0, 0.0, 0.0, 0.0, 1.0, 0.0, 0.0, 0.0, 0.0, 1.0,\n",
       "        0.0, 92302.66666666667, '$4,500'],\n",
       "       [0.0, 1.0, 0.0, 0.0, 0.0, 0.0, 0.0, 0.0, 0.0, 0.0, 1.0, 0.0, 1.0,\n",
       "        0.0, 92302.66666666667, '$7,500'],\n",
       "       [0.0, 0.0, 0.0, 0.0, 1.0, 0.0, 0.0, 0.0, 0.0, 1.0, 0.0, 0.0, 1.0,\n",
       "        0.0, 31600.0, '$9,700']], dtype=object)"
      ]
     },
     "execution_count": 70,
     "metadata": {},
     "output_type": "execute_result"
    }
   ],
   "source": [
    "from sklearn.preprocessing import OneHotEncoder\n",
    "from sklearn.compose import ColumnTransformer\n",
    "#in cateforical features we mention the columns that need converting\n",
    "categorical_features = [\"Make\" , \"Colour\" , \"Doors\"]\n",
    "one_hot = OneHotEncoder()\n",
    "transformer = ColumnTransformer([(\"one_hot\" ,\n",
    "                                 one_hot,\n",
    "                                 categorical_features)],\n",
    "                                remainder = \"passthrough\")\n",
    "transformed_X = transformer.fit_transform(car_sales_missing)\n",
    "transformed_X"
   ]
  },
  {
   "cell_type": "markdown",
   "id": "09d29969-7671-4167-b35a-fcfb1bdf3015",
   "metadata": {},
   "source": [
    "### Fill the missing values with scikit learn"
   ]
  },
  {
   "cell_type": "code",
   "execution_count": 71,
   "id": "c7bb9f56-5c1e-4ec8-a164-d5d3cc0f4f94",
   "metadata": {},
   "outputs": [],
   "source": [
    "#Always split into test train before filling the missing values so that you fill them separately for the correct result"
   ]
  },
  {
   "cell_type": "code",
   "execution_count": 73,
   "id": "8e5a5996-a4c0-4fa4-94f2-81f49ad38964",
   "metadata": {},
   "outputs": [],
   "source": [
    "from sklearn.model_selection import train_test_split\n",
    "#Split into x and y\n",
    "X = car_sales_missing.drop(\"Price\" , axis = 1)\n",
    "Y = car_sales_missing[\"Price\"]\n",
    "\n",
    "#Split data into train and test\n",
    "np.random.seed(42)\n",
    "X_train, X_test , Y_train , Y_test = train_test_split(X,Y, test_size = 0.2)"
   ]
  },
  {
   "cell_type": "code",
   "execution_count": 74,
   "id": "fce24319-26e6-4fa3-91f5-430a64296fbb",
   "metadata": {},
   "outputs": [
    {
     "data": {
      "text/plain": [
       "Make        0\n",
       "Colour      0\n",
       "Odometer    0\n",
       "Doors       0\n",
       "dtype: int64"
      ]
     },
     "execution_count": 74,
     "metadata": {},
     "output_type": "execute_result"
    }
   ],
   "source": [
    "#Check missing values\n",
    "X.isna().sum()"
   ]
  },
  {
   "cell_type": "code",
   "execution_count": 80,
   "id": "29b677d1-a90d-4004-8d73-258c9452623a",
   "metadata": {},
   "outputs": [
    {
     "data": {
      "text/plain": [
       "array([['Toyota', 'White', 4.0, 150043.0],\n",
       "       ['missing', 'White', 4.0, 31600.0],\n",
       "       ['Toyota', 'Blue', 3.0, 92302.66666666667],\n",
       "       ['Nissan', 'White', 4.0, 213095.0],\n",
       "       ['BMW', 'Black', 5.0, 11179.0],\n",
       "       ['Honda', 'missing', 4.0, 92302.66666666667]], dtype=object)"
      ]
     },
     "execution_count": 80,
     "metadata": {},
     "output_type": "execute_result"
    }
   ],
   "source": [
    "#Fill missing values with scikit learn\n",
    "from sklearn.impute import SimpleImputer\n",
    "from sklearn.compose import ColumnTransformer\n",
    "\n",
    "#Fill categorical values with 'missing' & numerical values with mean \n",
    "cat_imputer = SimpleImputer(strategy = \"constant\", fill_value = \"missing\")\n",
    "#this constantly fills the missing values with missing\n",
    "door_imputer = SimpleImputer(strategy = \"constant\" , fill_value=4)\n",
    "num_imputer = SimpleImputer(strategy = \"mean\")\n",
    "\n",
    "#Define columns\n",
    "cat_features = [\"Make\", \"Colour\"]\n",
    "door_feature = [\"Doors\"]\n",
    "num_features = [\"Odometer\"]\n",
    "\n",
    "#Create an imputer \n",
    "imputer = ColumnTransformer([\n",
    "    (\"cat_imputer\", cat_imputer, cat_features),\n",
    "    (\"door_imputer\", door_imputer, door_feature),\n",
    "    (\"num_imputer\", num_imputer , num_features)\n",
    "])\n",
    "\n",
    "#Fill train and test values separately\n",
    "filled_X_train = imputer.fit_transform(X_train)#fit_transform imputes the missing value from\n",
    "#the training set and fills them simultaneously\n",
    "filled_X_test = imputer.transform(X_test) #transform takes the imputing missing values from the training set and filsl the test set with them\n",
    "\n",
    "\n",
    "#Check filled X_train\n",
    "filled_X_train\n",
    "\n",
    "\n"
   ]
  },
  {
   "cell_type": "code",
   "execution_count": 81,
   "id": "a0f05839-0b06-45cf-984b-08ab45936b51",
   "metadata": {},
   "outputs": [
    {
     "data": {
      "text/plain": [
       "Make        0\n",
       "Colour      0\n",
       "Doors       0\n",
       "Odometer    0\n",
       "dtype: int64"
      ]
     },
     "execution_count": 81,
     "metadata": {},
     "output_type": "execute_result"
    }
   ],
   "source": [
    "#Get the transformed data arrays back into DataFrames\n",
    "car_sales_filled_train = pd.DataFrame(filled_X_train,\n",
    "                                      columns= [\"Make\", \"Colour\", \"Doors\", \"Odometer\"])\n",
    "car_sales_filled_test = pd.DataFrame(filled_X_test,\n",
    "                                      columns= [\"Make\", \"Colour\", \"Doors\", \"Odometer\"])\n",
    "#Check missing data in the training set\n",
    "car_sales_filled_train.isna().sum()"
   ]
  },
  {
   "cell_type": "code",
   "execution_count": 82,
   "id": "cbe45b73-b48b-4114-a934-902790cb6de9",
   "metadata": {},
   "outputs": [
    {
     "data": {
      "text/plain": [
       "Make        0\n",
       "Colour      0\n",
       "Doors       0\n",
       "Odometer    0\n",
       "dtype: int64"
      ]
     },
     "execution_count": 82,
     "metadata": {},
     "output_type": "execute_result"
    }
   ],
   "source": [
    "#Check missing data in the test set\n",
    "car_sales_filled_test.isna().sum()"
   ]
  },
  {
   "cell_type": "code",
   "execution_count": 83,
   "id": "1d2e9710-89dd-4f4e-92b9-402093a4019d",
   "metadata": {},
   "outputs": [
    {
     "ename": "ValueError",
     "evalue": "Found unknown categories ['Red', 'Green'] in column 1 during transform",
     "output_type": "error",
     "traceback": [
      "\u001b[1;31m---------------------------------------------------------------------------\u001b[0m",
      "\u001b[1;31mValueError\u001b[0m                                Traceback (most recent call last)",
      "Cell \u001b[1;32mIn[83], line 14\u001b[0m\n\u001b[0;32m     12\u001b[0m \u001b[38;5;66;03m# Fill train and test values separately\u001b[39;00m\n\u001b[0;32m     13\u001b[0m transformed_X_train \u001b[38;5;241m=\u001b[39m transformer\u001b[38;5;241m.\u001b[39mfit_transform(car_sales_filled_train) \u001b[38;5;66;03m# fit and transform the training data\u001b[39;00m\n\u001b[1;32m---> 14\u001b[0m transformed_X_test \u001b[38;5;241m=\u001b[39m \u001b[43mtransformer\u001b[49m\u001b[38;5;241;43m.\u001b[39;49m\u001b[43mtransform\u001b[49m\u001b[43m(\u001b[49m\u001b[43mcar_sales_filled_test\u001b[49m\u001b[43m)\u001b[49m \u001b[38;5;66;03m# transform the test data\u001b[39;00m\n\u001b[0;32m     16\u001b[0m \u001b[38;5;66;03m# Check transformed and filled X_train\u001b[39;00m\n\u001b[0;32m     17\u001b[0m transformed_X_train\u001b[38;5;241m.\u001b[39mtoarray()\n",
      "File \u001b[1;32m~\\Desktop\\sample_project_1\\env\\lib\\site-packages\\sklearn\\utils\\_set_output.py:140\u001b[0m, in \u001b[0;36m_wrap_method_output.<locals>.wrapped\u001b[1;34m(self, X, *args, **kwargs)\u001b[0m\n\u001b[0;32m    138\u001b[0m \u001b[38;5;129m@wraps\u001b[39m(f)\n\u001b[0;32m    139\u001b[0m \u001b[38;5;28;01mdef\u001b[39;00m \u001b[38;5;21mwrapped\u001b[39m(\u001b[38;5;28mself\u001b[39m, X, \u001b[38;5;241m*\u001b[39margs, \u001b[38;5;241m*\u001b[39m\u001b[38;5;241m*\u001b[39mkwargs):\n\u001b[1;32m--> 140\u001b[0m     data_to_wrap \u001b[38;5;241m=\u001b[39m f(\u001b[38;5;28mself\u001b[39m, X, \u001b[38;5;241m*\u001b[39margs, \u001b[38;5;241m*\u001b[39m\u001b[38;5;241m*\u001b[39mkwargs)\n\u001b[0;32m    141\u001b[0m     \u001b[38;5;28;01mif\u001b[39;00m \u001b[38;5;28misinstance\u001b[39m(data_to_wrap, \u001b[38;5;28mtuple\u001b[39m):\n\u001b[0;32m    142\u001b[0m         \u001b[38;5;66;03m# only wrap the first output for cross decomposition\u001b[39;00m\n\u001b[0;32m    143\u001b[0m         return_tuple \u001b[38;5;241m=\u001b[39m (\n\u001b[0;32m    144\u001b[0m             _wrap_data_with_container(method, data_to_wrap[\u001b[38;5;241m0\u001b[39m], X, \u001b[38;5;28mself\u001b[39m),\n\u001b[0;32m    145\u001b[0m             \u001b[38;5;241m*\u001b[39mdata_to_wrap[\u001b[38;5;241m1\u001b[39m:],\n\u001b[0;32m    146\u001b[0m         )\n",
      "File \u001b[1;32m~\\Desktop\\sample_project_1\\env\\lib\\site-packages\\sklearn\\compose\\_column_transformer.py:816\u001b[0m, in \u001b[0;36mColumnTransformer.transform\u001b[1;34m(self, X)\u001b[0m\n\u001b[0;32m    811\u001b[0m \u001b[38;5;28;01melse\u001b[39;00m:\n\u001b[0;32m    812\u001b[0m     \u001b[38;5;66;03m# ndarray was used for fitting or transforming, thus we only\u001b[39;00m\n\u001b[0;32m    813\u001b[0m     \u001b[38;5;66;03m# check that n_features_in_ is consistent\u001b[39;00m\n\u001b[0;32m    814\u001b[0m     \u001b[38;5;28mself\u001b[39m\u001b[38;5;241m.\u001b[39m_check_n_features(X, reset\u001b[38;5;241m=\u001b[39m\u001b[38;5;28;01mFalse\u001b[39;00m)\n\u001b[1;32m--> 816\u001b[0m Xs \u001b[38;5;241m=\u001b[39m \u001b[38;5;28;43mself\u001b[39;49m\u001b[38;5;241;43m.\u001b[39;49m\u001b[43m_fit_transform\u001b[49m\u001b[43m(\u001b[49m\n\u001b[0;32m    817\u001b[0m \u001b[43m    \u001b[49m\u001b[43mX\u001b[49m\u001b[43m,\u001b[49m\n\u001b[0;32m    818\u001b[0m \u001b[43m    \u001b[49m\u001b[38;5;28;43;01mNone\u001b[39;49;00m\u001b[43m,\u001b[49m\n\u001b[0;32m    819\u001b[0m \u001b[43m    \u001b[49m\u001b[43m_transform_one\u001b[49m\u001b[43m,\u001b[49m\n\u001b[0;32m    820\u001b[0m \u001b[43m    \u001b[49m\u001b[43mfitted\u001b[49m\u001b[38;5;241;43m=\u001b[39;49m\u001b[38;5;28;43;01mTrue\u001b[39;49;00m\u001b[43m,\u001b[49m\n\u001b[0;32m    821\u001b[0m \u001b[43m    \u001b[49m\u001b[43mcolumn_as_strings\u001b[49m\u001b[38;5;241;43m=\u001b[39;49m\u001b[43mfit_dataframe_and_transform_dataframe\u001b[49m\u001b[43m,\u001b[49m\n\u001b[0;32m    822\u001b[0m \u001b[43m\u001b[49m\u001b[43m)\u001b[49m\n\u001b[0;32m    823\u001b[0m \u001b[38;5;28mself\u001b[39m\u001b[38;5;241m.\u001b[39m_validate_output(Xs)\n\u001b[0;32m    825\u001b[0m \u001b[38;5;28;01mif\u001b[39;00m \u001b[38;5;129;01mnot\u001b[39;00m Xs:\n\u001b[0;32m    826\u001b[0m     \u001b[38;5;66;03m# All transformers are None\u001b[39;00m\n",
      "File \u001b[1;32m~\\Desktop\\sample_project_1\\env\\lib\\site-packages\\sklearn\\compose\\_column_transformer.py:670\u001b[0m, in \u001b[0;36mColumnTransformer._fit_transform\u001b[1;34m(self, X, y, func, fitted, column_as_strings)\u001b[0m\n\u001b[0;32m    664\u001b[0m transformers \u001b[38;5;241m=\u001b[39m \u001b[38;5;28mlist\u001b[39m(\n\u001b[0;32m    665\u001b[0m     \u001b[38;5;28mself\u001b[39m\u001b[38;5;241m.\u001b[39m_iter(\n\u001b[0;32m    666\u001b[0m         fitted\u001b[38;5;241m=\u001b[39mfitted, replace_strings\u001b[38;5;241m=\u001b[39m\u001b[38;5;28;01mTrue\u001b[39;00m, column_as_strings\u001b[38;5;241m=\u001b[39mcolumn_as_strings\n\u001b[0;32m    667\u001b[0m     )\n\u001b[0;32m    668\u001b[0m )\n\u001b[0;32m    669\u001b[0m \u001b[38;5;28;01mtry\u001b[39;00m:\n\u001b[1;32m--> 670\u001b[0m     \u001b[38;5;28;01mreturn\u001b[39;00m \u001b[43mParallel\u001b[49m\u001b[43m(\u001b[49m\u001b[43mn_jobs\u001b[49m\u001b[38;5;241;43m=\u001b[39;49m\u001b[38;5;28;43mself\u001b[39;49m\u001b[38;5;241;43m.\u001b[39;49m\u001b[43mn_jobs\u001b[49m\u001b[43m)\u001b[49m\u001b[43m(\u001b[49m\n\u001b[0;32m    671\u001b[0m \u001b[43m        \u001b[49m\u001b[43mdelayed\u001b[49m\u001b[43m(\u001b[49m\u001b[43mfunc\u001b[49m\u001b[43m)\u001b[49m\u001b[43m(\u001b[49m\n\u001b[0;32m    672\u001b[0m \u001b[43m            \u001b[49m\u001b[43mtransformer\u001b[49m\u001b[38;5;241;43m=\u001b[39;49m\u001b[43mclone\u001b[49m\u001b[43m(\u001b[49m\u001b[43mtrans\u001b[49m\u001b[43m)\u001b[49m\u001b[43m \u001b[49m\u001b[38;5;28;43;01mif\u001b[39;49;00m\u001b[43m \u001b[49m\u001b[38;5;129;43;01mnot\u001b[39;49;00m\u001b[43m \u001b[49m\u001b[43mfitted\u001b[49m\u001b[43m \u001b[49m\u001b[38;5;28;43;01melse\u001b[39;49;00m\u001b[43m \u001b[49m\u001b[43mtrans\u001b[49m\u001b[43m,\u001b[49m\n\u001b[0;32m    673\u001b[0m \u001b[43m            \u001b[49m\u001b[43mX\u001b[49m\u001b[38;5;241;43m=\u001b[39;49m\u001b[43m_safe_indexing\u001b[49m\u001b[43m(\u001b[49m\u001b[43mX\u001b[49m\u001b[43m,\u001b[49m\u001b[43m \u001b[49m\u001b[43mcolumn\u001b[49m\u001b[43m,\u001b[49m\u001b[43m \u001b[49m\u001b[43maxis\u001b[49m\u001b[38;5;241;43m=\u001b[39;49m\u001b[38;5;241;43m1\u001b[39;49m\u001b[43m)\u001b[49m\u001b[43m,\u001b[49m\n\u001b[0;32m    674\u001b[0m \u001b[43m            \u001b[49m\u001b[43my\u001b[49m\u001b[38;5;241;43m=\u001b[39;49m\u001b[43my\u001b[49m\u001b[43m,\u001b[49m\n\u001b[0;32m    675\u001b[0m \u001b[43m            \u001b[49m\u001b[43mweight\u001b[49m\u001b[38;5;241;43m=\u001b[39;49m\u001b[43mweight\u001b[49m\u001b[43m,\u001b[49m\n\u001b[0;32m    676\u001b[0m \u001b[43m            \u001b[49m\u001b[43mmessage_clsname\u001b[49m\u001b[38;5;241;43m=\u001b[39;49m\u001b[38;5;124;43m\"\u001b[39;49m\u001b[38;5;124;43mColumnTransformer\u001b[39;49m\u001b[38;5;124;43m\"\u001b[39;49m\u001b[43m,\u001b[49m\n\u001b[0;32m    677\u001b[0m \u001b[43m            \u001b[49m\u001b[43mmessage\u001b[49m\u001b[38;5;241;43m=\u001b[39;49m\u001b[38;5;28;43mself\u001b[39;49m\u001b[38;5;241;43m.\u001b[39;49m\u001b[43m_log_message\u001b[49m\u001b[43m(\u001b[49m\u001b[43mname\u001b[49m\u001b[43m,\u001b[49m\u001b[43m \u001b[49m\u001b[43midx\u001b[49m\u001b[43m,\u001b[49m\u001b[43m \u001b[49m\u001b[38;5;28;43mlen\u001b[39;49m\u001b[43m(\u001b[49m\u001b[43mtransformers\u001b[49m\u001b[43m)\u001b[49m\u001b[43m)\u001b[49m\u001b[43m,\u001b[49m\n\u001b[0;32m    678\u001b[0m \u001b[43m        \u001b[49m\u001b[43m)\u001b[49m\n\u001b[0;32m    679\u001b[0m \u001b[43m        \u001b[49m\u001b[38;5;28;43;01mfor\u001b[39;49;00m\u001b[43m \u001b[49m\u001b[43midx\u001b[49m\u001b[43m,\u001b[49m\u001b[43m \u001b[49m\u001b[43m(\u001b[49m\u001b[43mname\u001b[49m\u001b[43m,\u001b[49m\u001b[43m \u001b[49m\u001b[43mtrans\u001b[49m\u001b[43m,\u001b[49m\u001b[43m \u001b[49m\u001b[43mcolumn\u001b[49m\u001b[43m,\u001b[49m\u001b[43m \u001b[49m\u001b[43mweight\u001b[49m\u001b[43m)\u001b[49m\u001b[43m \u001b[49m\u001b[38;5;129;43;01min\u001b[39;49;00m\u001b[43m \u001b[49m\u001b[38;5;28;43menumerate\u001b[39;49m\u001b[43m(\u001b[49m\u001b[43mtransformers\u001b[49m\u001b[43m,\u001b[49m\u001b[43m \u001b[49m\u001b[38;5;241;43m1\u001b[39;49m\u001b[43m)\u001b[49m\n\u001b[0;32m    680\u001b[0m \u001b[43m    \u001b[49m\u001b[43m)\u001b[49m\n\u001b[0;32m    681\u001b[0m \u001b[38;5;28;01mexcept\u001b[39;00m \u001b[38;5;167;01mValueError\u001b[39;00m \u001b[38;5;28;01mas\u001b[39;00m e:\n\u001b[0;32m    682\u001b[0m     \u001b[38;5;28;01mif\u001b[39;00m \u001b[38;5;124m\"\u001b[39m\u001b[38;5;124mExpected 2D array, got 1D array instead\u001b[39m\u001b[38;5;124m\"\u001b[39m \u001b[38;5;129;01min\u001b[39;00m \u001b[38;5;28mstr\u001b[39m(e):\n",
      "File \u001b[1;32m~\\Desktop\\sample_project_1\\env\\lib\\site-packages\\sklearn\\utils\\parallel.py:65\u001b[0m, in \u001b[0;36mParallel.__call__\u001b[1;34m(self, iterable)\u001b[0m\n\u001b[0;32m     60\u001b[0m config \u001b[38;5;241m=\u001b[39m get_config()\n\u001b[0;32m     61\u001b[0m iterable_with_config \u001b[38;5;241m=\u001b[39m (\n\u001b[0;32m     62\u001b[0m     (_with_config(delayed_func, config), args, kwargs)\n\u001b[0;32m     63\u001b[0m     \u001b[38;5;28;01mfor\u001b[39;00m delayed_func, args, kwargs \u001b[38;5;129;01min\u001b[39;00m iterable\n\u001b[0;32m     64\u001b[0m )\n\u001b[1;32m---> 65\u001b[0m \u001b[38;5;28;01mreturn\u001b[39;00m \u001b[38;5;28;43msuper\u001b[39;49m\u001b[43m(\u001b[49m\u001b[43m)\u001b[49m\u001b[38;5;241;43m.\u001b[39;49m\u001b[38;5;21;43m__call__\u001b[39;49m\u001b[43m(\u001b[49m\u001b[43miterable_with_config\u001b[49m\u001b[43m)\u001b[49m\n",
      "File \u001b[1;32m~\\Desktop\\sample_project_1\\env\\lib\\site-packages\\joblib\\parallel.py:1085\u001b[0m, in \u001b[0;36mParallel.__call__\u001b[1;34m(self, iterable)\u001b[0m\n\u001b[0;32m   1076\u001b[0m \u001b[38;5;28;01mtry\u001b[39;00m:\n\u001b[0;32m   1077\u001b[0m     \u001b[38;5;66;03m# Only set self._iterating to True if at least a batch\u001b[39;00m\n\u001b[0;32m   1078\u001b[0m     \u001b[38;5;66;03m# was dispatched. In particular this covers the edge\u001b[39;00m\n\u001b[1;32m   (...)\u001b[0m\n\u001b[0;32m   1082\u001b[0m     \u001b[38;5;66;03m# was very quick and its callback already dispatched all the\u001b[39;00m\n\u001b[0;32m   1083\u001b[0m     \u001b[38;5;66;03m# remaining jobs.\u001b[39;00m\n\u001b[0;32m   1084\u001b[0m     \u001b[38;5;28mself\u001b[39m\u001b[38;5;241m.\u001b[39m_iterating \u001b[38;5;241m=\u001b[39m \u001b[38;5;28;01mFalse\u001b[39;00m\n\u001b[1;32m-> 1085\u001b[0m     \u001b[38;5;28;01mif\u001b[39;00m \u001b[38;5;28;43mself\u001b[39;49m\u001b[38;5;241;43m.\u001b[39;49m\u001b[43mdispatch_one_batch\u001b[49m\u001b[43m(\u001b[49m\u001b[43miterator\u001b[49m\u001b[43m)\u001b[49m:\n\u001b[0;32m   1086\u001b[0m         \u001b[38;5;28mself\u001b[39m\u001b[38;5;241m.\u001b[39m_iterating \u001b[38;5;241m=\u001b[39m \u001b[38;5;28mself\u001b[39m\u001b[38;5;241m.\u001b[39m_original_iterator \u001b[38;5;129;01mis\u001b[39;00m \u001b[38;5;129;01mnot\u001b[39;00m \u001b[38;5;28;01mNone\u001b[39;00m\n\u001b[0;32m   1088\u001b[0m     \u001b[38;5;28;01mwhile\u001b[39;00m \u001b[38;5;28mself\u001b[39m\u001b[38;5;241m.\u001b[39mdispatch_one_batch(iterator):\n",
      "File \u001b[1;32m~\\Desktop\\sample_project_1\\env\\lib\\site-packages\\joblib\\parallel.py:901\u001b[0m, in \u001b[0;36mParallel.dispatch_one_batch\u001b[1;34m(self, iterator)\u001b[0m\n\u001b[0;32m    899\u001b[0m     \u001b[38;5;28;01mreturn\u001b[39;00m \u001b[38;5;28;01mFalse\u001b[39;00m\n\u001b[0;32m    900\u001b[0m \u001b[38;5;28;01melse\u001b[39;00m:\n\u001b[1;32m--> 901\u001b[0m     \u001b[38;5;28;43mself\u001b[39;49m\u001b[38;5;241;43m.\u001b[39;49m\u001b[43m_dispatch\u001b[49m\u001b[43m(\u001b[49m\u001b[43mtasks\u001b[49m\u001b[43m)\u001b[49m\n\u001b[0;32m    902\u001b[0m     \u001b[38;5;28;01mreturn\u001b[39;00m \u001b[38;5;28;01mTrue\u001b[39;00m\n",
      "File \u001b[1;32m~\\Desktop\\sample_project_1\\env\\lib\\site-packages\\joblib\\parallel.py:819\u001b[0m, in \u001b[0;36mParallel._dispatch\u001b[1;34m(self, batch)\u001b[0m\n\u001b[0;32m    817\u001b[0m \u001b[38;5;28;01mwith\u001b[39;00m \u001b[38;5;28mself\u001b[39m\u001b[38;5;241m.\u001b[39m_lock:\n\u001b[0;32m    818\u001b[0m     job_idx \u001b[38;5;241m=\u001b[39m \u001b[38;5;28mlen\u001b[39m(\u001b[38;5;28mself\u001b[39m\u001b[38;5;241m.\u001b[39m_jobs)\n\u001b[1;32m--> 819\u001b[0m     job \u001b[38;5;241m=\u001b[39m \u001b[38;5;28;43mself\u001b[39;49m\u001b[38;5;241;43m.\u001b[39;49m\u001b[43m_backend\u001b[49m\u001b[38;5;241;43m.\u001b[39;49m\u001b[43mapply_async\u001b[49m\u001b[43m(\u001b[49m\u001b[43mbatch\u001b[49m\u001b[43m,\u001b[49m\u001b[43m \u001b[49m\u001b[43mcallback\u001b[49m\u001b[38;5;241;43m=\u001b[39;49m\u001b[43mcb\u001b[49m\u001b[43m)\u001b[49m\n\u001b[0;32m    820\u001b[0m     \u001b[38;5;66;03m# A job can complete so quickly than its callback is\u001b[39;00m\n\u001b[0;32m    821\u001b[0m     \u001b[38;5;66;03m# called before we get here, causing self._jobs to\u001b[39;00m\n\u001b[0;32m    822\u001b[0m     \u001b[38;5;66;03m# grow. To ensure correct results ordering, .insert is\u001b[39;00m\n\u001b[0;32m    823\u001b[0m     \u001b[38;5;66;03m# used (rather than .append) in the following line\u001b[39;00m\n\u001b[0;32m    824\u001b[0m     \u001b[38;5;28mself\u001b[39m\u001b[38;5;241m.\u001b[39m_jobs\u001b[38;5;241m.\u001b[39minsert(job_idx, job)\n",
      "File \u001b[1;32m~\\Desktop\\sample_project_1\\env\\lib\\site-packages\\joblib\\_parallel_backends.py:208\u001b[0m, in \u001b[0;36mSequentialBackend.apply_async\u001b[1;34m(self, func, callback)\u001b[0m\n\u001b[0;32m    206\u001b[0m \u001b[38;5;28;01mdef\u001b[39;00m \u001b[38;5;21mapply_async\u001b[39m(\u001b[38;5;28mself\u001b[39m, func, callback\u001b[38;5;241m=\u001b[39m\u001b[38;5;28;01mNone\u001b[39;00m):\n\u001b[0;32m    207\u001b[0m \u001b[38;5;250m    \u001b[39m\u001b[38;5;124;03m\"\"\"Schedule a func to be run\"\"\"\u001b[39;00m\n\u001b[1;32m--> 208\u001b[0m     result \u001b[38;5;241m=\u001b[39m \u001b[43mImmediateResult\u001b[49m\u001b[43m(\u001b[49m\u001b[43mfunc\u001b[49m\u001b[43m)\u001b[49m\n\u001b[0;32m    209\u001b[0m     \u001b[38;5;28;01mif\u001b[39;00m callback:\n\u001b[0;32m    210\u001b[0m         callback(result)\n",
      "File \u001b[1;32m~\\Desktop\\sample_project_1\\env\\lib\\site-packages\\joblib\\_parallel_backends.py:597\u001b[0m, in \u001b[0;36mImmediateResult.__init__\u001b[1;34m(self, batch)\u001b[0m\n\u001b[0;32m    594\u001b[0m \u001b[38;5;28;01mdef\u001b[39;00m \u001b[38;5;21m__init__\u001b[39m(\u001b[38;5;28mself\u001b[39m, batch):\n\u001b[0;32m    595\u001b[0m     \u001b[38;5;66;03m# Don't delay the application, to avoid keeping the input\u001b[39;00m\n\u001b[0;32m    596\u001b[0m     \u001b[38;5;66;03m# arguments in memory\u001b[39;00m\n\u001b[1;32m--> 597\u001b[0m     \u001b[38;5;28mself\u001b[39m\u001b[38;5;241m.\u001b[39mresults \u001b[38;5;241m=\u001b[39m \u001b[43mbatch\u001b[49m\u001b[43m(\u001b[49m\u001b[43m)\u001b[49m\n",
      "File \u001b[1;32m~\\Desktop\\sample_project_1\\env\\lib\\site-packages\\joblib\\parallel.py:288\u001b[0m, in \u001b[0;36mBatchedCalls.__call__\u001b[1;34m(self)\u001b[0m\n\u001b[0;32m    284\u001b[0m \u001b[38;5;28;01mdef\u001b[39;00m \u001b[38;5;21m__call__\u001b[39m(\u001b[38;5;28mself\u001b[39m):\n\u001b[0;32m    285\u001b[0m     \u001b[38;5;66;03m# Set the default nested backend to self._backend but do not set the\u001b[39;00m\n\u001b[0;32m    286\u001b[0m     \u001b[38;5;66;03m# change the default number of processes to -1\u001b[39;00m\n\u001b[0;32m    287\u001b[0m     \u001b[38;5;28;01mwith\u001b[39;00m parallel_backend(\u001b[38;5;28mself\u001b[39m\u001b[38;5;241m.\u001b[39m_backend, n_jobs\u001b[38;5;241m=\u001b[39m\u001b[38;5;28mself\u001b[39m\u001b[38;5;241m.\u001b[39m_n_jobs):\n\u001b[1;32m--> 288\u001b[0m         \u001b[38;5;28;01mreturn\u001b[39;00m [func(\u001b[38;5;241m*\u001b[39margs, \u001b[38;5;241m*\u001b[39m\u001b[38;5;241m*\u001b[39mkwargs)\n\u001b[0;32m    289\u001b[0m                 \u001b[38;5;28;01mfor\u001b[39;00m func, args, kwargs \u001b[38;5;129;01min\u001b[39;00m \u001b[38;5;28mself\u001b[39m\u001b[38;5;241m.\u001b[39mitems]\n",
      "File \u001b[1;32m~\\Desktop\\sample_project_1\\env\\lib\\site-packages\\joblib\\parallel.py:288\u001b[0m, in \u001b[0;36m<listcomp>\u001b[1;34m(.0)\u001b[0m\n\u001b[0;32m    284\u001b[0m \u001b[38;5;28;01mdef\u001b[39;00m \u001b[38;5;21m__call__\u001b[39m(\u001b[38;5;28mself\u001b[39m):\n\u001b[0;32m    285\u001b[0m     \u001b[38;5;66;03m# Set the default nested backend to self._backend but do not set the\u001b[39;00m\n\u001b[0;32m    286\u001b[0m     \u001b[38;5;66;03m# change the default number of processes to -1\u001b[39;00m\n\u001b[0;32m    287\u001b[0m     \u001b[38;5;28;01mwith\u001b[39;00m parallel_backend(\u001b[38;5;28mself\u001b[39m\u001b[38;5;241m.\u001b[39m_backend, n_jobs\u001b[38;5;241m=\u001b[39m\u001b[38;5;28mself\u001b[39m\u001b[38;5;241m.\u001b[39m_n_jobs):\n\u001b[1;32m--> 288\u001b[0m         \u001b[38;5;28;01mreturn\u001b[39;00m [func(\u001b[38;5;241m*\u001b[39margs, \u001b[38;5;241m*\u001b[39m\u001b[38;5;241m*\u001b[39mkwargs)\n\u001b[0;32m    289\u001b[0m                 \u001b[38;5;28;01mfor\u001b[39;00m func, args, kwargs \u001b[38;5;129;01min\u001b[39;00m \u001b[38;5;28mself\u001b[39m\u001b[38;5;241m.\u001b[39mitems]\n",
      "File \u001b[1;32m~\\Desktop\\sample_project_1\\env\\lib\\site-packages\\sklearn\\utils\\parallel.py:127\u001b[0m, in \u001b[0;36m_FuncWrapper.__call__\u001b[1;34m(self, *args, **kwargs)\u001b[0m\n\u001b[0;32m    125\u001b[0m     config \u001b[38;5;241m=\u001b[39m {}\n\u001b[0;32m    126\u001b[0m \u001b[38;5;28;01mwith\u001b[39;00m config_context(\u001b[38;5;241m*\u001b[39m\u001b[38;5;241m*\u001b[39mconfig):\n\u001b[1;32m--> 127\u001b[0m     \u001b[38;5;28;01mreturn\u001b[39;00m \u001b[38;5;28mself\u001b[39m\u001b[38;5;241m.\u001b[39mfunction(\u001b[38;5;241m*\u001b[39margs, \u001b[38;5;241m*\u001b[39m\u001b[38;5;241m*\u001b[39mkwargs)\n",
      "File \u001b[1;32m~\\Desktop\\sample_project_1\\env\\lib\\site-packages\\sklearn\\pipeline.py:933\u001b[0m, in \u001b[0;36m_transform_one\u001b[1;34m(transformer, X, y, weight, **fit_params)\u001b[0m\n\u001b[0;32m    932\u001b[0m \u001b[38;5;28;01mdef\u001b[39;00m \u001b[38;5;21m_transform_one\u001b[39m(transformer, X, y, weight, \u001b[38;5;241m*\u001b[39m\u001b[38;5;241m*\u001b[39mfit_params):\n\u001b[1;32m--> 933\u001b[0m     res \u001b[38;5;241m=\u001b[39m \u001b[43mtransformer\u001b[49m\u001b[38;5;241;43m.\u001b[39;49m\u001b[43mtransform\u001b[49m\u001b[43m(\u001b[49m\u001b[43mX\u001b[49m\u001b[43m)\u001b[49m\n\u001b[0;32m    934\u001b[0m     \u001b[38;5;66;03m# if we have a weight for this transformer, multiply output\u001b[39;00m\n\u001b[0;32m    935\u001b[0m     \u001b[38;5;28;01mif\u001b[39;00m weight \u001b[38;5;129;01mis\u001b[39;00m \u001b[38;5;28;01mNone\u001b[39;00m:\n",
      "File \u001b[1;32m~\\Desktop\\sample_project_1\\env\\lib\\site-packages\\sklearn\\utils\\_set_output.py:140\u001b[0m, in \u001b[0;36m_wrap_method_output.<locals>.wrapped\u001b[1;34m(self, X, *args, **kwargs)\u001b[0m\n\u001b[0;32m    138\u001b[0m \u001b[38;5;129m@wraps\u001b[39m(f)\n\u001b[0;32m    139\u001b[0m \u001b[38;5;28;01mdef\u001b[39;00m \u001b[38;5;21mwrapped\u001b[39m(\u001b[38;5;28mself\u001b[39m, X, \u001b[38;5;241m*\u001b[39margs, \u001b[38;5;241m*\u001b[39m\u001b[38;5;241m*\u001b[39mkwargs):\n\u001b[1;32m--> 140\u001b[0m     data_to_wrap \u001b[38;5;241m=\u001b[39m f(\u001b[38;5;28mself\u001b[39m, X, \u001b[38;5;241m*\u001b[39margs, \u001b[38;5;241m*\u001b[39m\u001b[38;5;241m*\u001b[39mkwargs)\n\u001b[0;32m    141\u001b[0m     \u001b[38;5;28;01mif\u001b[39;00m \u001b[38;5;28misinstance\u001b[39m(data_to_wrap, \u001b[38;5;28mtuple\u001b[39m):\n\u001b[0;32m    142\u001b[0m         \u001b[38;5;66;03m# only wrap the first output for cross decomposition\u001b[39;00m\n\u001b[0;32m    143\u001b[0m         return_tuple \u001b[38;5;241m=\u001b[39m (\n\u001b[0;32m    144\u001b[0m             _wrap_data_with_container(method, data_to_wrap[\u001b[38;5;241m0\u001b[39m], X, \u001b[38;5;28mself\u001b[39m),\n\u001b[0;32m    145\u001b[0m             \u001b[38;5;241m*\u001b[39mdata_to_wrap[\u001b[38;5;241m1\u001b[39m:],\n\u001b[0;32m    146\u001b[0m         )\n",
      "File \u001b[1;32m~\\Desktop\\sample_project_1\\env\\lib\\site-packages\\sklearn\\preprocessing\\_encoders.py:1016\u001b[0m, in \u001b[0;36mOneHotEncoder.transform\u001b[1;34m(self, X)\u001b[0m\n\u001b[0;32m   1011\u001b[0m \u001b[38;5;66;03m# validation of X happens in _check_X called by _transform\u001b[39;00m\n\u001b[0;32m   1012\u001b[0m warn_on_unknown \u001b[38;5;241m=\u001b[39m \u001b[38;5;28mself\u001b[39m\u001b[38;5;241m.\u001b[39mdrop \u001b[38;5;129;01mis\u001b[39;00m \u001b[38;5;129;01mnot\u001b[39;00m \u001b[38;5;28;01mNone\u001b[39;00m \u001b[38;5;129;01mand\u001b[39;00m \u001b[38;5;28mself\u001b[39m\u001b[38;5;241m.\u001b[39mhandle_unknown \u001b[38;5;129;01min\u001b[39;00m {\n\u001b[0;32m   1013\u001b[0m     \u001b[38;5;124m\"\u001b[39m\u001b[38;5;124mignore\u001b[39m\u001b[38;5;124m\"\u001b[39m,\n\u001b[0;32m   1014\u001b[0m     \u001b[38;5;124m\"\u001b[39m\u001b[38;5;124minfrequent_if_exist\u001b[39m\u001b[38;5;124m\"\u001b[39m,\n\u001b[0;32m   1015\u001b[0m }\n\u001b[1;32m-> 1016\u001b[0m X_int, X_mask \u001b[38;5;241m=\u001b[39m \u001b[38;5;28;43mself\u001b[39;49m\u001b[38;5;241;43m.\u001b[39;49m\u001b[43m_transform\u001b[49m\u001b[43m(\u001b[49m\n\u001b[0;32m   1017\u001b[0m \u001b[43m    \u001b[49m\u001b[43mX\u001b[49m\u001b[43m,\u001b[49m\n\u001b[0;32m   1018\u001b[0m \u001b[43m    \u001b[49m\u001b[43mhandle_unknown\u001b[49m\u001b[38;5;241;43m=\u001b[39;49m\u001b[38;5;28;43mself\u001b[39;49m\u001b[38;5;241;43m.\u001b[39;49m\u001b[43mhandle_unknown\u001b[49m\u001b[43m,\u001b[49m\n\u001b[0;32m   1019\u001b[0m \u001b[43m    \u001b[49m\u001b[43mforce_all_finite\u001b[49m\u001b[38;5;241;43m=\u001b[39;49m\u001b[38;5;124;43m\"\u001b[39;49m\u001b[38;5;124;43mallow-nan\u001b[39;49m\u001b[38;5;124;43m\"\u001b[39;49m\u001b[43m,\u001b[49m\n\u001b[0;32m   1020\u001b[0m \u001b[43m    \u001b[49m\u001b[43mwarn_on_unknown\u001b[49m\u001b[38;5;241;43m=\u001b[39;49m\u001b[43mwarn_on_unknown\u001b[49m\u001b[43m,\u001b[49m\n\u001b[0;32m   1021\u001b[0m \u001b[43m\u001b[49m\u001b[43m)\u001b[49m\n\u001b[0;32m   1023\u001b[0m n_samples, n_features \u001b[38;5;241m=\u001b[39m X_int\u001b[38;5;241m.\u001b[39mshape\n\u001b[0;32m   1025\u001b[0m \u001b[38;5;28;01mif\u001b[39;00m \u001b[38;5;28mself\u001b[39m\u001b[38;5;241m.\u001b[39m_drop_idx_after_grouping \u001b[38;5;129;01mis\u001b[39;00m \u001b[38;5;129;01mnot\u001b[39;00m \u001b[38;5;28;01mNone\u001b[39;00m:\n",
      "File \u001b[1;32m~\\Desktop\\sample_project_1\\env\\lib\\site-packages\\sklearn\\preprocessing\\_encoders.py:199\u001b[0m, in \u001b[0;36m_BaseEncoder._transform\u001b[1;34m(self, X, handle_unknown, force_all_finite, warn_on_unknown, ignore_category_indices)\u001b[0m\n\u001b[0;32m    194\u001b[0m \u001b[38;5;28;01mif\u001b[39;00m handle_unknown \u001b[38;5;241m==\u001b[39m \u001b[38;5;124m\"\u001b[39m\u001b[38;5;124merror\u001b[39m\u001b[38;5;124m\"\u001b[39m:\n\u001b[0;32m    195\u001b[0m     msg \u001b[38;5;241m=\u001b[39m (\n\u001b[0;32m    196\u001b[0m         \u001b[38;5;124m\"\u001b[39m\u001b[38;5;124mFound unknown categories \u001b[39m\u001b[38;5;132;01m{0}\u001b[39;00m\u001b[38;5;124m in column \u001b[39m\u001b[38;5;132;01m{1}\u001b[39;00m\u001b[38;5;124m\"\u001b[39m\n\u001b[0;32m    197\u001b[0m         \u001b[38;5;124m\"\u001b[39m\u001b[38;5;124m during transform\u001b[39m\u001b[38;5;124m\"\u001b[39m\u001b[38;5;241m.\u001b[39mformat(diff, i)\n\u001b[0;32m    198\u001b[0m     )\n\u001b[1;32m--> 199\u001b[0m     \u001b[38;5;28;01mraise\u001b[39;00m \u001b[38;5;167;01mValueError\u001b[39;00m(msg)\n\u001b[0;32m    200\u001b[0m \u001b[38;5;28;01melse\u001b[39;00m:\n\u001b[0;32m    201\u001b[0m     \u001b[38;5;28;01mif\u001b[39;00m warn_on_unknown:\n",
      "\u001b[1;31mValueError\u001b[0m: Found unknown categories ['Red', 'Green'] in column 1 during transform"
     ]
    }
   ],
   "source": [
    "# Import OneHotEncoder class from sklearn\n",
    "from sklearn.preprocessing import OneHotEncoder\n",
    "\n",
    "# Now let's one hot encode the features with the same code as before \n",
    "categorical_features = [\"Make\", \"Colour\", \"Doors\"]\n",
    "one_hot = OneHotEncoder()\n",
    "transformer = ColumnTransformer([(\"one_hot\", \n",
    "                                 one_hot, \n",
    "                                 categorical_features)],\n",
    "                                 remainder=\"passthrough\")\n",
    "\n",
    "# Fill train and test values separately\n",
    "transformed_X_train = transformer.fit_transform(car_sales_filled_train) # fit and transform the training data\n",
    "transformed_X_test = transformer.transform(car_sales_filled_test) # transform the test data\n",
    "\n",
    "# Check transformed and filled X_train\n",
    "transformed_X_train.toarray()"
   ]
  },
  {
   "cell_type": "code",
   "execution_count": null,
   "id": "511d5dce-bd6a-4871-b9d3-bba354c8dbc2",
   "metadata": {},
   "outputs": [],
   "source": [
    "array([[0.00000e+00, 1.00000e+00, 0.00000e+00, ..., 1.00000e+00,\n",
    "        0.00000e+00, 7.19340e+04],\n",
    "       [0.00000e+00, 0.00000e+00, 0.00000e+00, ..., 1.00000e+00,\n",
    "        0.00000e+00, 1.62665e+05],\n",
    "       [0.00000e+00, 1.00000e+00, 0.00000e+00, ..., 1.00000e+00,\n",
    "        0.00000e+00, 4.28440e+04],\n",
    "       ...,\n",
    "       [0.00000e+00, 0.00000e+00, 0.00000e+00, ..., 1.00000e+00,\n",
    "        0.00000e+00, 1.96225e+05],\n",
    "       [0.00000e+00, 1.00000e+00, 0.00000e+00, ..., 1.00000e+00,\n",
    "        0.00000e+00, 1.33117e+05],\n",
    "       [0.00000e+00, 1.00000e+00, 0.00000e+00, ..., 1.00000e+00,\n",
    "        0.00000e+00, 1.50582e+05]])\n",
    "#this should be the output of the above code"
   ]
  },
  {
   "cell_type": "code",
   "execution_count": 85,
   "id": "4ca93855-0d9b-4778-a007-867a30ffdd46",
   "metadata": {},
   "outputs": [
    {
     "ename": "ValueError",
     "evalue": "could not convert string to float: '$4,000'",
     "output_type": "error",
     "traceback": [
      "\u001b[1;31m---------------------------------------------------------------------------\u001b[0m",
      "\u001b[1;31mValueError\u001b[0m                                Traceback (most recent call last)",
      "Cell \u001b[1;32mIn[85], line 9\u001b[0m\n\u001b[0;32m      6\u001b[0m model \u001b[38;5;241m=\u001b[39m RandomForestRegressor()\n\u001b[0;32m      8\u001b[0m \u001b[38;5;66;03m# Make sure to use transformed (filled and one-hot encoded X data)\u001b[39;00m\n\u001b[1;32m----> 9\u001b[0m \u001b[43mmodel\u001b[49m\u001b[38;5;241;43m.\u001b[39;49m\u001b[43mfit\u001b[49m\u001b[43m(\u001b[49m\u001b[43mtransformed_X_train\u001b[49m\u001b[43m,\u001b[49m\u001b[43m \u001b[49m\u001b[43mY_train\u001b[49m\u001b[43m)\u001b[49m\n\u001b[0;32m     10\u001b[0m model\u001b[38;5;241m.\u001b[39mscore(transformed_X_test, Y_test)\n",
      "File \u001b[1;32m~\\Desktop\\sample_project_1\\env\\lib\\site-packages\\sklearn\\base.py:1151\u001b[0m, in \u001b[0;36m_fit_context.<locals>.decorator.<locals>.wrapper\u001b[1;34m(estimator, *args, **kwargs)\u001b[0m\n\u001b[0;32m   1144\u001b[0m     estimator\u001b[38;5;241m.\u001b[39m_validate_params()\n\u001b[0;32m   1146\u001b[0m \u001b[38;5;28;01mwith\u001b[39;00m config_context(\n\u001b[0;32m   1147\u001b[0m     skip_parameter_validation\u001b[38;5;241m=\u001b[39m(\n\u001b[0;32m   1148\u001b[0m         prefer_skip_nested_validation \u001b[38;5;129;01mor\u001b[39;00m global_skip_validation\n\u001b[0;32m   1149\u001b[0m     )\n\u001b[0;32m   1150\u001b[0m ):\n\u001b[1;32m-> 1151\u001b[0m     \u001b[38;5;28;01mreturn\u001b[39;00m fit_method(estimator, \u001b[38;5;241m*\u001b[39margs, \u001b[38;5;241m*\u001b[39m\u001b[38;5;241m*\u001b[39mkwargs)\n",
      "File \u001b[1;32m~\\Desktop\\sample_project_1\\env\\lib\\site-packages\\sklearn\\ensemble\\_forest.py:393\u001b[0m, in \u001b[0;36mBaseForest.fit\u001b[1;34m(self, X, y, sample_weight)\u001b[0m\n\u001b[0;32m    390\u001b[0m y, expanded_class_weight \u001b[38;5;241m=\u001b[39m \u001b[38;5;28mself\u001b[39m\u001b[38;5;241m.\u001b[39m_validate_y_class_weight(y)\n\u001b[0;32m    392\u001b[0m \u001b[38;5;28;01mif\u001b[39;00m \u001b[38;5;28mgetattr\u001b[39m(y, \u001b[38;5;124m\"\u001b[39m\u001b[38;5;124mdtype\u001b[39m\u001b[38;5;124m\"\u001b[39m, \u001b[38;5;28;01mNone\u001b[39;00m) \u001b[38;5;241m!=\u001b[39m DOUBLE \u001b[38;5;129;01mor\u001b[39;00m \u001b[38;5;129;01mnot\u001b[39;00m y\u001b[38;5;241m.\u001b[39mflags\u001b[38;5;241m.\u001b[39mcontiguous:\n\u001b[1;32m--> 393\u001b[0m     y \u001b[38;5;241m=\u001b[39m \u001b[43mnp\u001b[49m\u001b[38;5;241;43m.\u001b[39;49m\u001b[43mascontiguousarray\u001b[49m\u001b[43m(\u001b[49m\u001b[43my\u001b[49m\u001b[43m,\u001b[49m\u001b[43m \u001b[49m\u001b[43mdtype\u001b[49m\u001b[38;5;241;43m=\u001b[39;49m\u001b[43mDOUBLE\u001b[49m\u001b[43m)\u001b[49m\n\u001b[0;32m    395\u001b[0m \u001b[38;5;28;01mif\u001b[39;00m expanded_class_weight \u001b[38;5;129;01mis\u001b[39;00m \u001b[38;5;129;01mnot\u001b[39;00m \u001b[38;5;28;01mNone\u001b[39;00m:\n\u001b[0;32m    396\u001b[0m     \u001b[38;5;28;01mif\u001b[39;00m sample_weight \u001b[38;5;129;01mis\u001b[39;00m \u001b[38;5;129;01mnot\u001b[39;00m \u001b[38;5;28;01mNone\u001b[39;00m:\n",
      "\u001b[1;31mValueError\u001b[0m: could not convert string to float: '$4,000'"
     ]
    }
   ],
   "source": [
    "# Now we've transformed X, let's see if we can fit a model\n",
    "np.random.seed(42)\n",
    "from sklearn.ensemble import RandomForestRegressor\n",
    "\n",
    "# Setup model\n",
    "model = RandomForestRegressor()\n",
    "\n",
    "# Make sure to use transformed (filled and one-hot encoded X data)\n",
    "model.fit(transformed_X_train, Y_train)\n",
    "model.score(transformed_X_test, Y_test)"
   ]
  },
  {
   "cell_type": "code",
   "execution_count": null,
   "id": "32362124-f065-4648-a02b-08bc3eb8b4b3",
   "metadata": {},
   "outputs": [],
   "source": [
    "#the above should give the result 0.21229043336119102"
   ]
  },
  {
   "cell_type": "code",
   "execution_count": null,
   "id": "09d4c90b-f315-4f61-a851-3b0f8aa37c7b",
   "metadata": {},
   "outputs": [],
   "source": [
    "#debug these errors later"
   ]
  },
  {
   "cell_type": "code",
   "execution_count": null,
   "id": "8a732cf5-416e-4f33-a938-aa39f762cea2",
   "metadata": {},
   "outputs": [],
   "source": []
  },
  {
   "cell_type": "code",
   "execution_count": null,
   "id": "a9de40af-d0ab-4d1c-9266-5927ab296306",
   "metadata": {},
   "outputs": [],
   "source": []
  },
  {
   "cell_type": "code",
   "execution_count": null,
   "id": "56ec1539-2aa1-457e-8e3c-142be3bbd4fc",
   "metadata": {},
   "outputs": [],
   "source": []
  },
  {
   "cell_type": "code",
   "execution_count": null,
   "id": "61d5b849-5c06-4383-97aa-97265d74190f",
   "metadata": {},
   "outputs": [],
   "source": []
  },
  {
   "cell_type": "code",
   "execution_count": null,
   "id": "f53f1d00-2bba-4e24-8cc9-25052a665b86",
   "metadata": {},
   "outputs": [],
   "source": []
  },
  {
   "cell_type": "code",
   "execution_count": null,
   "id": "f1e4e592-6ecd-402e-ab5d-62a0e3a13133",
   "metadata": {},
   "outputs": [],
   "source": []
  },
  {
   "cell_type": "code",
   "execution_count": null,
   "id": "212233b7-413e-437c-b701-9151e714c35a",
   "metadata": {},
   "outputs": [],
   "source": []
  },
  {
   "cell_type": "code",
   "execution_count": null,
   "id": "e5f282c9-0a5f-49f4-b492-83bd4e65de15",
   "metadata": {},
   "outputs": [],
   "source": []
  },
  {
   "cell_type": "code",
   "execution_count": null,
   "id": "da5213a4-1729-4b50-adfa-267d3d8ef0fc",
   "metadata": {},
   "outputs": [],
   "source": []
  },
  {
   "cell_type": "code",
   "execution_count": null,
   "id": "ac42e382-4dfe-4239-b0af-7e504916e05a",
   "metadata": {},
   "outputs": [],
   "source": []
  },
  {
   "cell_type": "code",
   "execution_count": null,
   "id": "3138a589-e23b-4d5b-800a-841680f760ff",
   "metadata": {},
   "outputs": [],
   "source": []
  },
  {
   "cell_type": "code",
   "execution_count": null,
   "id": "2f3e57b6-5c08-4387-9dca-4366a4309cb1",
   "metadata": {},
   "outputs": [],
   "source": []
  },
  {
   "cell_type": "code",
   "execution_count": null,
   "id": "c74e3a07-42da-4ab3-af10-9efe034bfa55",
   "metadata": {},
   "outputs": [],
   "source": []
  },
  {
   "cell_type": "code",
   "execution_count": null,
   "id": "ddd55e4d-6a66-41a4-870d-ed6b5793ba4e",
   "metadata": {},
   "outputs": [],
   "source": []
  },
  {
   "cell_type": "code",
   "execution_count": null,
   "id": "3615c97c-b7f8-4271-bdea-8c7b452e49a8",
   "metadata": {},
   "outputs": [],
   "source": []
  },
  {
   "cell_type": "code",
   "execution_count": null,
   "id": "fc4ef544-610e-42c5-a216-f428b7f260b1",
   "metadata": {},
   "outputs": [],
   "source": []
  },
  {
   "cell_type": "code",
   "execution_count": null,
   "id": "08bd55b5-84d2-47b5-b7ca-c971e749e493",
   "metadata": {},
   "outputs": [],
   "source": []
  },
  {
   "cell_type": "code",
   "execution_count": null,
   "id": "30f487ef-f88e-41c5-a905-a5147713bdbd",
   "metadata": {},
   "outputs": [],
   "source": []
  },
  {
   "cell_type": "code",
   "execution_count": null,
   "id": "933c955f-a1bd-4451-840a-ccf53a71b6b4",
   "metadata": {},
   "outputs": [],
   "source": []
  },
  {
   "cell_type": "code",
   "execution_count": null,
   "id": "97ac888b-e24c-4b33-a2ab-52f8842de6a3",
   "metadata": {},
   "outputs": [],
   "source": []
  },
  {
   "cell_type": "code",
   "execution_count": null,
   "id": "24e81b47-9e17-48e6-92e8-0e410487aab9",
   "metadata": {},
   "outputs": [],
   "source": []
  },
  {
   "cell_type": "code",
   "execution_count": null,
   "id": "bb6ede62-656f-456b-bc15-2b6e0d333b1c",
   "metadata": {},
   "outputs": [],
   "source": []
  },
  {
   "cell_type": "code",
   "execution_count": null,
   "id": "62f53f62-1ced-4ce6-9fba-c489747faed8",
   "metadata": {},
   "outputs": [],
   "source": []
  },
  {
   "cell_type": "code",
   "execution_count": null,
   "id": "7e04837a-d036-456c-9668-f66e789f75c1",
   "metadata": {},
   "outputs": [],
   "source": []
  },
  {
   "cell_type": "code",
   "execution_count": null,
   "id": "5f3fd09a-691e-4ef7-b785-1ff1ee182292",
   "metadata": {},
   "outputs": [],
   "source": []
  },
  {
   "cell_type": "code",
   "execution_count": null,
   "id": "2bc5f1f5-6a24-46af-a108-4c2e49e468af",
   "metadata": {},
   "outputs": [],
   "source": []
  },
  {
   "cell_type": "code",
   "execution_count": null,
   "id": "dd78bf25-d142-4f0e-9cbc-e76d2e4dc63d",
   "metadata": {},
   "outputs": [],
   "source": []
  },
  {
   "cell_type": "code",
   "execution_count": null,
   "id": "60ba016e-065e-425c-acc0-34c18ad21a7f",
   "metadata": {},
   "outputs": [],
   "source": []
  },
  {
   "cell_type": "code",
   "execution_count": null,
   "id": "f64a7f48-d7cd-405d-b3ea-7682b2128d38",
   "metadata": {},
   "outputs": [],
   "source": []
  },
  {
   "cell_type": "code",
   "execution_count": null,
   "id": "4509e368-3933-4171-81a4-e2f3e07488e5",
   "metadata": {},
   "outputs": [],
   "source": []
  },
  {
   "cell_type": "code",
   "execution_count": null,
   "id": "674a1ee5-d005-4204-af59-5271ac3fa982",
   "metadata": {},
   "outputs": [],
   "source": []
  },
  {
   "cell_type": "code",
   "execution_count": null,
   "id": "4911c9b0-2f7c-4571-a2fe-8c3a7221aa49",
   "metadata": {},
   "outputs": [],
   "source": []
  },
  {
   "cell_type": "code",
   "execution_count": null,
   "id": "52a1cc60-e8cd-4a26-97f3-3367e24e6df3",
   "metadata": {},
   "outputs": [],
   "source": []
  },
  {
   "cell_type": "code",
   "execution_count": null,
   "id": "f2e69dec-3d2f-4b1c-9c23-79a974ae614a",
   "metadata": {},
   "outputs": [],
   "source": []
  },
  {
   "cell_type": "code",
   "execution_count": null,
   "id": "f77a6117-df07-42fb-a093-3755b5f35ece",
   "metadata": {},
   "outputs": [],
   "source": []
  },
  {
   "cell_type": "code",
   "execution_count": null,
   "id": "bdfd2345-ac0a-4810-9ef1-be85d797d4a1",
   "metadata": {},
   "outputs": [],
   "source": []
  },
  {
   "cell_type": "code",
   "execution_count": null,
   "id": "40195f48-e2dc-4c6b-b628-6d4e3d6245e2",
   "metadata": {},
   "outputs": [],
   "source": []
  },
  {
   "cell_type": "code",
   "execution_count": null,
   "id": "9271b245-b370-4c08-b880-cfe4a5e3e705",
   "metadata": {},
   "outputs": [],
   "source": []
  },
  {
   "cell_type": "code",
   "execution_count": null,
   "id": "5b369703-e629-4ec7-8256-3a2d7beb71e0",
   "metadata": {},
   "outputs": [],
   "source": []
  },
  {
   "cell_type": "code",
   "execution_count": null,
   "id": "d631da13-c997-4219-8e79-382e8c90ef4a",
   "metadata": {},
   "outputs": [],
   "source": []
  },
  {
   "cell_type": "code",
   "execution_count": null,
   "id": "7babfdc9-45da-4b79-a285-a91b6d544a81",
   "metadata": {},
   "outputs": [],
   "source": []
  },
  {
   "cell_type": "code",
   "execution_count": null,
   "id": "d6abd391-4fde-4d53-bc98-9b1fd270c8b8",
   "metadata": {},
   "outputs": [],
   "source": []
  },
  {
   "cell_type": "code",
   "execution_count": null,
   "id": "1c0ef9bc-d48d-4ed1-8b2a-95cbe4ff386c",
   "metadata": {},
   "outputs": [],
   "source": []
  },
  {
   "cell_type": "code",
   "execution_count": null,
   "id": "7c945e53-0343-48be-9078-d3c074c40ed6",
   "metadata": {},
   "outputs": [],
   "source": []
  },
  {
   "cell_type": "code",
   "execution_count": null,
   "id": "f8e77913-5b28-40e2-8b9c-df9086bb47c5",
   "metadata": {},
   "outputs": [],
   "source": []
  },
  {
   "cell_type": "code",
   "execution_count": null,
   "id": "35b2fe43-ec02-417f-b7c9-7b7b17cccd23",
   "metadata": {},
   "outputs": [],
   "source": []
  },
  {
   "cell_type": "code",
   "execution_count": null,
   "id": "52970ea3-86f1-45e7-9077-ddbd5cd1eb55",
   "metadata": {},
   "outputs": [],
   "source": []
  },
  {
   "cell_type": "code",
   "execution_count": null,
   "id": "831b18ec-be6e-466e-9459-8280c6430571",
   "metadata": {},
   "outputs": [],
   "source": []
  },
  {
   "cell_type": "code",
   "execution_count": null,
   "id": "803735dc-4c56-4275-acb8-107dd6e00f46",
   "metadata": {},
   "outputs": [],
   "source": []
  },
  {
   "cell_type": "code",
   "execution_count": null,
   "id": "53463344-fd0a-401a-a479-38250b388731",
   "metadata": {},
   "outputs": [],
   "source": []
  },
  {
   "cell_type": "code",
   "execution_count": null,
   "id": "8904e85e-f8ce-4e05-8d82-d8aba67aac04",
   "metadata": {},
   "outputs": [],
   "source": []
  },
  {
   "cell_type": "code",
   "execution_count": null,
   "id": "f463ce10-e229-4d9e-a83a-169028f4c71f",
   "metadata": {},
   "outputs": [],
   "source": []
  },
  {
   "cell_type": "code",
   "execution_count": null,
   "id": "ed82023e-9a86-405d-a231-e4e188c49f4c",
   "metadata": {},
   "outputs": [],
   "source": []
  },
  {
   "cell_type": "code",
   "execution_count": null,
   "id": "86513502-3a3c-4fe4-af80-a6ffa28e040d",
   "metadata": {},
   "outputs": [],
   "source": []
  },
  {
   "cell_type": "code",
   "execution_count": null,
   "id": "bcbdee61-d160-4485-b9b0-6b6ef992499c",
   "metadata": {},
   "outputs": [],
   "source": []
  },
  {
   "cell_type": "code",
   "execution_count": null,
   "id": "c3fbe901-0847-4804-9f56-89d3aa048c79",
   "metadata": {},
   "outputs": [],
   "source": []
  },
  {
   "cell_type": "code",
   "execution_count": null,
   "id": "3d83fe3d-ac37-495c-9eff-41ab2324c632",
   "metadata": {},
   "outputs": [],
   "source": []
  },
  {
   "cell_type": "code",
   "execution_count": null,
   "id": "8cd01607-df46-4d94-9a92-cd99ddba2b41",
   "metadata": {},
   "outputs": [],
   "source": []
  },
  {
   "cell_type": "code",
   "execution_count": null,
   "id": "fe788ead-7cad-4b85-8d1a-23ff43e7b8a0",
   "metadata": {},
   "outputs": [],
   "source": []
  },
  {
   "cell_type": "code",
   "execution_count": null,
   "id": "47986c10-5f91-4793-8187-d9b784d850b0",
   "metadata": {},
   "outputs": [],
   "source": []
  },
  {
   "cell_type": "code",
   "execution_count": null,
   "id": "e103c0a2-d100-4de7-bbdb-22f4bbe24ced",
   "metadata": {},
   "outputs": [],
   "source": []
  },
  {
   "cell_type": "code",
   "execution_count": null,
   "id": "033913fc-8129-4208-bed5-36cf7b2e6d03",
   "metadata": {},
   "outputs": [],
   "source": []
  },
  {
   "cell_type": "code",
   "execution_count": null,
   "id": "fb6a83ca-65e8-4968-8073-c81cfb3e6b1e",
   "metadata": {},
   "outputs": [],
   "source": []
  },
  {
   "cell_type": "code",
   "execution_count": null,
   "id": "e5bf3d7e-da3d-4665-8441-174a1e9682d7",
   "metadata": {},
   "outputs": [],
   "source": []
  },
  {
   "cell_type": "code",
   "execution_count": null,
   "id": "1a947b6f-26ff-4ffd-a91f-2bc4cdbbe084",
   "metadata": {},
   "outputs": [],
   "source": []
  },
  {
   "cell_type": "code",
   "execution_count": null,
   "id": "5c55e097-ba70-4b2b-818e-178440ac47ae",
   "metadata": {},
   "outputs": [],
   "source": []
  },
  {
   "cell_type": "code",
   "execution_count": null,
   "id": "a9c8412d-31f0-4614-881b-ac96eb40229e",
   "metadata": {},
   "outputs": [],
   "source": []
  },
  {
   "cell_type": "code",
   "execution_count": null,
   "id": "0277583a-55ef-4ebd-8c13-e05640a562bb",
   "metadata": {},
   "outputs": [],
   "source": []
  },
  {
   "cell_type": "code",
   "execution_count": null,
   "id": "27504768-77d6-45cb-a00c-59754083ae96",
   "metadata": {},
   "outputs": [],
   "source": []
  },
  {
   "cell_type": "code",
   "execution_count": null,
   "id": "53695c07-6286-40da-906c-fc98349d8ab2",
   "metadata": {},
   "outputs": [],
   "source": []
  },
  {
   "cell_type": "code",
   "execution_count": null,
   "id": "e384608f-b169-44c0-b826-cc372c6e75e7",
   "metadata": {},
   "outputs": [],
   "source": []
  },
  {
   "cell_type": "code",
   "execution_count": null,
   "id": "97e2142c-6e21-4b75-84fe-b93c1effd823",
   "metadata": {},
   "outputs": [],
   "source": []
  },
  {
   "cell_type": "code",
   "execution_count": null,
   "id": "d4b5efb0-b172-4091-b77e-4f008d65821b",
   "metadata": {},
   "outputs": [],
   "source": []
  },
  {
   "cell_type": "code",
   "execution_count": null,
   "id": "a95457ab-c0dd-443f-8d47-401aee448e7d",
   "metadata": {},
   "outputs": [],
   "source": []
  },
  {
   "cell_type": "code",
   "execution_count": null,
   "id": "1a178aad-4f73-4282-9975-0a1fd4e775d2",
   "metadata": {},
   "outputs": [],
   "source": []
  },
  {
   "cell_type": "code",
   "execution_count": null,
   "id": "b343205b-e833-408c-87d2-74e74d7b37bf",
   "metadata": {},
   "outputs": [],
   "source": []
  },
  {
   "cell_type": "code",
   "execution_count": null,
   "id": "66a019ae-1942-4bb8-82e1-57c9a3ca95a2",
   "metadata": {},
   "outputs": [],
   "source": []
  },
  {
   "cell_type": "code",
   "execution_count": null,
   "id": "d49010fa-3c2e-4898-9648-90c616d6537a",
   "metadata": {},
   "outputs": [],
   "source": []
  },
  {
   "cell_type": "code",
   "execution_count": null,
   "id": "3f529626-2a77-4068-a452-a336d4d31040",
   "metadata": {},
   "outputs": [],
   "source": []
  },
  {
   "cell_type": "code",
   "execution_count": null,
   "id": "e0f7836b-0984-40b5-a816-6ea4add2a02e",
   "metadata": {},
   "outputs": [],
   "source": []
  },
  {
   "cell_type": "code",
   "execution_count": null,
   "id": "6b668d70-fabc-42ae-a2cc-fb2f2b631c2b",
   "metadata": {},
   "outputs": [],
   "source": []
  },
  {
   "cell_type": "code",
   "execution_count": null,
   "id": "7103a308-2da6-4771-ad37-772784805535",
   "metadata": {},
   "outputs": [],
   "source": []
  },
  {
   "cell_type": "code",
   "execution_count": null,
   "id": "9cfed451-d223-40b5-8e1b-4b0f14852318",
   "metadata": {},
   "outputs": [],
   "source": []
  },
  {
   "cell_type": "code",
   "execution_count": null,
   "id": "9ed04df8-69e8-4a3b-9a14-4e3c52478fd6",
   "metadata": {},
   "outputs": [],
   "source": []
  },
  {
   "cell_type": "code",
   "execution_count": null,
   "id": "b38d8894-7c24-49f4-bde4-1e05a416f87e",
   "metadata": {},
   "outputs": [],
   "source": []
  },
  {
   "cell_type": "code",
   "execution_count": null,
   "id": "c0c62fff-572a-40ca-8923-7c49e91c0f72",
   "metadata": {},
   "outputs": [],
   "source": []
  },
  {
   "cell_type": "code",
   "execution_count": null,
   "id": "d65f50a4-c388-485a-8a2e-f744e43c74bb",
   "metadata": {},
   "outputs": [],
   "source": []
  },
  {
   "cell_type": "code",
   "execution_count": null,
   "id": "7b28892f-5ba7-4cf6-a484-432f4088b397",
   "metadata": {},
   "outputs": [],
   "source": []
  },
  {
   "cell_type": "code",
   "execution_count": null,
   "id": "a1be33c8-d0d0-425a-ab71-5a0c9a997dbe",
   "metadata": {},
   "outputs": [],
   "source": []
  },
  {
   "cell_type": "code",
   "execution_count": null,
   "id": "dc425ccd-8bf3-4efc-9bb0-0e6f6629a883",
   "metadata": {},
   "outputs": [],
   "source": []
  },
  {
   "cell_type": "code",
   "execution_count": null,
   "id": "eca48ea1-2c79-4e6a-95ff-7cddf0602df7",
   "metadata": {},
   "outputs": [],
   "source": []
  },
  {
   "cell_type": "code",
   "execution_count": null,
   "id": "33d97a69-f612-4320-88e5-fe26f3257e9a",
   "metadata": {},
   "outputs": [],
   "source": []
  },
  {
   "cell_type": "code",
   "execution_count": null,
   "id": "e7b9bdd0-0d54-4ee7-85fd-8deb92afa50f",
   "metadata": {},
   "outputs": [],
   "source": []
  },
  {
   "cell_type": "code",
   "execution_count": null,
   "id": "c1316ca4-07d0-4af1-b109-0dc0cc0809ea",
   "metadata": {},
   "outputs": [],
   "source": []
  },
  {
   "cell_type": "code",
   "execution_count": null,
   "id": "5bcc0a5e-630b-4660-ab38-42aab37a19ad",
   "metadata": {},
   "outputs": [],
   "source": []
  },
  {
   "cell_type": "code",
   "execution_count": null,
   "id": "1e397540-ad7a-4ab5-aeec-061ad756283d",
   "metadata": {},
   "outputs": [],
   "source": []
  },
  {
   "cell_type": "code",
   "execution_count": null,
   "id": "4c5212d8-fd55-4464-9d48-0f4551605ac4",
   "metadata": {},
   "outputs": [],
   "source": []
  },
  {
   "cell_type": "code",
   "execution_count": null,
   "id": "b3a1762f-8a85-499f-b211-1c97b7a93fa1",
   "metadata": {},
   "outputs": [],
   "source": []
  },
  {
   "cell_type": "code",
   "execution_count": null,
   "id": "bbd9e10c-777c-479b-abe8-cd2b3c717c1a",
   "metadata": {},
   "outputs": [],
   "source": []
  },
  {
   "cell_type": "code",
   "execution_count": null,
   "id": "141f43ad-072b-4308-bf6b-2d414ea3f442",
   "metadata": {},
   "outputs": [],
   "source": []
  },
  {
   "cell_type": "code",
   "execution_count": null,
   "id": "47200609-5b40-427b-a1f8-9733017abf36",
   "metadata": {},
   "outputs": [],
   "source": []
  },
  {
   "cell_type": "code",
   "execution_count": null,
   "id": "6ba88bfc-d01f-41c6-9ec6-f239042f8a14",
   "metadata": {},
   "outputs": [],
   "source": []
  },
  {
   "cell_type": "code",
   "execution_count": null,
   "id": "375be2ed-abb5-4b3d-982b-79b2afc1a8c8",
   "metadata": {},
   "outputs": [],
   "source": []
  },
  {
   "cell_type": "code",
   "execution_count": null,
   "id": "edd0519d-e5c1-47a9-aa27-7d9e05a452df",
   "metadata": {},
   "outputs": [],
   "source": []
  },
  {
   "cell_type": "code",
   "execution_count": null,
   "id": "2d73502d-6343-4271-b520-f03cac6fdea0",
   "metadata": {},
   "outputs": [],
   "source": []
  },
  {
   "cell_type": "code",
   "execution_count": null,
   "id": "189d89b6-8308-4f80-81e3-1c73e65f84f8",
   "metadata": {},
   "outputs": [],
   "source": []
  },
  {
   "cell_type": "code",
   "execution_count": null,
   "id": "214c6a59-4025-4406-8214-75feee0eb276",
   "metadata": {},
   "outputs": [],
   "source": []
  },
  {
   "cell_type": "code",
   "execution_count": null,
   "id": "79958d14-f6df-4983-af11-411b69e0bdcf",
   "metadata": {},
   "outputs": [],
   "source": []
  },
  {
   "cell_type": "code",
   "execution_count": null,
   "id": "5e0bd7fe-677f-4a24-9bb9-3f01b696dc2b",
   "metadata": {},
   "outputs": [],
   "source": []
  },
  {
   "cell_type": "code",
   "execution_count": null,
   "id": "38dd4ac1-07c4-4e15-b821-09c8a6521c78",
   "metadata": {},
   "outputs": [],
   "source": []
  },
  {
   "cell_type": "code",
   "execution_count": null,
   "id": "38fbd5eb-e956-4757-b249-c838e3b3698c",
   "metadata": {},
   "outputs": [],
   "source": []
  },
  {
   "cell_type": "code",
   "execution_count": null,
   "id": "598f8018-035f-4d59-9659-4fcf2f572292",
   "metadata": {},
   "outputs": [],
   "source": []
  },
  {
   "cell_type": "code",
   "execution_count": null,
   "id": "56273a5c-bde9-4b94-b915-6ce96d38c08b",
   "metadata": {},
   "outputs": [],
   "source": []
  },
  {
   "cell_type": "code",
   "execution_count": null,
   "id": "5719ebe8-06ee-4fcd-a7e3-324bb620e8bc",
   "metadata": {},
   "outputs": [],
   "source": []
  },
  {
   "cell_type": "code",
   "execution_count": null,
   "id": "b746b25a-d556-4f45-b024-f802e899c2bb",
   "metadata": {},
   "outputs": [],
   "source": []
  },
  {
   "cell_type": "code",
   "execution_count": null,
   "id": "d6f9a4a6-83ff-4d5b-8d77-ccc5b0adce2e",
   "metadata": {},
   "outputs": [],
   "source": []
  },
  {
   "cell_type": "code",
   "execution_count": null,
   "id": "fd76fb6c-b94a-4d00-a719-be2a7201d380",
   "metadata": {},
   "outputs": [],
   "source": []
  },
  {
   "cell_type": "code",
   "execution_count": null,
   "id": "daac31a2-99fc-49d9-b09d-66af0d8bb258",
   "metadata": {},
   "outputs": [],
   "source": []
  },
  {
   "cell_type": "code",
   "execution_count": null,
   "id": "8cefae33-d9c5-4dfc-b8bd-bc97270b7bf5",
   "metadata": {},
   "outputs": [],
   "source": []
  }
 ],
 "metadata": {
  "kernelspec": {
   "display_name": "Python 3 (ipykernel)",
   "language": "python",
   "name": "python3"
  },
  "language_info": {
   "codemirror_mode": {
    "name": "ipython",
    "version": 3
   },
   "file_extension": ".py",
   "mimetype": "text/x-python",
   "name": "python",
   "nbconvert_exporter": "python",
   "pygments_lexer": "ipython3",
   "version": "3.10.13"
  }
 },
 "nbformat": 4,
 "nbformat_minor": 5
}
